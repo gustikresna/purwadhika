{
 "metadata": {
  "language_info": {
   "codemirror_mode": {
    "name": "ipython",
    "version": 3
   },
   "file_extension": ".py",
   "mimetype": "text/x-python",
   "name": "python",
   "nbconvert_exporter": "python",
   "pygments_lexer": "ipython3",
   "version": "3.9.1-final"
  },
  "orig_nbformat": 2,
  "kernelspec": {
   "name": "python3",
   "display_name": "Python 3.9.1 64-bit",
   "metadata": {
    "interpreter": {
     "hash": "aee8b7b246df8f9039afb4144a1f6fd8d2ca17a180786b69acc140d282b71a49"
    }
   }
  }
 },
 "nbformat": 4,
 "nbformat_minor": 2,
 "cells": [
  {
   "cell_type": "code",
   "execution_count": 1,
   "metadata": {},
   "outputs": [],
   "source": [
    "import numpy as np"
   ]
  },
  {
   "cell_type": "code",
   "execution_count": 3,
   "metadata": {},
   "outputs": [
    {
     "output_type": "stream",
     "name": "stdout",
     "text": [
      "[1, 2, 3]\n<class 'list'>\n<class 'numpy.ndarray'>\n"
     ]
    }
   ],
   "source": [
    "a = [1,2,3]\n",
    "print(a)\n",
    "print(type(a))\n",
    "b = np.array(a)\n",
    "print(type(b))"
   ]
  },
  {
   "cell_type": "code",
   "execution_count": 4,
   "metadata": {},
   "outputs": [
    {
     "output_type": "execute_result",
     "data": {
      "text/plain": [
       "array([[1, 2, 3],\n",
       "       [4, 5, 6],\n",
       "       [7, 8, 9]])"
      ]
     },
     "metadata": {},
     "execution_count": 4
    }
   ],
   "source": [
    "c = [[1,2,3],[4,5,6],[7,8,9]]\n",
    "np.array(c)"
   ]
  },
  {
   "cell_type": "code",
   "execution_count": 14,
   "metadata": {},
   "outputs": [
    {
     "output_type": "execute_result",
     "data": {
      "text/plain": [
       "array([0, 1, 2, 3, 4, 5, 6, 7, 8, 9])"
      ]
     },
     "metadata": {},
     "execution_count": 14
    }
   ],
   "source": [
    "np.arange(10)"
   ]
  },
  {
   "cell_type": "code",
   "execution_count": 15,
   "metadata": {},
   "outputs": [
    {
     "output_type": "execute_result",
     "data": {
      "text/plain": [
       "array([0, 2, 4, 6, 8])"
      ]
     },
     "metadata": {},
     "execution_count": 15
    }
   ],
   "source": [
    "np.arange(0,10,2)"
   ]
  },
  {
   "cell_type": "code",
   "execution_count": 8,
   "metadata": {},
   "outputs": [
    {
     "output_type": "stream",
     "name": "stdout",
     "text": [
      "[[1. 1. 1.]\n [1. 1. 1.]\n [1. 1. 1.]]\n[0. 0. 0. 0. 0.]\n"
     ]
    },
    {
     "output_type": "execute_result",
     "data": {
      "text/plain": [
       "numpy.ndarray"
      ]
     },
     "metadata": {},
     "execution_count": 8
    }
   ],
   "source": [
    "x = np.ones((3,3))\n",
    "y = np.zeros(5)\n",
    "print(x)\n",
    "print(y)\n",
    "type(x[0])"
   ]
  },
  {
   "cell_type": "code",
   "execution_count": 6,
   "metadata": {},
   "outputs": [
    {
     "output_type": "execute_result",
     "data": {
      "text/plain": [
       "array([[1., 0., 0., 0.],\n",
       "       [0., 1., 0., 0.],\n",
       "       [0., 0., 1., 0.],\n",
       "       [0., 0., 0., 1.]])"
      ]
     },
     "metadata": {},
     "execution_count": 6
    }
   ],
   "source": [
    "np.eye(4)"
   ]
  },
  {
   "cell_type": "code",
   "execution_count": 9,
   "metadata": {},
   "outputs": [
    {
     "output_type": "execute_result",
     "data": {
      "text/plain": [
       "array([ 0.        ,  1.05263158,  2.10526316,  3.15789474,  4.21052632,\n",
       "        5.26315789,  6.31578947,  7.36842105,  8.42105263,  9.47368421,\n",
       "       10.52631579, 11.57894737, 12.63157895, 13.68421053, 14.73684211,\n",
       "       15.78947368, 16.84210526, 17.89473684, 18.94736842, 20.        ])"
      ]
     },
     "metadata": {},
     "execution_count": 9
    }
   ],
   "source": [
    "np.linspace(0, 20, 20)"
   ]
  },
  {
   "cell_type": "code",
   "execution_count": 21,
   "metadata": {},
   "outputs": [
    {
     "output_type": "execute_result",
     "data": {
      "text/plain": [
       "array([[0.26665402, 0.2557016 , 0.12146229, 0.9782168 , 0.87185789],\n",
       "       [0.91148976, 0.67676202, 0.48403543, 0.16447021, 0.53112227],\n",
       "       [0.30996112, 0.24573107, 0.40127344, 0.19911401, 0.52668009],\n",
       "       [0.61898747, 0.15242868, 0.68829193, 0.51713273, 0.96721378],\n",
       "       [0.83072339, 0.49807545, 0.29868463, 0.48020268, 0.57142213]])"
      ]
     },
     "metadata": {},
     "execution_count": 21
    }
   ],
   "source": [
    "np.random.rand(5,5)"
   ]
  },
  {
   "cell_type": "code",
   "execution_count": 22,
   "metadata": {},
   "outputs": [
    {
     "output_type": "execute_result",
     "data": {
      "text/plain": [
       "array([[-0.52994355,  1.87886488,  0.31633163, -0.34604706,  0.09878415],\n",
       "       [ 0.7068423 , -0.56157063,  1.92493622, -1.23411169,  0.22583761],\n",
       "       [ 2.52556841,  0.18972739, -2.02343556,  0.71803966,  0.31875138],\n",
       "       [ 0.81061181, -1.45831389,  0.44844289, -1.6045819 , -0.01689687],\n",
       "       [ 2.00647075, -0.64674698, -0.33384634,  0.95080417,  1.04977011]])"
      ]
     },
     "metadata": {},
     "execution_count": 22
    }
   ],
   "source": [
    "np.random.randn(5,5)"
   ]
  },
  {
   "cell_type": "code",
   "execution_count": 23,
   "metadata": {},
   "outputs": [
    {
     "output_type": "execute_result",
     "data": {
      "text/plain": [
       "array([82, 49, 98, 48, 28])"
      ]
     },
     "metadata": {},
     "execution_count": 23
    }
   ],
   "source": [
    "np.random.randint(1,100,5)"
   ]
  },
  {
   "cell_type": "code",
   "execution_count": 13,
   "metadata": {},
   "outputs": [
    {
     "output_type": "stream",
     "name": "stdout",
     "text": [
      "(5,)\n(5, 10)\n"
     ]
    }
   ],
   "source": [
    "x = np.random.randint(0,10,5)\n",
    "print(x.shape)\n",
    "\n",
    "y = np.random.rand(5,10)\n",
    "print(y.shape)\n"
   ]
  },
  {
   "cell_type": "code",
   "execution_count": 25,
   "metadata": {},
   "outputs": [
    {
     "output_type": "execute_result",
     "data": {
      "text/plain": [
       "(10, 10)"
      ]
     },
     "metadata": {},
     "execution_count": 25
    }
   ],
   "source": [
    "y = np.random.randn(10,10)\n",
    "y.shape"
   ]
  },
  {
   "cell_type": "code",
   "execution_count": 31,
   "metadata": {},
   "outputs": [
    {
     "output_type": "execute_result",
     "data": {
      "text/plain": [
       "array([[ 0.        ,  2.22222222,  4.44444444,  6.66666667,  8.88888889],\n",
       "       [11.11111111, 13.33333333, 15.55555556, 17.77777778, 20.        ]])"
      ]
     },
     "metadata": {},
     "execution_count": 31
    }
   ],
   "source": [
    "z = np.linspace(0,20,10)\n",
    "z.shape\n",
    "z.reshape(2,5)"
   ]
  },
  {
   "cell_type": "code",
   "execution_count": 19,
   "metadata": {},
   "outputs": [
    {
     "output_type": "stream",
     "name": "stdout",
     "text": [
      "[[0.81314705 0.36604411 0.21152364 0.30986251 0.30543825]\n [0.45480002 0.93975351 0.74452441 0.17259224 0.86760439]\n [0.96439961 0.90063924 0.71668898 0.49324139 0.54644833]\n [0.08869401 0.90497768 0.53333217 0.99300006 0.56384192]\n [0.26838689 0.62363633 0.78543702 0.09317569 0.52862445]\n [0.76275375 0.68557572 0.14229147 0.88351185 0.53157665]\n [0.4050873  0.97624367 0.60461646 0.34137177 0.69085897]\n [0.18204386 0.53323947 0.40073192 0.464834   0.66743717]\n [0.98018374 0.13137713 0.16907249 0.69225811 0.84039696]\n [0.5075471  0.46121196 0.32955265 0.45541814 0.02290283]]\n(10, 5)\n"
     ]
    },
    {
     "output_type": "execute_result",
     "data": {
      "text/plain": [
       "array([[0.81314705, 0.36604411],\n",
       "       [0.21152364, 0.30986251],\n",
       "       [0.30543825, 0.45480002],\n",
       "       [0.93975351, 0.74452441],\n",
       "       [0.17259224, 0.86760439],\n",
       "       [0.96439961, 0.90063924],\n",
       "       [0.71668898, 0.49324139],\n",
       "       [0.54644833, 0.08869401],\n",
       "       [0.90497768, 0.53333217],\n",
       "       [0.99300006, 0.56384192],\n",
       "       [0.26838689, 0.62363633],\n",
       "       [0.78543702, 0.09317569],\n",
       "       [0.52862445, 0.76275375],\n",
       "       [0.68557572, 0.14229147],\n",
       "       [0.88351185, 0.53157665],\n",
       "       [0.4050873 , 0.97624367],\n",
       "       [0.60461646, 0.34137177],\n",
       "       [0.69085897, 0.18204386],\n",
       "       [0.53323947, 0.40073192],\n",
       "       [0.464834  , 0.66743717],\n",
       "       [0.98018374, 0.13137713],\n",
       "       [0.16907249, 0.69225811],\n",
       "       [0.84039696, 0.5075471 ],\n",
       "       [0.46121196, 0.32955265],\n",
       "       [0.45541814, 0.02290283]])"
      ]
     },
     "metadata": {},
     "execution_count": 19
    }
   ],
   "source": [
    "arr = np.random.rand(10,5)\n",
    "print(arr)\n",
    "print(arr.shape)\n",
    "\n",
    "arr.reshape(25,2)"
   ]
  },
  {
   "cell_type": "code",
   "execution_count": 20,
   "metadata": {},
   "outputs": [
    {
     "output_type": "stream",
     "name": "stdout",
     "text": [
      "(50,)\n"
     ]
    }
   ],
   "source": [
    "arr.reshape(-1)\n",
    "print(arr.reshape(-1).shape)"
   ]
  },
  {
   "cell_type": "code",
   "execution_count": 22,
   "metadata": {},
   "outputs": [
    {
     "output_type": "stream",
     "name": "stdout",
     "text": [
      "[90 77  2 32 14 16 84 28  7 62]\n90\n0\n2\n2\n"
     ]
    }
   ],
   "source": [
    "x = np.random.randint(1,100,10)\n",
    "print(x)\n",
    "print(x.max())\n",
    "print(x.argmax())\n",
    "print(x.min())\n",
    "print(x.argmin())"
   ]
  },
  {
   "cell_type": "code",
   "execution_count": 23,
   "metadata": {},
   "outputs": [
    {
     "output_type": "execute_result",
     "data": {
      "text/plain": [
       "dtype('int64')"
      ]
     },
     "metadata": {},
     "execution_count": 23
    }
   ],
   "source": [
    "x.dtype"
   ]
  },
  {
   "cell_type": "code",
   "execution_count": 25,
   "metadata": {},
   "outputs": [
    {
     "output_type": "execute_result",
     "data": {
      "text/plain": [
       "dtype('float64')"
      ]
     },
     "metadata": {},
     "execution_count": 25
    }
   ],
   "source": [
    "arr.dtype"
   ]
  },
  {
   "cell_type": "code",
   "execution_count": 7,
   "metadata": {},
   "outputs": [
    {
     "output_type": "stream",
     "name": "stdout",
     "text": [
      "[ 0  1  2  3  4  5  6  7  8  9 10]\n2\n[0 1 2 3 4 5 6]\n[1 4 7]\n"
     ]
    }
   ],
   "source": [
    "x = np.arange(0,11)\n",
    "print(x)\n",
    "print(x[2])\n",
    "print(x[:7])\n",
    "print(x[1:10:3])"
   ]
  },
  {
   "cell_type": "code",
   "execution_count": 9,
   "metadata": {},
   "outputs": [
    {
     "output_type": "execute_result",
     "data": {
      "text/plain": [
       "array([100, 100,   2,   3,   4,   5,   6,   7,   8,   9,  10])"
      ]
     },
     "metadata": {},
     "execution_count": 9
    }
   ],
   "source": [
    "x[0:2] = 100\n",
    "x"
   ]
  },
  {
   "cell_type": "code",
   "execution_count": 15,
   "metadata": {},
   "outputs": [
    {
     "output_type": "stream",
     "name": "stdout",
     "text": [
      "[20 20]\n[20 20  2  3  4  5  6  7  8  9 10]\n"
     ]
    }
   ],
   "source": [
    "x_slice = x[0:2]\n",
    "x_slice[:] = 20\n",
    "print(x_slice)\n",
    "print(x)\n"
   ]
  },
  {
   "cell_type": "code",
   "execution_count": 22,
   "metadata": {},
   "outputs": [
    {
     "output_type": "stream",
     "name": "stdout",
     "text": [
      "[20 20  2  3  4  5  6  7  8  9 10]\n[40 40]\n[20 20  2  3  4  5  6  7  8  9 10]\n"
     ]
    }
   ],
   "source": [
    "x_slice = x[0:2].copy()\n",
    "x_slice[:] = 40\n",
    "print(x)\n",
    "print(x_slice)\n",
    "print(x)"
   ]
  },
  {
   "cell_type": "code",
   "execution_count": 23,
   "metadata": {},
   "outputs": [
    {
     "output_type": "execute_result",
     "data": {
      "text/plain": [
       "array([20,  4,  2,  7, 20])"
      ]
     },
     "metadata": {},
     "execution_count": 23
    }
   ],
   "source": [
    "x[[0,4,2,7,1]]"
   ]
  },
  {
   "cell_type": "code",
   "execution_count": 25,
   "metadata": {},
   "outputs": [
    {
     "output_type": "stream",
     "name": "stdout",
     "text": [
      "[[ 5 10 15]\n [20 25 30]\n [35 40 45]]\n"
     ]
    },
    {
     "output_type": "execute_result",
     "data": {
      "text/plain": [
       "array([[20, 25, 30],\n",
       "       [35, 40, 45]])"
      ]
     },
     "metadata": {},
     "execution_count": 25
    }
   ],
   "source": [
    "arr_2d = np.array(([5,10,15],[20,25,30],[35,40,45]))\n",
    "print(arr_2d)\n",
    "arr_2d[[1,2]]"
   ]
  },
  {
   "cell_type": "code",
   "execution_count": 26,
   "metadata": {},
   "outputs": [
    {
     "output_type": "execute_result",
     "data": {
      "text/plain": [
       "array([ 5,  6,  7,  8,  9, 10])"
      ]
     },
     "metadata": {},
     "execution_count": 26
    }
   ],
   "source": [
    "arr = np.arange(1,11)\n",
    "arr[arr>4]"
   ]
  },
  {
   "cell_type": "code",
   "execution_count": 27,
   "metadata": {},
   "outputs": [
    {
     "output_type": "execute_result",
     "data": {
      "text/plain": [
       "array([ 3,  4,  5,  6,  7,  8,  9, 10])"
      ]
     },
     "metadata": {},
     "execution_count": 27
    }
   ],
   "source": [
    "x = 2\n",
    "arr[arr>x]"
   ]
  }
 ]
}