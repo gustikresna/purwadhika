{
 "metadata": {
  "language_info": {
   "codemirror_mode": {
    "name": "ipython",
    "version": 3
   },
   "file_extension": ".py",
   "mimetype": "text/x-python",
   "name": "python",
   "nbconvert_exporter": "python",
   "pygments_lexer": "ipython3",
   "version": "3.9.1"
  },
  "orig_nbformat": 2,
  "kernelspec": {
   "name": "python391jvsc74a57bd07812ea015bdcee6f23a998adcdd2ef97c151c0c241b7b7070987d9313e41299d",
   "display_name": "Python 3.9.1 64-bit"
  },
  "metadata": {
   "interpreter": {
    "hash": "7812ea015bdcee6f23a998adcdd2ef97c151c0c241b7b7070987d9313e41299d"
   }
  }
 },
 "nbformat": 4,
 "nbformat_minor": 2,
 "cells": [
  {
   "cell_type": "code",
   "execution_count": 1,
   "metadata": {},
   "outputs": [],
   "source": [
    "import mysql.connector\n",
    "import pandas as pd"
   ]
  },
  {
   "cell_type": "code",
   "execution_count": 2,
   "metadata": {},
   "outputs": [],
   "source": [
    "mydb = mysql.connector.connect(\n",
    "    host = 'localhost',\n",
    "    user = 'root',\n",
    "    passwd = '',\n",
    "    database = 'retrowheels'\n",
    ")"
   ]
  },
  {
   "cell_type": "code",
   "execution_count": 3,
   "metadata": {},
   "outputs": [],
   "source": [
    "mycursor = mydb.cursor()"
   ]
  },
  {
   "cell_type": "code",
   "execution_count": 9,
   "metadata": {},
   "outputs": [
    {
     "output_type": "stream",
     "name": "stdout",
     "text": [
      "   Customers  Cities  Countries\n0        122      95         27\n"
     ]
    }
   ],
   "source": [
    "#SOAL 1\n",
    "query = 'select count(customernumber) as Customers, count(distinct(city)) as Cities, count(distinct(country)) as Countries from customers'\n",
    "mycursor.execute(query)\n",
    "result = mycursor.fetchall()\n",
    "df1 = pd.DataFrame(result, columns = mycursor.column_names)\n",
    "print(df1)"
   ]
  },
  {
   "cell_type": "code",
   "execution_count": 8,
   "metadata": {},
   "outputs": [
    {
     "output_type": "stream",
     "name": "stdout",
     "text": [
      "   Employees  Offices  Country  Products StockProducts  Vendors\n0         23        7        5       110        555131       13\n"
     ]
    }
   ],
   "source": [
    "#SOAL 2\n",
    "query = 'select (select count(distinct(employeenumber)) from employees) as Employees,(select count(distinct(officecode)) from offices) as Offices, (select count(distinct(country)) from offices) as Country, (select count(distinct(productcode)) from products) as Products,(select sum(quantityinstock) from products) as StockProducts,(select count(distinct(productVendor)) from products) as Vendors'\n",
    "mycursor.execute(query)\n",
    "result = mycursor.fetchall()\n",
    "df2 = pd.DataFrame(result, columns = mycursor.column_names)\n",
    "print(df2)"
   ]
  },
  {
   "cell_type": "code",
   "execution_count": 10,
   "metadata": {},
   "outputs": [
    {
     "output_type": "stream",
     "name": "stdout",
     "text": [
      "        productLine minPrice maxPrice\n0      Classic Cars    15.91   103.42\n1       Motorcycles    24.14    91.02\n2            Planes    29.34    77.27\n3             Ships    33.30    82.34\n4            Trains    26.72    67.56\n5  Trucks and Buses    24.92    84.76\n6      Vintage Cars    20.61    86.70\n"
     ]
    }
   ],
   "source": [
    "#SOAL 3\n",
    "query = 'select productline as productLine, min(buyprice) as minPrice, max(buyprice) as maxPrice from products group by productline'\n",
    "mycursor.execute(query)\n",
    "result = mycursor.fetchall()\n",
    "df3 = pd.DataFrame(result, columns = mycursor.column_names)\n",
    "print(df3)"
   ]
  },
  {
   "cell_type": "code",
   "execution_count": 12,
   "metadata": {},
   "outputs": [
    {
     "output_type": "stream",
     "name": "stdout",
     "text": [
      "                   customername           city      country      total\n0        Euro+ Shopping Channel         Madrid        Spain  715738.98\n1  Mini Gifts Distributors Ltd.     San Rafael          USA  584188.24\n2    Australian Collectors, Co.      Melbourne    Australia  180585.07\n3            Muscle Machine Inc            NYC          USA  177913.95\n4       Dragon Souveniers, Ltd.      Singapore    Singapore  156251.03\n5    Down Under Souveniers, Inc     Auckland    New Zealand  154622.08\n6                AV Stores, Co.     Manchester           UK  148410.09\n7       Anna's Decorations, Ltd   North Sydney    Australia  137034.22\n8      Corporate Gift Ideas Co.  San Francisco          USA  132340.78\n9        Saveley & Henriot, Co.           Lyon       France  130305.35\n"
     ]
    }
   ],
   "source": [
    "#SOAL 4\n",
    "query = 'select customername, city, country, sum(amount) as total from customers, payments where customers.customernumber = payments.customernumber group by customers.customernumber order by total desc limit 10'\n",
    "mycursor.execute(query)\n",
    "result = mycursor.fetchall()\n",
    "df4 = pd.DataFrame(result, columns = mycursor.column_names)\n",
    "print(df4)"
   ]
  },
  {
   "cell_type": "code",
   "execution_count": 15,
   "metadata": {},
   "outputs": [
    {
     "output_type": "stream",
     "name": "stdout",
     "text": [
      "        customername                     productname  quantityOrdered  \\\n0  Atelier graphique           1965 Aston Martin DB5               26   \n1  Atelier graphique    1999 Indy 500 Monte Carlo SS               46   \n2  Atelier graphique  1948 Porsche Type 356 Roadster               34   \n3  Atelier graphique       1966 Shelby Cobra 427 S/C               50   \n\n  priceEach  \n0    120.71  \n1    114.84  \n2    117.26  \n3     43.27  \n"
     ]
    }
   ],
   "source": [
    "#SOAL 5\n",
    "query = 'select customers.customername, products.productname, orderdetails.quantityordered as quantityOrdered, orderdetails.priceeach as priceEach from orderdetails inner join orders on orderdetails.ordernumber = orders.ordernumber inner join products on orderdetails.productcode = products.productcode inner join customers on orders.customernumber = customers.customernumber inner join payments on customers.customernumber = payments.customernumber where payments.paymentdate = \"2003-06-05\" and orders.ordernumber = 10123'\n",
    "mycursor.execute(query)\n",
    "result = mycursor.fetchall()\n",
    "df5 = pd.DataFrame(result, columns = mycursor.column_names)\n",
    "print(df5)"
   ]
  }
 ]
}
