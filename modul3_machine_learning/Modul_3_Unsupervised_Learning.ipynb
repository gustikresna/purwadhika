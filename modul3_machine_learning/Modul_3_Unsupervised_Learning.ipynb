{
  "nbformat": 4,
  "nbformat_minor": 0,
  "metadata": {
    "colab": {
      "name": "Modul 3 - Unsupervised Learning.ipynb",
      "provenance": [],
      "collapsed_sections": [],
      "authorship_tag": "ABX9TyP/3IbH49L297GQM4t5G14p",
      "include_colab_link": true
    },
    "kernelspec": {
      "name": "python3",
      "display_name": "Python 3"
    },
    "language_info": {
      "name": "python"
    }
  },
  "cells": [
    {
      "cell_type": "markdown",
      "metadata": {
        "id": "view-in-github",
        "colab_type": "text"
      },
      "source": [
        "<a href=\"https://colab.research.google.com/github/gustikresna/purwadhika-assignment/blob/main/Modul_3_Unsupervised_Learning.ipynb\" target=\"_parent\"><img src=\"https://colab.research.google.com/assets/colab-badge.svg\" alt=\"Open In Colab\"/></a>"
      ]
    },
    {
      "cell_type": "code",
      "metadata": {
        "id": "LOIyTXb85BW9"
      },
      "source": [
        "import pandas as pd\n",
        "import numpy as np\n",
        "import matplotlib.pyplot as plt\n",
        "import seaborn as sns\n",
        "from sklearn.preprocessing import StandardScaler\n",
        "from sklearn.decomposition import PCA"
      ],
      "execution_count": null,
      "outputs": []
    },
    {
      "cell_type": "markdown",
      "metadata": {
        "id": "oU4XvFbA7k3x"
      },
      "source": [
        "### PRINCIPAL COMPONENT ANALYSIS"
      ]
    },
    {
      "cell_type": "markdown",
      "metadata": {
        "id": "UQEO2NBm9asN"
      },
      "source": [
        "Dataset Description :\n",
        "- dataset : Breast Cancer\n",
        "- features : 30 features extracted from images\n",
        "- you can’t see the hidden structure in the data easily using\n",
        "data visualization\n",
        "- if you use scatter plot, This dataset has 30 features, which\n",
        "would result in 30 * 14 = 420 scatter plots! \n",
        "\n",
        "Task :\n",
        "- Scale the features using Standard Scaler\n",
        "- Compute how much information extracted using two\n",
        "components\n",
        "- Reduce the dimension from 30 to 2 using two components\n",
        "- Plot the first components and the second components\n",
        "- x axis first component\n",
        "- y axis second component\n",
        "- hue : Diagnosis\n",
        "\n",
        "Result :\n",
        "- Information extracted from 2 component 63.24 %\n",
        "- We reduce the dimension from 30 to 2 and the lost\n",
        "information is 36.76% but you can see that those two\n",
        "features can separate benign and malignant quiet well\n",
        "- this also means that you can see hidden structure within the\n",
        "data\n",
        "- malignant points are more spread than benign point"
      ]
    },
    {
      "cell_type": "code",
      "metadata": {
        "id": "kpc0XUjf4zZH"
      },
      "source": [
        "from sklearn.datasets import load_breast_cancer"
      ],
      "execution_count": null,
      "outputs": []
    },
    {
      "cell_type": "code",
      "metadata": {
        "id": "V3WeZqgT4_To"
      },
      "source": [
        "cancer = load_breast_cancer()"
      ],
      "execution_count": null,
      "outputs": []
    },
    {
      "cell_type": "code",
      "metadata": {
        "id": "Dr7P_xfs6eK1"
      },
      "source": [
        "cancer_df = pd.DataFrame(cancer.data, columns=cancer.feature_names)"
      ],
      "execution_count": null,
      "outputs": []
    },
    {
      "cell_type": "markdown",
      "metadata": {
        "id": "hjVrQfqO9VJy"
      },
      "source": [
        "1. Scaling"
      ]
    },
    {
      "cell_type": "code",
      "metadata": {
        "id": "y4C4wTck7Nbz"
      },
      "source": [
        "scaler = StandardScaler()\n",
        "cancer_scaled = scaler.fit_transform(cancer_df)\n",
        "cancer_scaled = pd.DataFrame(cancer_scaled, columns=cancer_df.columns)"
      ],
      "execution_count": null,
      "outputs": []
    },
    {
      "cell_type": "code",
      "metadata": {
        "colab": {
          "base_uri": "https://localhost:8080/",
          "height": 258
        },
        "id": "g3r8ZoXI75kx",
        "outputId": "a02c1025-7daa-4260-e6c8-59ba8145ba29"
      },
      "source": [
        "cancer_scaled.head()"
      ],
      "execution_count": null,
      "outputs": [
        {
          "output_type": "execute_result",
          "data": {
            "text/html": [
              "<div>\n",
              "<style scoped>\n",
              "    .dataframe tbody tr th:only-of-type {\n",
              "        vertical-align: middle;\n",
              "    }\n",
              "\n",
              "    .dataframe tbody tr th {\n",
              "        vertical-align: top;\n",
              "    }\n",
              "\n",
              "    .dataframe thead th {\n",
              "        text-align: right;\n",
              "    }\n",
              "</style>\n",
              "<table border=\"1\" class=\"dataframe\">\n",
              "  <thead>\n",
              "    <tr style=\"text-align: right;\">\n",
              "      <th></th>\n",
              "      <th>mean radius</th>\n",
              "      <th>mean texture</th>\n",
              "      <th>mean perimeter</th>\n",
              "      <th>mean area</th>\n",
              "      <th>mean smoothness</th>\n",
              "      <th>mean compactness</th>\n",
              "      <th>mean concavity</th>\n",
              "      <th>mean concave points</th>\n",
              "      <th>mean symmetry</th>\n",
              "      <th>mean fractal dimension</th>\n",
              "      <th>radius error</th>\n",
              "      <th>texture error</th>\n",
              "      <th>perimeter error</th>\n",
              "      <th>area error</th>\n",
              "      <th>smoothness error</th>\n",
              "      <th>compactness error</th>\n",
              "      <th>concavity error</th>\n",
              "      <th>concave points error</th>\n",
              "      <th>symmetry error</th>\n",
              "      <th>fractal dimension error</th>\n",
              "      <th>worst radius</th>\n",
              "      <th>worst texture</th>\n",
              "      <th>worst perimeter</th>\n",
              "      <th>worst area</th>\n",
              "      <th>worst smoothness</th>\n",
              "      <th>worst compactness</th>\n",
              "      <th>worst concavity</th>\n",
              "      <th>worst concave points</th>\n",
              "      <th>worst symmetry</th>\n",
              "      <th>worst fractal dimension</th>\n",
              "    </tr>\n",
              "  </thead>\n",
              "  <tbody>\n",
              "    <tr>\n",
              "      <th>0</th>\n",
              "      <td>1.097064</td>\n",
              "      <td>-2.073335</td>\n",
              "      <td>1.269934</td>\n",
              "      <td>0.984375</td>\n",
              "      <td>1.568466</td>\n",
              "      <td>3.283515</td>\n",
              "      <td>2.652874</td>\n",
              "      <td>2.532475</td>\n",
              "      <td>2.217515</td>\n",
              "      <td>2.255747</td>\n",
              "      <td>2.489734</td>\n",
              "      <td>-0.565265</td>\n",
              "      <td>2.833031</td>\n",
              "      <td>2.487578</td>\n",
              "      <td>-0.214002</td>\n",
              "      <td>1.316862</td>\n",
              "      <td>0.724026</td>\n",
              "      <td>0.660820</td>\n",
              "      <td>1.148757</td>\n",
              "      <td>0.907083</td>\n",
              "      <td>1.886690</td>\n",
              "      <td>-1.359293</td>\n",
              "      <td>2.303601</td>\n",
              "      <td>2.001237</td>\n",
              "      <td>1.307686</td>\n",
              "      <td>2.616665</td>\n",
              "      <td>2.109526</td>\n",
              "      <td>2.296076</td>\n",
              "      <td>2.750622</td>\n",
              "      <td>1.937015</td>\n",
              "    </tr>\n",
              "    <tr>\n",
              "      <th>1</th>\n",
              "      <td>1.829821</td>\n",
              "      <td>-0.353632</td>\n",
              "      <td>1.685955</td>\n",
              "      <td>1.908708</td>\n",
              "      <td>-0.826962</td>\n",
              "      <td>-0.487072</td>\n",
              "      <td>-0.023846</td>\n",
              "      <td>0.548144</td>\n",
              "      <td>0.001392</td>\n",
              "      <td>-0.868652</td>\n",
              "      <td>0.499255</td>\n",
              "      <td>-0.876244</td>\n",
              "      <td>0.263327</td>\n",
              "      <td>0.742402</td>\n",
              "      <td>-0.605351</td>\n",
              "      <td>-0.692926</td>\n",
              "      <td>-0.440780</td>\n",
              "      <td>0.260162</td>\n",
              "      <td>-0.805450</td>\n",
              "      <td>-0.099444</td>\n",
              "      <td>1.805927</td>\n",
              "      <td>-0.369203</td>\n",
              "      <td>1.535126</td>\n",
              "      <td>1.890489</td>\n",
              "      <td>-0.375612</td>\n",
              "      <td>-0.430444</td>\n",
              "      <td>-0.146749</td>\n",
              "      <td>1.087084</td>\n",
              "      <td>-0.243890</td>\n",
              "      <td>0.281190</td>\n",
              "    </tr>\n",
              "    <tr>\n",
              "      <th>2</th>\n",
              "      <td>1.579888</td>\n",
              "      <td>0.456187</td>\n",
              "      <td>1.566503</td>\n",
              "      <td>1.558884</td>\n",
              "      <td>0.942210</td>\n",
              "      <td>1.052926</td>\n",
              "      <td>1.363478</td>\n",
              "      <td>2.037231</td>\n",
              "      <td>0.939685</td>\n",
              "      <td>-0.398008</td>\n",
              "      <td>1.228676</td>\n",
              "      <td>-0.780083</td>\n",
              "      <td>0.850928</td>\n",
              "      <td>1.181336</td>\n",
              "      <td>-0.297005</td>\n",
              "      <td>0.814974</td>\n",
              "      <td>0.213076</td>\n",
              "      <td>1.424827</td>\n",
              "      <td>0.237036</td>\n",
              "      <td>0.293559</td>\n",
              "      <td>1.511870</td>\n",
              "      <td>-0.023974</td>\n",
              "      <td>1.347475</td>\n",
              "      <td>1.456285</td>\n",
              "      <td>0.527407</td>\n",
              "      <td>1.082932</td>\n",
              "      <td>0.854974</td>\n",
              "      <td>1.955000</td>\n",
              "      <td>1.152255</td>\n",
              "      <td>0.201391</td>\n",
              "    </tr>\n",
              "    <tr>\n",
              "      <th>3</th>\n",
              "      <td>-0.768909</td>\n",
              "      <td>0.253732</td>\n",
              "      <td>-0.592687</td>\n",
              "      <td>-0.764464</td>\n",
              "      <td>3.283553</td>\n",
              "      <td>3.402909</td>\n",
              "      <td>1.915897</td>\n",
              "      <td>1.451707</td>\n",
              "      <td>2.867383</td>\n",
              "      <td>4.910919</td>\n",
              "      <td>0.326373</td>\n",
              "      <td>-0.110409</td>\n",
              "      <td>0.286593</td>\n",
              "      <td>-0.288378</td>\n",
              "      <td>0.689702</td>\n",
              "      <td>2.744280</td>\n",
              "      <td>0.819518</td>\n",
              "      <td>1.115007</td>\n",
              "      <td>4.732680</td>\n",
              "      <td>2.047511</td>\n",
              "      <td>-0.281464</td>\n",
              "      <td>0.133984</td>\n",
              "      <td>-0.249939</td>\n",
              "      <td>-0.550021</td>\n",
              "      <td>3.394275</td>\n",
              "      <td>3.893397</td>\n",
              "      <td>1.989588</td>\n",
              "      <td>2.175786</td>\n",
              "      <td>6.046041</td>\n",
              "      <td>4.935010</td>\n",
              "    </tr>\n",
              "    <tr>\n",
              "      <th>4</th>\n",
              "      <td>1.750297</td>\n",
              "      <td>-1.151816</td>\n",
              "      <td>1.776573</td>\n",
              "      <td>1.826229</td>\n",
              "      <td>0.280372</td>\n",
              "      <td>0.539340</td>\n",
              "      <td>1.371011</td>\n",
              "      <td>1.428493</td>\n",
              "      <td>-0.009560</td>\n",
              "      <td>-0.562450</td>\n",
              "      <td>1.270543</td>\n",
              "      <td>-0.790244</td>\n",
              "      <td>1.273189</td>\n",
              "      <td>1.190357</td>\n",
              "      <td>1.483067</td>\n",
              "      <td>-0.048520</td>\n",
              "      <td>0.828471</td>\n",
              "      <td>1.144205</td>\n",
              "      <td>-0.361092</td>\n",
              "      <td>0.499328</td>\n",
              "      <td>1.298575</td>\n",
              "      <td>-1.466770</td>\n",
              "      <td>1.338539</td>\n",
              "      <td>1.220724</td>\n",
              "      <td>0.220556</td>\n",
              "      <td>-0.313395</td>\n",
              "      <td>0.613179</td>\n",
              "      <td>0.729259</td>\n",
              "      <td>-0.868353</td>\n",
              "      <td>-0.397100</td>\n",
              "    </tr>\n",
              "  </tbody>\n",
              "</table>\n",
              "</div>"
            ],
            "text/plain": [
              "   mean radius  mean texture  ...  worst symmetry  worst fractal dimension\n",
              "0     1.097064     -2.073335  ...        2.750622                 1.937015\n",
              "1     1.829821     -0.353632  ...       -0.243890                 0.281190\n",
              "2     1.579888      0.456187  ...        1.152255                 0.201391\n",
              "3    -0.768909      0.253732  ...        6.046041                 4.935010\n",
              "4     1.750297     -1.151816  ...       -0.868353                -0.397100\n",
              "\n",
              "[5 rows x 30 columns]"
            ]
          },
          "metadata": {
            "tags": []
          },
          "execution_count": 9
        }
      ]
    },
    {
      "cell_type": "markdown",
      "metadata": {
        "id": "Tg0c8dMb9XNw"
      },
      "source": [
        "2. PCA"
      ]
    },
    {
      "cell_type": "code",
      "metadata": {
        "id": "ZMmLrKFI9Wxa"
      },
      "source": [
        "pca = PCA()\n",
        "pca_features = pca.fit_transform(cancer_scaled)"
      ],
      "execution_count": null,
      "outputs": []
    },
    {
      "cell_type": "code",
      "metadata": {
        "id": "VJwtf0kmAnOn"
      },
      "source": [
        "var = []\n",
        "for i in range(0,30):\n",
        "  var.append(np.var(pca_features[:,i]))"
      ],
      "execution_count": null,
      "outputs": []
    },
    {
      "cell_type": "code",
      "metadata": {
        "colab": {
          "base_uri": "https://localhost:8080/"
        },
        "id": "1pVDINy6A9z0",
        "outputId": "0b984fd4-d0c8-472e-e3bd-a202dac43fdc"
      },
      "source": [
        "print('information extracted {} %'.format(np.sum(var[:2])*100/np.sum(var)))"
      ],
      "execution_count": null,
      "outputs": [
        {
          "output_type": "stream",
          "text": [
            "information extracted 63.243207651559416 %\n"
          ],
          "name": "stdout"
        }
      ]
    },
    {
      "cell_type": "code",
      "metadata": {
        "id": "rU3ZAKL6BTqe"
      },
      "source": [
        "var = pca.explained_variance_"
      ],
      "execution_count": null,
      "outputs": []
    },
    {
      "cell_type": "code",
      "metadata": {
        "colab": {
          "base_uri": "https://localhost:8080/"
        },
        "id": "V26VvmxXBnQY",
        "outputId": "e636f6ce-8705-44b3-ffcd-17f539ca8baa"
      },
      "source": [
        "print('information extracted {} %'.format(np.sum(var[:2])*100/np.sum(var)))"
      ],
      "execution_count": null,
      "outputs": [
        {
          "output_type": "stream",
          "text": [
            "information extracted 63.24320765155942 %\n"
          ],
          "name": "stdout"
        }
      ]
    },
    {
      "cell_type": "code",
      "metadata": {
        "colab": {
          "base_uri": "https://localhost:8080/",
          "height": 334
        },
        "id": "VLyIwGD176-X",
        "outputId": "26cbddf4-0640-45c6-935e-d5f438ff30e8"
      },
      "source": [
        "features = range(pca.n_components_)\n",
        "plt.figure(figsize=(10,5))\n",
        "plt.bar(features, pca.explained_variance_)\n",
        "plt.xlabel('PCA feature')\n",
        "plt.ylabel('variance')\n",
        "plt.xticks(features)\n",
        "plt.show()"
      ],
      "execution_count": null,
      "outputs": [
        {
          "output_type": "display_data",
          "data": {
            "image/png": "[encoded data removed]",
            "text/plain": [
              "<Figure size 720x360 with 1 Axes>"
            ]
          },
          "metadata": {
            "tags": [],
            "needs_background": "light"
          }
        }
      ]
    },
    {
      "cell_type": "code",
      "metadata": {
        "id": "TqWLer8D_iIh"
      },
      "source": [
        "pca = PCA(n_components=2)\n",
        "pca_feature = pca.fit_transform(cancer_scaled)"
      ],
      "execution_count": null,
      "outputs": []
    },
    {
      "cell_type": "code",
      "metadata": {
        "colab": {
          "base_uri": "https://localhost:8080/",
          "height": 296
        },
        "id": "6OnVEmOCB6yJ",
        "outputId": "9b3bcf64-da0f-4bdd-cae1-494527d00157"
      },
      "source": [
        "sns.scatterplot(x=pca_feature[:,0], y=pca_feature[:,1], hue=np.where(cancer.target,  'benign', 'malignant'))\n",
        "plt.xlabel('first component')\n",
        "plt.ylabel('second component')"
      ],
      "execution_count": null,
      "outputs": [
        {
          "output_type": "execute_result",
          "data": {
            "text/plain": [
              "Text(0, 0.5, 'second component')"
            ]
          },
          "metadata": {
            "tags": []
          },
          "execution_count": 17
        },
        {
          "output_type": "display_data",
          "data": {
            "image/png": "[encoded data removed]",
            "text/plain": [
              "<Figure size 432x288 with 1 Axes>"
            ]
          },
          "metadata": {
            "tags": [],
            "needs_background": "light"
          }
        }
      ]
    },
    {
      "cell_type": "markdown",
      "metadata": {
        "id": "YhSXWOr8Hrw0"
      },
      "source": [
        "### PYTHON EXERCISE : K-MEANS 1"
      ]
    },
    {
      "cell_type": "markdown",
      "metadata": {
        "id": "PecwbywEH1Ie"
      },
      "source": [
        " Analyze generated data from make_blobs\n",
        "- set 3 main spot (random_state = 42)\n",
        "- plot the data using scatter plot\n",
        "- determine the optimal number of cluster based on your observation\n",
        "- plot the data and clustering result (optimal number of cluster) using\n",
        "scatter plot"
      ]
    },
    {
      "cell_type": "code",
      "metadata": {
        "id": "udYW3KDCC4kp"
      },
      "source": [
        "from sklearn.cluster import KMeans\n",
        "from sklearn.metrics import silhouette_score"
      ],
      "execution_count": null,
      "outputs": []
    },
    {
      "cell_type": "code",
      "metadata": {
        "id": "XLwbAr6fH-pu"
      },
      "source": [
        "from sklearn.datasets import make_blobs"
      ],
      "execution_count": null,
      "outputs": []
    },
    {
      "cell_type": "code",
      "metadata": {
        "id": "E3UbqhW_Rc9m"
      },
      "source": [
        "X, y = make_blobs(centers=3, random_state=42)"
      ],
      "execution_count": null,
      "outputs": []
    },
    {
      "cell_type": "code",
      "metadata": {
        "colab": {
          "base_uri": "https://localhost:8080/",
          "height": 282
        },
        "id": "YWxQWTlXIoAu",
        "outputId": "987442d5-5164-4c32-94fe-abcafa55b351"
      },
      "source": [
        "sns.scatterplot(x=X[:,0],y=X[:,1], hue=y)"
      ],
      "execution_count": null,
      "outputs": [
        {
          "output_type": "execute_result",
          "data": {
            "text/plain": [
              "<matplotlib.axes._subplots.AxesSubplot at 0x7f96d350f350>"
            ]
          },
          "metadata": {
            "tags": []
          },
          "execution_count": 21
        },
        {
          "output_type": "display_data",
          "data": {
            "image/png": "[encoded data removed]",
            "text/plain": [
              "<Figure size 432x288 with 1 Axes>"
            ]
          },
          "metadata": {
            "tags": [],
            "needs_background": "light"
          }
        }
      ]
    },
    {
      "cell_type": "code",
      "metadata": {
        "colab": {
          "base_uri": "https://localhost:8080/"
        },
        "id": "hdgKBwxiIfDM",
        "outputId": "8c4000c4-f6fc-445f-88d5-d292d91902be"
      },
      "source": [
        "kmeans = KMeans(n_clusters=3, random_state=42)\n",
        "kmeans.fit(X)"
      ],
      "execution_count": null,
      "outputs": [
        {
          "output_type": "execute_result",
          "data": {
            "text/plain": [
              "KMeans(algorithm='auto', copy_x=True, init='k-means++', max_iter=300,\n",
              "       n_clusters=3, n_init=10, n_jobs=None, precompute_distances='auto',\n",
              "       random_state=42, tol=0.0001, verbose=0)"
            ]
          },
          "metadata": {
            "tags": []
          },
          "execution_count": 22
        }
      ]
    },
    {
      "cell_type": "code",
      "metadata": {
        "colab": {
          "base_uri": "https://localhost:8080/",
          "height": 282
        },
        "id": "MEdmXIUeK-BW",
        "outputId": "053136f1-8fe4-4888-be21-344bb33c178d"
      },
      "source": [
        "sns.scatterplot(x=X[:,0],y=X[:,1], hue=kmeans.labels_)"
      ],
      "execution_count": null,
      "outputs": [
        {
          "output_type": "execute_result",
          "data": {
            "text/plain": [
              "<matplotlib.axes._subplots.AxesSubplot at 0x7f96d3ab2310>"
            ]
          },
          "metadata": {
            "tags": []
          },
          "execution_count": 23
        },
        {
          "output_type": "display_data",
          "data": {
            "image/png": "[encoded data removed]",
            "text/plain": [
              "<Figure size 432x288 with 1 Axes>"
            ]
          },
          "metadata": {
            "tags": [],
            "needs_background": "light"
          }
        }
      ]
    },
    {
      "cell_type": "markdown",
      "metadata": {
        "id": "RzNhkVxhLMBB"
      },
      "source": [
        "### PYTHON EXERCISE : K-MEANS 2"
      ]
    },
    {
      "cell_type": "markdown",
      "metadata": {
        "id": "SGjzuL7wLSPG"
      },
      "source": [
        " Analyze data “ilustrasi k means.csv”\n",
        "\n",
        "- plot the data using scatter plot\n",
        "- determine the optimal number of cluster\n",
        "  - elbow method\n",
        "  - silhouette method\n",
        "- plot the data and clustering result (optimal number of cluster) using\n",
        "scatter plot"
      ]
    },
    {
      "cell_type": "code",
      "metadata": {
        "id": "ODRqPxqaLF2u"
      },
      "source": [
        "df = pd.read_csv('ilustrasi k means.csv', sep=';')"
      ],
      "execution_count": null,
      "outputs": []
    },
    {
      "cell_type": "code",
      "metadata": {
        "colab": {
          "base_uri": "https://localhost:8080/",
          "height": 204
        },
        "id": "KGBqCe4cLnjf",
        "outputId": "8ed254c8-cc35-4929-9ed3-7dc2b40dfc60"
      },
      "source": [
        "df.head()"
      ],
      "execution_count": null,
      "outputs": [
        {
          "output_type": "execute_result",
          "data": {
            "text/html": [
              "<div>\n",
              "<style scoped>\n",
              "    .dataframe tbody tr th:only-of-type {\n",
              "        vertical-align: middle;\n",
              "    }\n",
              "\n",
              "    .dataframe tbody tr th {\n",
              "        vertical-align: top;\n",
              "    }\n",
              "\n",
              "    .dataframe thead th {\n",
              "        text-align: right;\n",
              "    }\n",
              "</style>\n",
              "<table border=\"1\" class=\"dataframe\">\n",
              "  <thead>\n",
              "    <tr style=\"text-align: right;\">\n",
              "      <th></th>\n",
              "      <th>tinggibadan</th>\n",
              "      <th>tinggibadanistri</th>\n",
              "    </tr>\n",
              "  </thead>\n",
              "  <tbody>\n",
              "    <tr>\n",
              "      <th>0</th>\n",
              "      <td>175</td>\n",
              "      <td>175</td>\n",
              "    </tr>\n",
              "    <tr>\n",
              "      <th>1</th>\n",
              "      <td>178</td>\n",
              "      <td>178</td>\n",
              "    </tr>\n",
              "    <tr>\n",
              "      <th>2</th>\n",
              "      <td>175</td>\n",
              "      <td>166</td>\n",
              "    </tr>\n",
              "    <tr>\n",
              "      <th>3</th>\n",
              "      <td>180</td>\n",
              "      <td>179</td>\n",
              "    </tr>\n",
              "    <tr>\n",
              "      <th>4</th>\n",
              "      <td>185</td>\n",
              "      <td>181</td>\n",
              "    </tr>\n",
              "  </tbody>\n",
              "</table>\n",
              "</div>"
            ],
            "text/plain": [
              "   tinggibadan  tinggibadanistri\n",
              "0          175               175\n",
              "1          178               178\n",
              "2          175               166\n",
              "3          180               179\n",
              "4          185               181"
            ]
          },
          "metadata": {
            "tags": []
          },
          "execution_count": 25
        }
      ]
    },
    {
      "cell_type": "code",
      "metadata": {
        "colab": {
          "base_uri": "https://localhost:8080/",
          "height": 296
        },
        "id": "XFEkSRImLpJw",
        "outputId": "59e645d1-e763-441e-de28-777327dbe9e0"
      },
      "source": [
        "sns.scatterplot(x='tinggibadan', y='tinggibadanistri', data=df)"
      ],
      "execution_count": null,
      "outputs": [
        {
          "output_type": "execute_result",
          "data": {
            "text/plain": [
              "<matplotlib.axes._subplots.AxesSubplot at 0x7f96d2974250>"
            ]
          },
          "metadata": {
            "tags": []
          },
          "execution_count": 26
        },
        {
          "output_type": "display_data",
          "data": {
            "image/png": "[encoded data removed]",
            "text/plain": [
              "<Figure size 432x288 with 1 Axes>"
            ]
          },
          "metadata": {
            "tags": [],
            "needs_background": "light"
          }
        }
      ]
    },
    {
      "cell_type": "markdown",
      "metadata": {
        "id": "eUvqiZ-mMHUt"
      },
      "source": [
        "Elbow Method"
      ]
    },
    {
      "cell_type": "code",
      "metadata": {
        "id": "NuQ-S1MeMDfS"
      },
      "source": [
        "sse = []\n",
        "for k in range(2,10):\n",
        "  kmeans = KMeans(n_clusters=k, random_state=42)\n",
        "  kmeans.fit(df)\n",
        "  sse.append(kmeans.inertia_)"
      ],
      "execution_count": null,
      "outputs": []
    },
    {
      "cell_type": "code",
      "metadata": {
        "colab": {
          "base_uri": "https://localhost:8080/",
          "height": 279
        },
        "id": "g8qoZ8t1NFsr",
        "outputId": "19a83042-4dac-45c8-d002-9c2e4e03edf4"
      },
      "source": [
        "sns.lineplot(x=range(2,10), y=sse)\n",
        "plt.xlabel('Number of Clusters')\n",
        "plt.ylabel('Sum Square Error')\n",
        "plt.show()"
      ],
      "execution_count": null,
      "outputs": [
        {
          "output_type": "display_data",
          "data": {
            "image/png": "[encoded data removed]",
            "text/plain": [
              "<Figure size 432x288 with 1 Axes>"
            ]
          },
          "metadata": {
            "tags": [],
            "needs_background": "light"
          }
        }
      ]
    },
    {
      "cell_type": "markdown",
      "metadata": {
        "id": "5UbsjQ2bNm36"
      },
      "source": [
        "Silhoutte Method"
      ]
    },
    {
      "cell_type": "code",
      "metadata": {
        "id": "f4xXeOXiNMPg"
      },
      "source": [
        "sil_score = []\n",
        "for k in range(2,10):\n",
        "  kmeans = KMeans(n_clusters=k, random_state=42)\n",
        "  kmeans.fit(df)\n",
        "  sil_score.append(silhouette_score(df, kmeans.labels_, metric='euclidean'))"
      ],
      "execution_count": null,
      "outputs": []
    },
    {
      "cell_type": "code",
      "metadata": {
        "colab": {
          "base_uri": "https://localhost:8080/",
          "height": 279
        },
        "id": "zddBOjEvOLAv",
        "outputId": "fd52f9d5-57e4-4111-a98c-b9ef6647e667"
      },
      "source": [
        "sns.lineplot(x=range(2,10), y=sil_score)\n",
        "plt.xlabel('Number of Clusters')\n",
        "plt.ylabel('Silhouette Score')\n",
        "plt.show()"
      ],
      "execution_count": null,
      "outputs": [
        {
          "output_type": "display_data",
          "data": {
            "image/png": "[encoded data removed]",
            "text/plain": [
              "<Figure size 432x288 with 1 Axes>"
            ]
          },
          "metadata": {
            "tags": [],
            "needs_background": "light"
          }
        }
      ]
    },
    {
      "cell_type": "code",
      "metadata": {
        "colab": {
          "base_uri": "https://localhost:8080/"
        },
        "id": "TCmPF8suPEP7",
        "outputId": "c34e3377-0fb6-46c3-f725-7ebfc0bc82bc"
      },
      "source": [
        "kmeans = KMeans(n_clusters=3, random_state=42)\n",
        "kmeans.fit(df)"
      ],
      "execution_count": null,
      "outputs": [
        {
          "output_type": "execute_result",
          "data": {
            "text/plain": [
              "KMeans(algorithm='auto', copy_x=True, init='k-means++', max_iter=300,\n",
              "       n_clusters=3, n_init=10, n_jobs=None, precompute_distances='auto',\n",
              "       random_state=42, tol=0.0001, verbose=0)"
            ]
          },
          "metadata": {
            "tags": []
          },
          "execution_count": 31
        }
      ]
    },
    {
      "cell_type": "code",
      "metadata": {
        "colab": {
          "base_uri": "https://localhost:8080/",
          "height": 296
        },
        "id": "0HuDVEnKRI7V",
        "outputId": "b415b288-9354-4003-fffb-c25b08d50c3b"
      },
      "source": [
        "sns.scatterplot(x='tinggibadan', y='tinggibadanistri', data=df, hue=kmeans.labels_)"
      ],
      "execution_count": null,
      "outputs": [
        {
          "output_type": "execute_result",
          "data": {
            "text/plain": [
              "<matplotlib.axes._subplots.AxesSubplot at 0x7f96c9ffe490>"
            ]
          },
          "metadata": {
            "tags": []
          },
          "execution_count": 32
        },
        {
          "output_type": "display_data",
          "data": {
            "image/png": "[encoded data removed]",
            "text/plain": [
              "<Figure size 432x288 with 1 Axes>"
            ]
          },
          "metadata": {
            "tags": [],
            "needs_background": "light"
          }
        }
      ]
    },
    {
      "cell_type": "markdown",
      "metadata": {
        "id": "v1cMhfhqBjiX"
      },
      "source": [
        "### PYTHON EXERCISE : CLUSTERING AGGLOMERATIVE"
      ]
    },
    {
      "cell_type": "markdown",
      "metadata": {
        "id": "fA85GaQoC2FR"
      },
      "source": [
        " Analyze data “ilustrasi k means.csv”\n",
        "- plot the data using scatter plot\n",
        "- make dendrograms\n",
        "  - ward linkage\n",
        "  - average linkage\n",
        "  - complete linkage\n",
        "- Compare the result :\n",
        "  - is it different ?\n",
        "  - what about another data ?\n",
        "- plot the data and clustering result (optimal number of cluster from\n",
        "either ward, average, complete) using scatter plot"
      ]
    },
    {
      "cell_type": "code",
      "metadata": {
        "id": "3ormKYamRPI8"
      },
      "source": [
        "from scipy.spatial.distance import cdist, pdist \n",
        "from sklearn.metrics import silhouette_score\n",
        "from sklearn.cluster import AgglomerativeClustering, DBSCAN\n",
        "from scipy.cluster.hierarchy import dendrogram, linkage"
      ],
      "execution_count": null,
      "outputs": []
    },
    {
      "cell_type": "code",
      "metadata": {
        "colab": {
          "base_uri": "https://localhost:8080/",
          "height": 279
        },
        "id": "Awl5MGHkBukX",
        "outputId": "5160489b-748b-4307-be41-e0ba7698fbf4"
      },
      "source": [
        "sns.scatterplot(x='tinggibadan', y='tinggibadanistri', data=df)\n",
        "plt.show()"
      ],
      "execution_count": null,
      "outputs": [
        {
          "output_type": "display_data",
          "data": {
            "image/png": "[encoded data removed]",
            "text/plain": [
              "<Figure size 432x288 with 1 Axes>"
            ]
          },
          "metadata": {
            "tags": [],
            "needs_background": "light"
          }
        }
      ]
    },
    {
      "cell_type": "markdown",
      "metadata": {
        "id": "Yno-IT6mGJ8F"
      },
      "source": [
        "Linkage : ward"
      ]
    },
    {
      "cell_type": "code",
      "metadata": {
        "colab": {
          "base_uri": "https://localhost:8080/",
          "height": 342
        },
        "id": "wj6bHysKDHE3",
        "outputId": "f40f9c6f-d71a-44d2-cf98-fa895f6c6412"
      },
      "source": [
        "ward = linkage(df, 'ward')\n",
        "\n",
        "plt.figure(figsize=(10,5))\n",
        "dendrogram(ward)\n",
        "plt.xlabel('Sample Index')\n",
        "plt.ylabel('Variance')\n",
        "plt.show()"
      ],
      "execution_count": null,
      "outputs": [
        {
          "output_type": "display_data",
          "data": {
            "image/png": "[encoded data removed]",
            "text/plain": [
              "<Figure size 720x360 with 1 Axes>"
            ]
          },
          "metadata": {
            "tags": [],
            "needs_background": "light"
          }
        }
      ]
    },
    {
      "cell_type": "markdown",
      "metadata": {
        "id": "kTcj1TnVH3pd"
      },
      "source": [
        "Linkage : Average"
      ]
    },
    {
      "cell_type": "code",
      "metadata": {
        "colab": {
          "base_uri": "https://localhost:8080/",
          "height": 343
        },
        "id": "VuPIdpgCGqoY",
        "outputId": "f896d33b-0bd3-4770-c827-4ccf80fd6dcd"
      },
      "source": [
        "avg = linkage(df, 'average')\n",
        "\n",
        "plt.figure(figsize=(10,5))\n",
        "dendrogram(avg)\n",
        "plt.xlabel('Sample Index')\n",
        "plt.ylabel('Average Distance')\n",
        "plt.show()"
      ],
      "execution_count": null,
      "outputs": [
        {
          "output_type": "display_data",
          "data": {
            "image/png": "[encoded data removed]",
            "text/plain": [
              "<Figure size 720x360 with 1 Axes>"
            ]
          },
          "metadata": {
            "tags": [],
            "needs_background": "light"
          }
        }
      ]
    },
    {
      "cell_type": "markdown",
      "metadata": {
        "id": "uh-y7BisII2w"
      },
      "source": [
        "Linkage : Complete"
      ]
    },
    {
      "cell_type": "code",
      "metadata": {
        "colab": {
          "base_uri": "https://localhost:8080/",
          "height": 340
        },
        "id": "OGJ3d-d0H-4p",
        "outputId": "a3a15c64-7f5c-4c98-9588-4c7efe3bd968"
      },
      "source": [
        "complete = linkage(df, 'complete')\n",
        "\n",
        "plt.figure(figsize=(10,5))\n",
        "dendrogram(complete)\n",
        "plt.xlabel('Sample Index')\n",
        "plt.ylabel('Max Distance')\n",
        "plt.show()"
      ],
      "execution_count": null,
      "outputs": [
        {
          "output_type": "display_data",
          "data": {
            "image/png": "[encoded data removed]",
            "text/plain": [
              "<Figure size 720x360 with 1 Axes>"
            ]
          },
          "metadata": {
            "tags": [],
            "needs_background": "light"
          }
        }
      ]
    },
    {
      "cell_type": "markdown",
      "metadata": {
        "id": "s0JB5-R5Ie0l"
      },
      "source": [
        "Agglomerative Clustering & Plot Best Cluster"
      ]
    },
    {
      "cell_type": "code",
      "metadata": {
        "colab": {
          "base_uri": "https://localhost:8080/"
        },
        "id": "zQizxRSrKT5N",
        "outputId": "87968dc7-c91e-449d-b866-bb64e1d56915"
      },
      "source": [
        "agglo = AgglomerativeClustering(n_clusters=3)\n",
        "agglo.fit(df)"
      ],
      "execution_count": null,
      "outputs": [
        {
          "output_type": "execute_result",
          "data": {
            "text/plain": [
              "AgglomerativeClustering(affinity='euclidean', compute_full_tree='auto',\n",
              "                        connectivity=None, distance_threshold=None,\n",
              "                        linkage='ward', memory=None, n_clusters=3)"
            ]
          },
          "metadata": {
            "tags": []
          },
          "execution_count": 49
        }
      ]
    },
    {
      "cell_type": "code",
      "metadata": {
        "colab": {
          "base_uri": "https://localhost:8080/",
          "height": 296
        },
        "id": "ig4GYCQKITg1",
        "outputId": "97e4c0bb-9f35-4e27-df5b-2940ae829f01"
      },
      "source": [
        "sns.scatterplot(x='tinggibadan', y='tinggibadanistri', data=df, hue=agglo.labels_)"
      ],
      "execution_count": null,
      "outputs": [
        {
          "output_type": "execute_result",
          "data": {
            "text/plain": [
              "<matplotlib.axes._subplots.AxesSubplot at 0x7f96ca006b10>"
            ]
          },
          "metadata": {
            "tags": []
          },
          "execution_count": 51
        },
        {
          "output_type": "display_data",
          "data": {
            "image/png": "[encoded data removed]",
            "text/plain": [
              "<Figure size 432x288 with 1 Axes>"
            ]
          },
          "metadata": {
            "tags": [],
            "needs_background": "light"
          }
        }
      ]
    },
    {
      "cell_type": "markdown",
      "metadata": {
        "id": "WMnmmvjZLdtl"
      },
      "source": [
        "### PYTHON EXERCISE : DBSCAN"
      ]
    },
    {
      "cell_type": "markdown",
      "metadata": {
        "id": "0c4vO8H8LuEx"
      },
      "source": [
        "Analyze data “ilustrasi k means.csv”\n",
        "- plot the data using scatter plot\n",
        "- make initial clustering\n",
        "- determine the optimal hyperparameter\n",
        "  - minimum sample per cluster \n",
        "  - epsilon\n",
        "- plot the data and clustering result (optimal hyperparameter) using scatter plot"
      ]
    },
    {
      "cell_type": "code",
      "metadata": {
        "colab": {
          "base_uri": "https://localhost:8080/",
          "height": 731
        },
        "id": "E6mtqJH1XJUb",
        "outputId": "01ea3c9e-4c19-486b-95af-f49cfb4eb296"
      },
      "source": [
        "df"
      ],
      "execution_count": null,
      "outputs": [
        {
          "output_type": "execute_result",
          "data": {
            "text/html": [
              "<div>\n",
              "<style scoped>\n",
              "    .dataframe tbody tr th:only-of-type {\n",
              "        vertical-align: middle;\n",
              "    }\n",
              "\n",
              "    .dataframe tbody tr th {\n",
              "        vertical-align: top;\n",
              "    }\n",
              "\n",
              "    .dataframe thead th {\n",
              "        text-align: right;\n",
              "    }\n",
              "</style>\n",
              "<table border=\"1\" class=\"dataframe\">\n",
              "  <thead>\n",
              "    <tr style=\"text-align: right;\">\n",
              "      <th></th>\n",
              "      <th>tinggibadan</th>\n",
              "      <th>tinggibadanistri</th>\n",
              "    </tr>\n",
              "  </thead>\n",
              "  <tbody>\n",
              "    <tr>\n",
              "      <th>0</th>\n",
              "      <td>175</td>\n",
              "      <td>175</td>\n",
              "    </tr>\n",
              "    <tr>\n",
              "      <th>1</th>\n",
              "      <td>178</td>\n",
              "      <td>178</td>\n",
              "    </tr>\n",
              "    <tr>\n",
              "      <th>2</th>\n",
              "      <td>175</td>\n",
              "      <td>166</td>\n",
              "    </tr>\n",
              "    <tr>\n",
              "      <th>3</th>\n",
              "      <td>180</td>\n",
              "      <td>179</td>\n",
              "    </tr>\n",
              "    <tr>\n",
              "      <th>4</th>\n",
              "      <td>185</td>\n",
              "      <td>181</td>\n",
              "    </tr>\n",
              "    <tr>\n",
              "      <th>5</th>\n",
              "      <td>178</td>\n",
              "      <td>163</td>\n",
              "    </tr>\n",
              "    <tr>\n",
              "      <th>6</th>\n",
              "      <td>175</td>\n",
              "      <td>158</td>\n",
              "    </tr>\n",
              "    <tr>\n",
              "      <th>7</th>\n",
              "      <td>181</td>\n",
              "      <td>154</td>\n",
              "    </tr>\n",
              "    <tr>\n",
              "      <th>8</th>\n",
              "      <td>168</td>\n",
              "      <td>155</td>\n",
              "    </tr>\n",
              "    <tr>\n",
              "      <th>9</th>\n",
              "      <td>171</td>\n",
              "      <td>154</td>\n",
              "    </tr>\n",
              "    <tr>\n",
              "      <th>10</th>\n",
              "      <td>177</td>\n",
              "      <td>156</td>\n",
              "    </tr>\n",
              "    <tr>\n",
              "      <th>11</th>\n",
              "      <td>158</td>\n",
              "      <td>155</td>\n",
              "    </tr>\n",
              "    <tr>\n",
              "      <th>12</th>\n",
              "      <td>158</td>\n",
              "      <td>152</td>\n",
              "    </tr>\n",
              "    <tr>\n",
              "      <th>13</th>\n",
              "      <td>175</td>\n",
              "      <td>149</td>\n",
              "    </tr>\n",
              "    <tr>\n",
              "      <th>14</th>\n",
              "      <td>172</td>\n",
              "      <td>163</td>\n",
              "    </tr>\n",
              "    <tr>\n",
              "      <th>15</th>\n",
              "      <td>158</td>\n",
              "      <td>151</td>\n",
              "    </tr>\n",
              "    <tr>\n",
              "      <th>16</th>\n",
              "      <td>153</td>\n",
              "      <td>155</td>\n",
              "    </tr>\n",
              "    <tr>\n",
              "      <th>17</th>\n",
              "      <td>150</td>\n",
              "      <td>150</td>\n",
              "    </tr>\n",
              "    <tr>\n",
              "      <th>18</th>\n",
              "      <td>157</td>\n",
              "      <td>152</td>\n",
              "    </tr>\n",
              "    <tr>\n",
              "      <th>19</th>\n",
              "      <td>154</td>\n",
              "      <td>150</td>\n",
              "    </tr>\n",
              "    <tr>\n",
              "      <th>20</th>\n",
              "      <td>157</td>\n",
              "      <td>145</td>\n",
              "    </tr>\n",
              "    <tr>\n",
              "      <th>21</th>\n",
              "      <td>160</td>\n",
              "      <td>154</td>\n",
              "    </tr>\n",
              "  </tbody>\n",
              "</table>\n",
              "</div>"
            ],
            "text/plain": [
              "    tinggibadan  tinggibadanistri\n",
              "0           175               175\n",
              "1           178               178\n",
              "2           175               166\n",
              "3           180               179\n",
              "4           185               181\n",
              "5           178               163\n",
              "6           175               158\n",
              "7           181               154\n",
              "8           168               155\n",
              "9           171               154\n",
              "10          177               156\n",
              "11          158               155\n",
              "12          158               152\n",
              "13          175               149\n",
              "14          172               163\n",
              "15          158               151\n",
              "16          153               155\n",
              "17          150               150\n",
              "18          157               152\n",
              "19          154               150\n",
              "20          157               145\n",
              "21          160               154"
            ]
          },
          "metadata": {
            "tags": []
          },
          "execution_count": 116
        }
      ]
    },
    {
      "cell_type": "code",
      "metadata": {
        "id": "4OX6s2nxWYhD"
      },
      "source": [
        "scaler = StandardScaler()\n",
        "df_scaled = pd.DataFrame(scaler.fit_transform(df), columns=df.columns)"
      ],
      "execution_count": null,
      "outputs": []
    },
    {
      "cell_type": "code",
      "metadata": {
        "colab": {
          "base_uri": "https://localhost:8080/",
          "height": 279
        },
        "id": "GNwl2QKNKoUJ",
        "outputId": "1f2cac78-7a65-4718-fc77-1163d9fdece6"
      },
      "source": [
        "sns.scatterplot(x='tinggibadan', y='tinggibadanistri', data=df_scaled)\n",
        "plt.show()"
      ],
      "execution_count": null,
      "outputs": [
        {
          "output_type": "display_data",
          "data": {
            "image/png": "[encoded data removed]",
            "text/plain": [
              "<Figure size 432x288 with 1 Axes>"
            ]
          },
          "metadata": {
            "tags": [],
            "needs_background": "light"
          }
        }
      ]
    },
    {
      "cell_type": "markdown",
      "metadata": {
        "id": "MWD8vH30Us6r"
      },
      "source": [
        "Optimize Parameter"
      ]
    },
    {
      "cell_type": "code",
      "metadata": {
        "id": "1hQAaYrPUr6Y"
      },
      "source": [
        "epsilon = [i/10 for i in range(5,8)]\n",
        "min_samples = [i for i in range(2,6)]"
      ],
      "execution_count": null,
      "outputs": []
    },
    {
      "cell_type": "code",
      "metadata": {
        "colab": {
          "base_uri": "https://localhost:8080/"
        },
        "id": "FgfywzneWCa4",
        "outputId": "9b2cb1ad-5c45-46f2-947a-9e5441a87f4f"
      },
      "source": [
        "for e in epsilon:\n",
        "  for s in min_samples:\n",
        "    dbscan = DBSCAN(eps=e, min_samples=s)\n",
        "    dbscan.fit(df)\n",
        "\n",
        "    print('\\neps ={}.'.format(e))\n",
        "    print('min_sample ={}'.format(s))\n",
        "\n",
        "    label = dbscan.fit_predict(df_scaled)\n",
        "    print('score = {}'.format(silhouette_score(df_scaled, label)))\n",
        "\n"
      ],
      "execution_count": null,
      "outputs": [
        {
          "output_type": "stream",
          "text": [
            "\n",
            "eps =0.5.\n",
            "min_sample =2\n",
            "score = 0.3956508603092504\n",
            "\n",
            "eps =0.5.\n",
            "min_sample =3\n",
            "score = 0.35985247747971544\n",
            "\n",
            "eps =0.5.\n",
            "min_sample =4\n",
            "score = 0.4422627452501292\n",
            "\n",
            "eps =0.5.\n",
            "min_sample =5\n",
            "score = 0.4422627452501292\n",
            "\n",
            "eps =0.6.\n",
            "min_sample =2\n",
            "score = 0.4618572923610629\n",
            "\n",
            "eps =0.6.\n",
            "min_sample =3\n",
            "score = 0.4618572923610629\n",
            "\n",
            "eps =0.6.\n",
            "min_sample =4\n",
            "score = 0.3901682187136734\n",
            "\n",
            "eps =0.6.\n",
            "min_sample =5\n",
            "score = 0.35497113213899967\n",
            "\n",
            "eps =0.7.\n",
            "min_sample =2\n",
            "score = 0.6161772649616482\n",
            "\n",
            "eps =0.7.\n",
            "min_sample =3\n",
            "score = 0.6161772649616482\n",
            "\n",
            "eps =0.7.\n",
            "min_sample =4\n",
            "score = 0.6161772649616482\n",
            "\n",
            "eps =0.7.\n",
            "min_sample =5\n",
            "score = 0.6161772649616482\n"
          ],
          "name": "stdout"
        }
      ]
    },
    {
      "cell_type": "code",
      "metadata": {
        "colab": {
          "base_uri": "https://localhost:8080/"
        },
        "id": "mO4QqgjnML8o",
        "outputId": "790429ce-ac74-432c-8ecd-6f70fe1e9193"
      },
      "source": [
        "dbscan = DBSCAN(eps=0.7, min_samples=3)\n",
        "dbscan.fit(df_scaled)"
      ],
      "execution_count": null,
      "outputs": [
        {
          "output_type": "execute_result",
          "data": {
            "text/plain": [
              "DBSCAN(algorithm='auto', eps=0.7, leaf_size=30, metric='euclidean',\n",
              "       metric_params=None, min_samples=3, n_jobs=None, p=None)"
            ]
          },
          "metadata": {
            "tags": []
          },
          "execution_count": 136
        }
      ]
    },
    {
      "cell_type": "code",
      "metadata": {
        "colab": {
          "base_uri": "https://localhost:8080/",
          "height": 279
        },
        "id": "ie0i7mGWNEcn",
        "outputId": "cb2d9bd3-84f7-4acd-fc39-e5fc1eec56e4"
      },
      "source": [
        "sns.scatterplot(x='tinggibadan', y='tinggibadanistri', data=df, hue=dbscan.labels_)\n",
        "plt.show()"
      ],
      "execution_count": null,
      "outputs": [
        {
          "output_type": "display_data",
          "data": {
            "image/png": "[encoded data removed]",
            "text/plain": [
              "<Figure size 432x288 with 1 Axes>"
            ]
          },
          "metadata": {
            "tags": [],
            "needs_background": "light"
          }
        }
      ]
    },
    {
      "cell_type": "code",
      "metadata": {
        "id": "DVAFLGJsNIlo"
      },
      "source": [
        ""
      ],
      "execution_count": null,
      "outputs": []
    }
  ]
}
