{
  "nbformat": 4,
  "nbformat_minor": 0,
  "metadata": {
    "colab": {
      "name": "Modul 3 - Ensemble Model.ipynb",
      "provenance": [],
      "collapsed_sections": [],
      "authorship_tag": "ABX9TyPQ85fF4cq03j2EsofjZOgh",
      "include_colab_link": true
    },
    "kernelspec": {
      "name": "python3",
      "display_name": "Python 3"
    },
    "language_info": {
      "name": "python"
    }
  },
  "cells": [
    {
      "cell_type": "markdown",
      "metadata": {
        "id": "view-in-github",
        "colab_type": "text"
      },
      "source": [
        "<a href=\"https://colab.research.google.com/github/gustikresna/purwadhika-assignment/blob/main/Modul_3_Ensemble_Model.ipynb\" target=\"_parent\"><img src=\"https://colab.research.google.com/assets/colab-badge.svg\" alt=\"Open In Colab\"/></a>"
      ]
    },
    {
      "cell_type": "code",
      "metadata": {
        "id": "Ov0UYnORmo--"
      },
      "source": [
        "import pandas as pd\n",
        "import numpy as np\n",
        "from sklearn.metrics import precision_score, recall_score, f1_score, classification_report\n",
        "from sklearn.model_selection import train_test_split, GridSearchCV, StratifiedKFold\n",
        "from sklearn.linear_model import LogisticRegression\n",
        "from sklearn.ensemble import VotingClassifier, RandomForestClassifier, AdaBoostClassifier, GradientBoostingClassifier\n",
        "from xgboost import XGBClassifier\n",
        "from sklearn.tree import DecisionTreeClassifier, plot_tree\n",
        "from sklearn.neighbors import KNeighborsClassifier\n",
        "from sklearn.preprocessing import PolynomialFeatures, StandardScaler\n",
        "from sklearn.pipeline import Pipeline\n",
        "from sklearn.impute import SimpleImputer\n",
        "from sklearn.preprocessing import OneHotEncoder, OrdinalEncoder\n",
        "import matplotlib.pyplot as plt"
      ],
      "execution_count": null,
      "outputs": []
    },
    {
      "cell_type": "code",
      "metadata": {
        "colab": {
          "base_uri": "https://localhost:8080/"
        },
        "id": "MK1DkB-Lw4WO",
        "outputId": "905d7ab0-28cc-4e79-fa52-c6c1b977b7f6"
      },
      "source": [
        ""
      ],
      "execution_count": null,
      "outputs": [
        {
          "output_type": "stream",
          "text": [
            "Collecting category_encoders\n",
            "\u001b[?25l  Downloading https://files.pythonhosted.org/packages/44/57/fcef41c248701ee62e8325026b90c432adea35555cbc870aff9cfba23727/category_encoders-2.2.2-py2.py3-none-any.whl (80kB)\n",
            "\r\u001b[K     |████                            | 10kB 14.1MB/s eta 0:00:01\r\u001b[K     |████████▏                       | 20kB 18.3MB/s eta 0:00:01\r\u001b[K     |████████████▏                   | 30kB 21.3MB/s eta 0:00:01\r\u001b[K     |████████████████▎               | 40kB 22.7MB/s eta 0:00:01\r\u001b[K     |████████████████████▎           | 51kB 24.9MB/s eta 0:00:01\r\u001b[K     |████████████████████████▍       | 61kB 27.2MB/s eta 0:00:01\r\u001b[K     |████████████████████████████▍   | 71kB 28.3MB/s eta 0:00:01\r\u001b[K     |████████████████████████████████| 81kB 8.3MB/s \n",
            "\u001b[?25hRequirement already satisfied: patsy>=0.5.1 in /usr/local/lib/python3.7/dist-packages (from category_encoders) (0.5.1)\n",
            "Requirement already satisfied: scipy>=1.0.0 in /usr/local/lib/python3.7/dist-packages (from category_encoders) (1.4.1)\n",
            "Requirement already satisfied: numpy>=1.14.0 in /usr/local/lib/python3.7/dist-packages (from category_encoders) (1.19.5)\n",
            "Requirement already satisfied: pandas>=0.21.1 in /usr/local/lib/python3.7/dist-packages (from category_encoders) (1.1.5)\n",
            "Requirement already satisfied: scikit-learn>=0.20.0 in /usr/local/lib/python3.7/dist-packages (from category_encoders) (0.22.2.post1)\n",
            "Requirement already satisfied: statsmodels>=0.9.0 in /usr/local/lib/python3.7/dist-packages (from category_encoders) (0.10.2)\n",
            "Requirement already satisfied: six in /usr/local/lib/python3.7/dist-packages (from patsy>=0.5.1->category_encoders) (1.15.0)\n",
            "Requirement already satisfied: python-dateutil>=2.7.3 in /usr/local/lib/python3.7/dist-packages (from pandas>=0.21.1->category_encoders) (2.8.1)\n",
            "Requirement already satisfied: pytz>=2017.2 in /usr/local/lib/python3.7/dist-packages (from pandas>=0.21.1->category_encoders) (2018.9)\n",
            "Requirement already satisfied: joblib>=0.11 in /usr/local/lib/python3.7/dist-packages (from scikit-learn>=0.20.0->category_encoders) (1.0.1)\n",
            "Installing collected packages: category-encoders\n",
            "Successfully installed category-encoders-2.2.2\n"
          ],
          "name": "stdout"
        }
      ]
    },
    {
      "cell_type": "code",
      "metadata": {
        "colab": {
          "base_uri": "https://localhost:8080/"
        },
        "id": "WpOH7g32w6ha",
        "outputId": "ca8758db-5a14-4ee6-9fd7-78ecdc41e0df"
      },
      "source": [
        "import category_encoders as ce"
      ],
      "execution_count": null,
      "outputs": [
        {
          "output_type": "stream",
          "text": [
            "/usr/local/lib/python3.7/dist-packages/statsmodels/tools/_testing.py:19: FutureWarning: pandas.util.testing is deprecated. Use the functions in the public API at pandas.testing instead.\n",
            "  import pandas.util.testing as tm\n"
          ],
          "name": "stderr"
        }
      ]
    },
    {
      "cell_type": "markdown",
      "metadata": {
        "id": "S1lmhJt2pKdS"
      },
      "source": [
        "### PYTHON EXERCISE : VOTING CLASSIFIER"
      ]
    },
    {
      "cell_type": "markdown",
      "metadata": {
        "id": "gR5zJ5dapCtY"
      },
      "source": [
        "Analyze data white_wine.csv\n",
        "\n",
        "* Apply Voting Classifier\n",
        "  * target : quality (quality >6 → Y = 1)\n",
        "  * features : density alcohol\n",
        "* Validate the model using precision, recall and f1 score in 20% testing data\n",
        "* Apply soft voting classifier method, using these following method:\n",
        "  * logistic regression\n",
        "  * decision tree : max depth 5\n",
        "  * knn : nearest neighbor 3\n",
        "* Apply soft voting classifier method, using these following method\n",
        "  * 3rd degree polynomial features + logistic regression\n",
        "  * decision tree : max depth 5\n",
        "  * standard scaler + knn : nearest neighbor 3"
      ]
    },
    {
      "cell_type": "code",
      "metadata": {
        "id": "7oBZ81XAnXp5"
      },
      "source": [
        "white_wine = pd.read_csv('white_wine.csv')"
      ],
      "execution_count": null,
      "outputs": []
    },
    {
      "cell_type": "code",
      "metadata": {
        "colab": {
          "base_uri": "https://localhost:8080/"
        },
        "id": "dxKmgXo4oNLt",
        "outputId": "9502e33b-340a-444d-ae1e-9509ee9ad1e0"
      },
      "source": [
        "white_wine.isna().sum()"
      ],
      "execution_count": null,
      "outputs": [
        {
          "output_type": "execute_result",
          "data": {
            "text/plain": [
              "fixed acidity           0\n",
              "volatile acidity        0\n",
              "citric acid             0\n",
              "residual sugar          0\n",
              "chlorides               0\n",
              "free sulfur dioxide     0\n",
              "total sulfur dioxide    0\n",
              "density                 0\n",
              "pH                      1\n",
              "sulphates               1\n",
              "alcohol                 1\n",
              "quality                 1\n",
              "dtype: int64"
            ]
          },
          "metadata": {
            "tags": []
          },
          "execution_count": 5
        }
      ]
    },
    {
      "cell_type": "code",
      "metadata": {
        "id": "Slg6lWemoSAo"
      },
      "source": [
        "white_wine = white_wine.dropna()"
      ],
      "execution_count": null,
      "outputs": []
    },
    {
      "cell_type": "code",
      "metadata": {
        "colab": {
          "base_uri": "https://localhost:8080/",
          "height": 258
        },
        "id": "f9KbcN4Cnykt",
        "outputId": "5925496b-d99e-4d4d-9941-d8fd074810b5"
      },
      "source": [
        "white_wine.head()"
      ],
      "execution_count": null,
      "outputs": [
        {
          "output_type": "execute_result",
          "data": {
            "text/html": [
              "<div>\n",
              "<style scoped>\n",
              "    .dataframe tbody tr th:only-of-type {\n",
              "        vertical-align: middle;\n",
              "    }\n",
              "\n",
              "    .dataframe tbody tr th {\n",
              "        vertical-align: top;\n",
              "    }\n",
              "\n",
              "    .dataframe thead th {\n",
              "        text-align: right;\n",
              "    }\n",
              "</style>\n",
              "<table border=\"1\" class=\"dataframe\">\n",
              "  <thead>\n",
              "    <tr style=\"text-align: right;\">\n",
              "      <th></th>\n",
              "      <th>fixed acidity</th>\n",
              "      <th>volatile acidity</th>\n",
              "      <th>citric acid</th>\n",
              "      <th>residual sugar</th>\n",
              "      <th>chlorides</th>\n",
              "      <th>free sulfur dioxide</th>\n",
              "      <th>total sulfur dioxide</th>\n",
              "      <th>density</th>\n",
              "      <th>pH</th>\n",
              "      <th>sulphates</th>\n",
              "      <th>alcohol</th>\n",
              "      <th>quality</th>\n",
              "    </tr>\n",
              "  </thead>\n",
              "  <tbody>\n",
              "    <tr>\n",
              "      <th>0</th>\n",
              "      <td>7.0</td>\n",
              "      <td>0.27</td>\n",
              "      <td>0.36</td>\n",
              "      <td>20.7</td>\n",
              "      <td>0.045</td>\n",
              "      <td>45.0</td>\n",
              "      <td>170.0</td>\n",
              "      <td>1.0010</td>\n",
              "      <td>3.00</td>\n",
              "      <td>0.45</td>\n",
              "      <td>8.8</td>\n",
              "      <td>6.0</td>\n",
              "    </tr>\n",
              "    <tr>\n",
              "      <th>1</th>\n",
              "      <td>6.3</td>\n",
              "      <td>0.30</td>\n",
              "      <td>0.34</td>\n",
              "      <td>1.6</td>\n",
              "      <td>0.049</td>\n",
              "      <td>14.0</td>\n",
              "      <td>132.0</td>\n",
              "      <td>0.9940</td>\n",
              "      <td>3.30</td>\n",
              "      <td>0.49</td>\n",
              "      <td>9.5</td>\n",
              "      <td>6.0</td>\n",
              "    </tr>\n",
              "    <tr>\n",
              "      <th>2</th>\n",
              "      <td>8.1</td>\n",
              "      <td>0.28</td>\n",
              "      <td>0.40</td>\n",
              "      <td>6.9</td>\n",
              "      <td>0.050</td>\n",
              "      <td>30.0</td>\n",
              "      <td>97.0</td>\n",
              "      <td>0.9951</td>\n",
              "      <td>3.26</td>\n",
              "      <td>0.44</td>\n",
              "      <td>10.1</td>\n",
              "      <td>6.0</td>\n",
              "    </tr>\n",
              "    <tr>\n",
              "      <th>3</th>\n",
              "      <td>7.2</td>\n",
              "      <td>0.23</td>\n",
              "      <td>0.32</td>\n",
              "      <td>8.5</td>\n",
              "      <td>0.058</td>\n",
              "      <td>47.0</td>\n",
              "      <td>186.0</td>\n",
              "      <td>0.9956</td>\n",
              "      <td>3.19</td>\n",
              "      <td>0.40</td>\n",
              "      <td>9.9</td>\n",
              "      <td>6.0</td>\n",
              "    </tr>\n",
              "    <tr>\n",
              "      <th>4</th>\n",
              "      <td>7.2</td>\n",
              "      <td>0.23</td>\n",
              "      <td>0.32</td>\n",
              "      <td>8.5</td>\n",
              "      <td>0.058</td>\n",
              "      <td>47.0</td>\n",
              "      <td>186.0</td>\n",
              "      <td>0.9956</td>\n",
              "      <td>3.19</td>\n",
              "      <td>0.40</td>\n",
              "      <td>9.9</td>\n",
              "      <td>6.0</td>\n",
              "    </tr>\n",
              "  </tbody>\n",
              "</table>\n",
              "</div>"
            ],
            "text/plain": [
              "   fixed acidity  volatile acidity  citric acid  ...  sulphates  alcohol  quality\n",
              "0            7.0              0.27         0.36  ...       0.45      8.8      6.0\n",
              "1            6.3              0.30         0.34  ...       0.49      9.5      6.0\n",
              "2            8.1              0.28         0.40  ...       0.44     10.1      6.0\n",
              "3            7.2              0.23         0.32  ...       0.40      9.9      6.0\n",
              "4            7.2              0.23         0.32  ...       0.40      9.9      6.0\n",
              "\n",
              "[5 rows x 12 columns]"
            ]
          },
          "metadata": {
            "tags": []
          },
          "execution_count": 7
        }
      ]
    },
    {
      "cell_type": "code",
      "metadata": {
        "id": "MWTB-wBSn1bH"
      },
      "source": [
        "white_wine['target'] = np.where(white_wine['quality'] > 6, 1, 0)"
      ],
      "execution_count": null,
      "outputs": []
    },
    {
      "cell_type": "code",
      "metadata": {
        "id": "PztE6vzjoF1Y"
      },
      "source": [
        "y = white_wine['target']\n",
        "X = white_wine[['density', 'alcohol']]"
      ],
      "execution_count": null,
      "outputs": []
    },
    {
      "cell_type": "code",
      "metadata": {
        "id": "e8pURRbDowpl"
      },
      "source": [
        "X_train, X_test, y_train, y_test = train_test_split(X, y, test_size = 0.2, random_state=2021)"
      ],
      "execution_count": null,
      "outputs": []
    },
    {
      "cell_type": "markdown",
      "metadata": {
        "id": "EI4E_uYLqIK4"
      },
      "source": [
        "1. Voting Classifier (w/o preprocessing)"
      ]
    },
    {
      "cell_type": "code",
      "metadata": {
        "id": "xRwiKEHmptAu"
      },
      "source": [
        "logreg = LogisticRegression()\n",
        "tree = DecisionTreeClassifier(max_depth=5)\n",
        "knn = KNeighborsClassifier(n_neighbors=3)"
      ],
      "execution_count": null,
      "outputs": []
    },
    {
      "cell_type": "code",
      "metadata": {
        "id": "herLmPx9qXbb"
      },
      "source": [
        "ensemble = VotingClassifier(estimators=[('lr', logreg), ('tree', tree), ('knn', knn)], voting='soft')"
      ],
      "execution_count": null,
      "outputs": []
    },
    {
      "cell_type": "code",
      "metadata": {
        "id": "Srvd_qeYq1gw"
      },
      "source": [
        "ensemble.fit(X_train, y_train)\n",
        "y_pred = ensemble.predict(X_test)"
      ],
      "execution_count": null,
      "outputs": []
    },
    {
      "cell_type": "code",
      "metadata": {
        "colab": {
          "base_uri": "https://localhost:8080/"
        },
        "id": "JPPQortQrD2K",
        "outputId": "e0ea7396-68f5-4381-a33a-c381ec858eef"
      },
      "source": [
        "print(classification_report(y_test, y_pred))"
      ],
      "execution_count": null,
      "outputs": [
        {
          "output_type": "stream",
          "text": [
            "              precision    recall  f1-score   support\n",
            "\n",
            "           0       0.99      0.96      0.98        83\n",
            "           1       0.87      0.95      0.91        21\n",
            "\n",
            "    accuracy                           0.96       104\n",
            "   macro avg       0.93      0.96      0.94       104\n",
            "weighted avg       0.96      0.96      0.96       104\n",
            "\n"
          ],
          "name": "stdout"
        }
      ]
    },
    {
      "cell_type": "markdown",
      "metadata": {
        "id": "NfkinCamrL-e"
      },
      "source": [
        "2. Data Preprocessing + Ensemble"
      ]
    },
    {
      "cell_type": "markdown",
      "metadata": {
        "id": "RBLDxg1Ysp26"
      },
      "source": [
        "3rd Degree Polynomial Features + Logistic Regression"
      ]
    },
    {
      "cell_type": "code",
      "metadata": {
        "id": "DEJCYUvorHT_"
      },
      "source": [
        "poly = PolynomialFeatures(degree = 3)\n",
        "X_train_poly = pd.DataFrame(poly.fit_transform(X_train))\n",
        "X_train_poly.columns = poly.get_feature_names(X_train.columns)"
      ],
      "execution_count": null,
      "outputs": []
    },
    {
      "cell_type": "code",
      "metadata": {
        "colab": {
          "base_uri": "https://localhost:8080/",
          "height": 241
        },
        "id": "X0phXsaku-WC",
        "outputId": "430aa737-1406-4e3f-8a1f-a803f1e2ab46"
      },
      "source": [
        "X_train_poly.head()"
      ],
      "execution_count": null,
      "outputs": [
        {
          "output_type": "execute_result",
          "data": {
            "text/html": [
              "<div>\n",
              "<style scoped>\n",
              "    .dataframe tbody tr th:only-of-type {\n",
              "        vertical-align: middle;\n",
              "    }\n",
              "\n",
              "    .dataframe tbody tr th {\n",
              "        vertical-align: top;\n",
              "    }\n",
              "\n",
              "    .dataframe thead th {\n",
              "        text-align: right;\n",
              "    }\n",
              "</style>\n",
              "<table border=\"1\" class=\"dataframe\">\n",
              "  <thead>\n",
              "    <tr style=\"text-align: right;\">\n",
              "      <th></th>\n",
              "      <th>1</th>\n",
              "      <th>density</th>\n",
              "      <th>alcohol</th>\n",
              "      <th>density^2</th>\n",
              "      <th>density alcohol</th>\n",
              "      <th>alcohol^2</th>\n",
              "      <th>density^3</th>\n",
              "      <th>density^2 alcohol</th>\n",
              "      <th>density alcohol^2</th>\n",
              "      <th>alcohol^3</th>\n",
              "    </tr>\n",
              "  </thead>\n",
              "  <tbody>\n",
              "    <tr>\n",
              "      <th>0</th>\n",
              "      <td>1.0</td>\n",
              "      <td>0.9984</td>\n",
              "      <td>9.9</td>\n",
              "      <td>0.996803</td>\n",
              "      <td>9.88416</td>\n",
              "      <td>98.01</td>\n",
              "      <td>0.995208</td>\n",
              "      <td>9.868345</td>\n",
              "      <td>97.853184</td>\n",
              "      <td>970.299</td>\n",
              "    </tr>\n",
              "    <tr>\n",
              "      <th>1</th>\n",
              "      <td>1.0</td>\n",
              "      <td>0.9964</td>\n",
              "      <td>11.4</td>\n",
              "      <td>0.992813</td>\n",
              "      <td>11.35896</td>\n",
              "      <td>129.96</td>\n",
              "      <td>0.989239</td>\n",
              "      <td>11.318068</td>\n",
              "      <td>129.492144</td>\n",
              "      <td>1481.544</td>\n",
              "    </tr>\n",
              "    <tr>\n",
              "      <th>2</th>\n",
              "      <td>1.0</td>\n",
              "      <td>0.9906</td>\n",
              "      <td>11.8</td>\n",
              "      <td>0.981288</td>\n",
              "      <td>11.68908</td>\n",
              "      <td>139.24</td>\n",
              "      <td>0.972064</td>\n",
              "      <td>11.579203</td>\n",
              "      <td>137.931144</td>\n",
              "      <td>1643.032</td>\n",
              "    </tr>\n",
              "    <tr>\n",
              "      <th>3</th>\n",
              "      <td>1.0</td>\n",
              "      <td>0.9960</td>\n",
              "      <td>9.9</td>\n",
              "      <td>0.992016</td>\n",
              "      <td>9.86040</td>\n",
              "      <td>98.01</td>\n",
              "      <td>0.988048</td>\n",
              "      <td>9.820958</td>\n",
              "      <td>97.617960</td>\n",
              "      <td>970.299</td>\n",
              "    </tr>\n",
              "    <tr>\n",
              "      <th>4</th>\n",
              "      <td>1.0</td>\n",
              "      <td>1.0010</td>\n",
              "      <td>8.8</td>\n",
              "      <td>1.002001</td>\n",
              "      <td>8.80880</td>\n",
              "      <td>77.44</td>\n",
              "      <td>1.003003</td>\n",
              "      <td>8.817609</td>\n",
              "      <td>77.517440</td>\n",
              "      <td>681.472</td>\n",
              "    </tr>\n",
              "  </tbody>\n",
              "</table>\n",
              "</div>"
            ],
            "text/plain": [
              "     1  density  alcohol  ...  density^2 alcohol  density alcohol^2  alcohol^3\n",
              "0  1.0   0.9984      9.9  ...           9.868345          97.853184    970.299\n",
              "1  1.0   0.9964     11.4  ...          11.318068         129.492144   1481.544\n",
              "2  1.0   0.9906     11.8  ...          11.579203         137.931144   1643.032\n",
              "3  1.0   0.9960      9.9  ...           9.820958          97.617960    970.299\n",
              "4  1.0   1.0010      8.8  ...           8.817609          77.517440    681.472\n",
              "\n",
              "[5 rows x 10 columns]"
            ]
          },
          "metadata": {
            "tags": []
          },
          "execution_count": 16
        }
      ]
    },
    {
      "cell_type": "code",
      "metadata": {
        "id": "VcGCUW3Bu_6T"
      },
      "source": [
        "logreg = LogisticRegression()"
      ],
      "execution_count": null,
      "outputs": []
    },
    {
      "cell_type": "markdown",
      "metadata": {
        "id": "ftakQ2oPwUoS"
      },
      "source": [
        "Decision Tree"
      ]
    },
    {
      "cell_type": "code",
      "metadata": {
        "id": "-BBMY1KzvDPT"
      },
      "source": [
        "tree = DecisionTreeClassifier(max_depth=5)"
      ],
      "execution_count": null,
      "outputs": []
    },
    {
      "cell_type": "markdown",
      "metadata": {
        "id": "o4cVA_gWwpF6"
      },
      "source": [
        "Standard Scaler + kNN"
      ]
    },
    {
      "cell_type": "code",
      "metadata": {
        "id": "lrmqGn7zwb3a"
      },
      "source": [
        "scaler = StandardScaler()"
      ],
      "execution_count": null,
      "outputs": []
    },
    {
      "cell_type": "code",
      "metadata": {
        "id": "VONzbsl0w3UA"
      },
      "source": [
        "X_train_scaler = pd.DataFrame(scaler.fit_transform(X_train))\n",
        "X_train_scaler.columns = X_train.columns"
      ],
      "execution_count": null,
      "outputs": []
    },
    {
      "cell_type": "code",
      "metadata": {
        "colab": {
          "base_uri": "https://localhost:8080/",
          "height": 204
        },
        "id": "sCDwlKaIw9A2",
        "outputId": "2e2c233c-038a-4f82-91cb-56944e57c64f"
      },
      "source": [
        "X_train_scaler.head()"
      ],
      "execution_count": null,
      "outputs": [
        {
          "output_type": "execute_result",
          "data": {
            "text/html": [
              "<div>\n",
              "<style scoped>\n",
              "    .dataframe tbody tr th:only-of-type {\n",
              "        vertical-align: middle;\n",
              "    }\n",
              "\n",
              "    .dataframe tbody tr th {\n",
              "        vertical-align: top;\n",
              "    }\n",
              "\n",
              "    .dataframe thead th {\n",
              "        text-align: right;\n",
              "    }\n",
              "</style>\n",
              "<table border=\"1\" class=\"dataframe\">\n",
              "  <thead>\n",
              "    <tr style=\"text-align: right;\">\n",
              "      <th></th>\n",
              "      <th>density</th>\n",
              "      <th>alcohol</th>\n",
              "    </tr>\n",
              "  </thead>\n",
              "  <tbody>\n",
              "    <tr>\n",
              "      <th>0</th>\n",
              "      <td>1.105576</td>\n",
              "      <td>-0.187518</td>\n",
              "    </tr>\n",
              "    <tr>\n",
              "      <th>1</th>\n",
              "      <td>0.366030</td>\n",
              "      <td>1.208771</td>\n",
              "    </tr>\n",
              "    <tr>\n",
              "      <th>2</th>\n",
              "      <td>-1.778651</td>\n",
              "      <td>1.581114</td>\n",
              "    </tr>\n",
              "    <tr>\n",
              "      <th>3</th>\n",
              "      <td>0.218121</td>\n",
              "      <td>-0.187518</td>\n",
              "    </tr>\n",
              "    <tr>\n",
              "      <th>4</th>\n",
              "      <td>2.066985</td>\n",
              "      <td>-1.211462</td>\n",
              "    </tr>\n",
              "  </tbody>\n",
              "</table>\n",
              "</div>"
            ],
            "text/plain": [
              "    density   alcohol\n",
              "0  1.105576 -0.187518\n",
              "1  0.366030  1.208771\n",
              "2 -1.778651  1.581114\n",
              "3  0.218121 -0.187518\n",
              "4  2.066985 -1.211462"
            ]
          },
          "metadata": {
            "tags": []
          },
          "execution_count": 21
        }
      ]
    },
    {
      "cell_type": "code",
      "metadata": {
        "id": "Bhri9ifHxAGi"
      },
      "source": [
        "knn = KNeighborsClassifier(n_neighbors=3)"
      ],
      "execution_count": null,
      "outputs": []
    },
    {
      "cell_type": "code",
      "metadata": {
        "id": "Pbw_D1EUxVtJ"
      },
      "source": [
        "poly_logreg = Pipeline([('p', PolynomialFeatures(degree=3)), ('m', LogisticRegression())])\n",
        "tree = DecisionTreeClassifier(max_depth=5)\n",
        "scaler_knn = Pipeline([('p', StandardScaler()), ('m', KNeighborsClassifier(n_neighbors=3))])"
      ],
      "execution_count": null,
      "outputs": []
    },
    {
      "cell_type": "code",
      "metadata": {
        "id": "RDt2p5C21aUW"
      },
      "source": [
        "models = [('lr', poly_logreg), ('tree', tree), ('knn', scaler_knn)]"
      ],
      "execution_count": null,
      "outputs": []
    },
    {
      "cell_type": "code",
      "metadata": {
        "id": "gTp2f2LV12I7"
      },
      "source": [
        "ensemble = VotingClassifier(estimators=models, voting='soft')"
      ],
      "execution_count": null,
      "outputs": []
    },
    {
      "cell_type": "code",
      "metadata": {
        "id": "RfoqdP-K3hWQ"
      },
      "source": [
        "ensemble.fit(X_train, y_train)\n",
        "y_pred1 = ensemble.predict(X_test)"
      ],
      "execution_count": null,
      "outputs": []
    },
    {
      "cell_type": "code",
      "metadata": {
        "colab": {
          "base_uri": "https://localhost:8080/"
        },
        "id": "cnnHcSh93o6F",
        "outputId": "e1db5b56-568c-4f1a-aca3-5c94ea121cbf"
      },
      "source": [
        "print(classification_report(y_test, y_pred1))"
      ],
      "execution_count": null,
      "outputs": [
        {
          "output_type": "stream",
          "text": [
            "              precision    recall  f1-score   support\n",
            "\n",
            "           0       0.99      0.98      0.98        83\n",
            "           1       0.91      0.95      0.93        21\n",
            "\n",
            "    accuracy                           0.97       104\n",
            "   macro avg       0.95      0.96      0.96       104\n",
            "weighted avg       0.97      0.97      0.97       104\n",
            "\n"
          ],
          "name": "stdout"
        }
      ]
    },
    {
      "cell_type": "markdown",
      "metadata": {
        "id": "J2aOzlBs8V3O"
      },
      "source": [
        "### PYTHON EXERCISE : RANDOM FOREST"
      ]
    },
    {
      "cell_type": "markdown",
      "metadata": {
        "id": "RPoGztUd-U53"
      },
      "source": [
        "Analyze data bankloan.csv\n",
        "* Apply Random Forest:\n",
        "  * target : default\n",
        "  * features : age, employ, employ, debtinc, creddebt, othdebt\n",
        "* Splitting ratio 80:20 stratified\n",
        "* Apply Random Forest n_estimator 20 max features 4 max depth 3\n",
        "* Compute precision, recall, f1 score in test set"
      ]
    },
    {
      "cell_type": "code",
      "metadata": {
        "id": "w_0kVKCh-vuK"
      },
      "source": [
        "from sklearn.ensemble import RandomForestClassifier"
      ],
      "execution_count": null,
      "outputs": []
    },
    {
      "cell_type": "code",
      "metadata": {
        "id": "zzQpiQku3sWG"
      },
      "source": [
        "bankloan = pd.read_csv('bankloan.csv')"
      ],
      "execution_count": null,
      "outputs": []
    },
    {
      "cell_type": "code",
      "metadata": {
        "colab": {
          "base_uri": "https://localhost:8080/",
          "height": 204
        },
        "id": "SyYpu7Br_i-M",
        "outputId": "6c4af964-4504-4e1e-f016-7a4d185db0cb"
      },
      "source": [
        "bankloan.head()"
      ],
      "execution_count": null,
      "outputs": [
        {
          "output_type": "execute_result",
          "data": {
            "text/html": [
              "<div>\n",
              "<style scoped>\n",
              "    .dataframe tbody tr th:only-of-type {\n",
              "        vertical-align: middle;\n",
              "    }\n",
              "\n",
              "    .dataframe tbody tr th {\n",
              "        vertical-align: top;\n",
              "    }\n",
              "\n",
              "    .dataframe thead th {\n",
              "        text-align: right;\n",
              "    }\n",
              "</style>\n",
              "<table border=\"1\" class=\"dataframe\">\n",
              "  <thead>\n",
              "    <tr style=\"text-align: right;\">\n",
              "      <th></th>\n",
              "      <th>age</th>\n",
              "      <th>ed</th>\n",
              "      <th>employ</th>\n",
              "      <th>address</th>\n",
              "      <th>income</th>\n",
              "      <th>debtinc</th>\n",
              "      <th>creddebt</th>\n",
              "      <th>othdebt</th>\n",
              "      <th>default</th>\n",
              "    </tr>\n",
              "  </thead>\n",
              "  <tbody>\n",
              "    <tr>\n",
              "      <th>0</th>\n",
              "      <td>41</td>\n",
              "      <td>3</td>\n",
              "      <td>17</td>\n",
              "      <td>12</td>\n",
              "      <td>176</td>\n",
              "      <td>9.3</td>\n",
              "      <td>11.359392</td>\n",
              "      <td>5.008608</td>\n",
              "      <td>1</td>\n",
              "    </tr>\n",
              "    <tr>\n",
              "      <th>1</th>\n",
              "      <td>27</td>\n",
              "      <td>1</td>\n",
              "      <td>10</td>\n",
              "      <td>6</td>\n",
              "      <td>31</td>\n",
              "      <td>17.3</td>\n",
              "      <td>1.362202</td>\n",
              "      <td>4.000798</td>\n",
              "      <td>0</td>\n",
              "    </tr>\n",
              "    <tr>\n",
              "      <th>2</th>\n",
              "      <td>40</td>\n",
              "      <td>1</td>\n",
              "      <td>15</td>\n",
              "      <td>14</td>\n",
              "      <td>55</td>\n",
              "      <td>5.5</td>\n",
              "      <td>0.856075</td>\n",
              "      <td>2.168925</td>\n",
              "      <td>0</td>\n",
              "    </tr>\n",
              "    <tr>\n",
              "      <th>3</th>\n",
              "      <td>41</td>\n",
              "      <td>1</td>\n",
              "      <td>15</td>\n",
              "      <td>14</td>\n",
              "      <td>120</td>\n",
              "      <td>2.9</td>\n",
              "      <td>2.658720</td>\n",
              "      <td>0.821280</td>\n",
              "      <td>0</td>\n",
              "    </tr>\n",
              "    <tr>\n",
              "      <th>4</th>\n",
              "      <td>24</td>\n",
              "      <td>2</td>\n",
              "      <td>2</td>\n",
              "      <td>0</td>\n",
              "      <td>28</td>\n",
              "      <td>17.3</td>\n",
              "      <td>1.787436</td>\n",
              "      <td>3.056564</td>\n",
              "      <td>1</td>\n",
              "    </tr>\n",
              "  </tbody>\n",
              "</table>\n",
              "</div>"
            ],
            "text/plain": [
              "   age  ed  employ  address  income  debtinc   creddebt   othdebt  default\n",
              "0   41   3      17       12     176      9.3  11.359392  5.008608        1\n",
              "1   27   1      10        6      31     17.3   1.362202  4.000798        0\n",
              "2   40   1      15       14      55      5.5   0.856075  2.168925        0\n",
              "3   41   1      15       14     120      2.9   2.658720  0.821280        0\n",
              "4   24   2       2        0      28     17.3   1.787436  3.056564        1"
            ]
          },
          "metadata": {
            "tags": []
          },
          "execution_count": 31
        }
      ]
    },
    {
      "cell_type": "code",
      "metadata": {
        "id": "R_aTYBYZ-t_L"
      },
      "source": [
        "y = bankloan['default'].copy()\n",
        "X = bankloan[['age', 'employ', 'debtinc', 'creddebt', 'othdebt']].copy()"
      ],
      "execution_count": null,
      "outputs": []
    },
    {
      "cell_type": "code",
      "metadata": {
        "id": "YVCP2yrT_ukE"
      },
      "source": [
        "X_train, X_test, y_train, y_test = train_test_split(X, y, test_size=0.2, random_state=2021, stratify=y)"
      ],
      "execution_count": null,
      "outputs": []
    },
    {
      "cell_type": "code",
      "metadata": {
        "id": "71TyRrld_55a"
      },
      "source": [
        "rf = RandomForestClassifier(n_estimators=20, max_features=4, max_depth=3)\n",
        "rf. fit(X_train, y_train)\n",
        "y_pred = rf.predict(X_test)"
      ],
      "execution_count": null,
      "outputs": []
    },
    {
      "cell_type": "code",
      "metadata": {
        "colab": {
          "base_uri": "https://localhost:8080/"
        },
        "id": "UTdKhn-WAQuF",
        "outputId": "1c291912-1cd7-432c-fd23-b88f6ded9564"
      },
      "source": [
        "print(classification_report(y_test, y_pred))"
      ],
      "execution_count": null,
      "outputs": [
        {
          "output_type": "stream",
          "text": [
            "              precision    recall  f1-score   support\n",
            "\n",
            "           0       0.82      0.97      0.89       103\n",
            "           1       0.83      0.41      0.55        37\n",
            "\n",
            "    accuracy                           0.82       140\n",
            "   macro avg       0.83      0.69      0.72       140\n",
            "weighted avg       0.82      0.82      0.80       140\n",
            "\n"
          ],
          "name": "stdout"
        }
      ]
    },
    {
      "cell_type": "markdown",
      "metadata": {
        "id": "Y206eIjGuh1e"
      },
      "source": [
        "### APPLY SEVERAL PREPROCESSING METHOD TO MODELING AT ONCE AND DO HYPERPARAMETER TUNING MODEL BOOSTING"
      ]
    },
    {
      "cell_type": "markdown",
      "metadata": {
        "id": "nzWL2bc9u4J5"
      },
      "source": [
        "data : adult.csv\n",
        "\n",
        "target : income\n",
        "\n",
        "preprocess:\n",
        "1. missing value : simple imputer with constant\n",
        "2. one hot encoding : relationship, race, sex\n",
        "3. binary encoding : workclass, marital status, occupation, native country\n",
        "4. ordinal encoding : education (already encoded)\n",
        "5. no treatment : numerical\n",
        "6. out : fnlwgt\n",
        "\n",
        "Random state 10, data splitting 70:30 stratify\n",
        "1. tree : model tree(max depth 3) and compute precision, recall, f1 in test set then compute the feature importances and\n",
        "show the tree\n",
        "2. adaboost : tree adaptive boosting(max depth 3, n estimator(B) 200, learning rate 0.1) and compute precision, recall, f1 in\n",
        "test set then compute the feature importances\n",
        "3. gbc : gradient boosting(max depth 3, n estimator(B) 200, learning rate 0.1) and compute precision, recall, f1 in test set\n",
        "then compute the feature importances\n",
        "4. xgb :extreme gradient boosting(max depth 3, n estimator(B) 200, learning rate 0.1) and compute precision, recall, f1 in test\n",
        "set then compute the feature importances\n",
        "5. Model selection using grid search (tree, tree adaboost, gbc, xgb) optimized by f1 and using stratified CV 5 fold\n",
        "6. Hyperparameter tuning tree adaboost (optimize B L max depth) optimized by f1 and using stratified CV 5 fold\n",
        "7. Evaluate the tuned model in test set precision, recall, f1 score ROC, PRC and compare the result (before after)"
      ]
    },
    {
      "cell_type": "code",
      "metadata": {
        "id": "qL_HPS7vATr9",
        "colab": {
          "base_uri": "https://localhost:8080/",
          "height": 292
        },
        "outputId": "6ae504d0-6bd5-49af-e717-9ce2603f1ba7"
      },
      "source": [
        "adult = pd.read_csv('adult.csv')\n",
        "adult.head()"
      ],
      "execution_count": null,
      "outputs": [
        {
          "output_type": "execute_result",
          "data": {
            "text/html": [
              "<div>\n",
              "<style scoped>\n",
              "    .dataframe tbody tr th:only-of-type {\n",
              "        vertical-align: middle;\n",
              "    }\n",
              "\n",
              "    .dataframe tbody tr th {\n",
              "        vertical-align: top;\n",
              "    }\n",
              "\n",
              "    .dataframe thead th {\n",
              "        text-align: right;\n",
              "    }\n",
              "</style>\n",
              "<table border=\"1\" class=\"dataframe\">\n",
              "  <thead>\n",
              "    <tr style=\"text-align: right;\">\n",
              "      <th></th>\n",
              "      <th>age</th>\n",
              "      <th>workclass</th>\n",
              "      <th>fnlwgt</th>\n",
              "      <th>education</th>\n",
              "      <th>education.num</th>\n",
              "      <th>marital.status</th>\n",
              "      <th>occupation</th>\n",
              "      <th>relationship</th>\n",
              "      <th>race</th>\n",
              "      <th>sex</th>\n",
              "      <th>capital.gain</th>\n",
              "      <th>capital.loss</th>\n",
              "      <th>hours.per.week</th>\n",
              "      <th>native.country</th>\n",
              "      <th>income</th>\n",
              "    </tr>\n",
              "  </thead>\n",
              "  <tbody>\n",
              "    <tr>\n",
              "      <th>0</th>\n",
              "      <td>90</td>\n",
              "      <td>?</td>\n",
              "      <td>77053</td>\n",
              "      <td>HS-grad</td>\n",
              "      <td>9</td>\n",
              "      <td>Widowed</td>\n",
              "      <td>?</td>\n",
              "      <td>Not-in-family</td>\n",
              "      <td>White</td>\n",
              "      <td>Female</td>\n",
              "      <td>0</td>\n",
              "      <td>4356</td>\n",
              "      <td>40</td>\n",
              "      <td>United-States</td>\n",
              "      <td>&lt;=50K</td>\n",
              "    </tr>\n",
              "    <tr>\n",
              "      <th>1</th>\n",
              "      <td>82</td>\n",
              "      <td>Private</td>\n",
              "      <td>132870</td>\n",
              "      <td>HS-grad</td>\n",
              "      <td>9</td>\n",
              "      <td>Widowed</td>\n",
              "      <td>Exec-managerial</td>\n",
              "      <td>Not-in-family</td>\n",
              "      <td>White</td>\n",
              "      <td>Female</td>\n",
              "      <td>0</td>\n",
              "      <td>4356</td>\n",
              "      <td>18</td>\n",
              "      <td>United-States</td>\n",
              "      <td>&lt;=50K</td>\n",
              "    </tr>\n",
              "    <tr>\n",
              "      <th>2</th>\n",
              "      <td>66</td>\n",
              "      <td>?</td>\n",
              "      <td>186061</td>\n",
              "      <td>Some-college</td>\n",
              "      <td>10</td>\n",
              "      <td>Widowed</td>\n",
              "      <td>?</td>\n",
              "      <td>Unmarried</td>\n",
              "      <td>Black</td>\n",
              "      <td>Female</td>\n",
              "      <td>0</td>\n",
              "      <td>4356</td>\n",
              "      <td>40</td>\n",
              "      <td>United-States</td>\n",
              "      <td>&lt;=50K</td>\n",
              "    </tr>\n",
              "    <tr>\n",
              "      <th>3</th>\n",
              "      <td>54</td>\n",
              "      <td>Private</td>\n",
              "      <td>140359</td>\n",
              "      <td>7th-8th</td>\n",
              "      <td>4</td>\n",
              "      <td>Divorced</td>\n",
              "      <td>Machine-op-inspct</td>\n",
              "      <td>Unmarried</td>\n",
              "      <td>White</td>\n",
              "      <td>Female</td>\n",
              "      <td>0</td>\n",
              "      <td>3900</td>\n",
              "      <td>40</td>\n",
              "      <td>United-States</td>\n",
              "      <td>&lt;=50K</td>\n",
              "    </tr>\n",
              "    <tr>\n",
              "      <th>4</th>\n",
              "      <td>41</td>\n",
              "      <td>Private</td>\n",
              "      <td>264663</td>\n",
              "      <td>Some-college</td>\n",
              "      <td>10</td>\n",
              "      <td>Separated</td>\n",
              "      <td>Prof-specialty</td>\n",
              "      <td>Own-child</td>\n",
              "      <td>White</td>\n",
              "      <td>Female</td>\n",
              "      <td>0</td>\n",
              "      <td>3900</td>\n",
              "      <td>40</td>\n",
              "      <td>United-States</td>\n",
              "      <td>&lt;=50K</td>\n",
              "    </tr>\n",
              "  </tbody>\n",
              "</table>\n",
              "</div>"
            ],
            "text/plain": [
              "   age workclass  fnlwgt  ... hours.per.week  native.country income\n",
              "0   90         ?   77053  ...             40   United-States  <=50K\n",
              "1   82   Private  132870  ...             18   United-States  <=50K\n",
              "2   66         ?  186061  ...             40   United-States  <=50K\n",
              "3   54   Private  140359  ...             40   United-States  <=50K\n",
              "4   41   Private  264663  ...             40   United-States  <=50K\n",
              "\n",
              "[5 rows x 15 columns]"
            ]
          },
          "metadata": {
            "tags": []
          },
          "execution_count": 36
        }
      ]
    },
    {
      "cell_type": "code",
      "metadata": {
        "id": "kPpjnTGMv-o0"
      },
      "source": [
        "y = adult['income'].copy()"
      ],
      "execution_count": null,
      "outputs": []
    },
    {
      "cell_type": "markdown",
      "metadata": {
        "id": "G2PdeAIpxSRy"
      },
      "source": [
        "Data Preprocessing"
      ]
    },
    {
      "cell_type": "code",
      "metadata": {
        "id": "e1c7Hq9IwIgM"
      },
      "source": [
        "imputer = SimpleImputer(missing_values='?', strategy='constant')\n",
        "imputed_adult = pd.DataFrame(imputer.fit_transform(adult))\n",
        "imputed_adult.columns = adult.columns"
      ],
      "execution_count": null,
      "outputs": []
    },
    {
      "cell_type": "code",
      "metadata": {
        "id": "SJEgbfCbweme"
      },
      "source": [
        "onehot = OneHotEncoder(sparse=False)\n",
        "onehot_df = pd.DataFrame(onehot.fit_transform(imputed_adult[['relationship','race','sex']]))\n",
        "onehot_df.columns = onehot.get_feature_names(['relationship','race','sex'])"
      ],
      "execution_count": null,
      "outputs": []
    },
    {
      "cell_type": "code",
      "metadata": {
        "colab": {
          "base_uri": "https://localhost:8080/"
        },
        "id": "UfPoqSjAwh5Q",
        "outputId": "c9aba70e-ce83-4a3d-fd53-3cf4d7c799d8"
      },
      "source": [
        "binary = ce.BinaryEncoder()\n",
        "binary_df = pd.DataFrame(binary.fit_transform(imputed_adult[['workclass', 'marital.status', 'occupation', 'native.country']]))"
      ],
      "execution_count": null,
      "outputs": [
        {
          "output_type": "stream",
          "text": [
            "/usr/local/lib/python3.7/dist-packages/category_encoders/utils.py:21: FutureWarning: is_categorical is deprecated and will be removed in a future version.  Use is_categorical_dtype instead\n",
            "  elif pd.api.types.is_categorical(cols):\n"
          ],
          "name": "stderr"
        }
      ]
    },
    {
      "cell_type": "code",
      "metadata": {
        "id": "cG7FPdvCxGDt"
      },
      "source": [
        "X = pd.concat([onehot_df, binary_df, imputed_adult[['age','education.num','capital.gain','capital.loss','hours.per.week']]], axis=1)"
      ],
      "execution_count": null,
      "outputs": []
    },
    {
      "cell_type": "code",
      "metadata": {
        "id": "OkE5v-B4xia9"
      },
      "source": [
        "X_train, X_test, y_train, y_test = train_test_split(X, y , test_size=0.3, stratify=y, random_state=2021)"
      ],
      "execution_count": null,
      "outputs": []
    },
    {
      "cell_type": "markdown",
      "metadata": {
        "id": "5d5230eZxV1e"
      },
      "source": [
        "1. Tree"
      ]
    },
    {
      "cell_type": "code",
      "metadata": {
        "id": "dcJVKpzxxKEx"
      },
      "source": [
        "tree = DecisionTreeClassifier(max_depth=3)\n",
        "tree.fit(X_train, y_train)\n",
        "y_pred_1 = tree.predict(X_test)"
      ],
      "execution_count": null,
      "outputs": []
    },
    {
      "cell_type": "code",
      "metadata": {
        "colab": {
          "base_uri": "https://localhost:8080/"
        },
        "id": "0_4SOS39x23L",
        "outputId": "472446b1-3fd6-4765-d57d-71507fd6a74f"
      },
      "source": [
        "print(classification_report(y_test, y_pred_1))"
      ],
      "execution_count": null,
      "outputs": [
        {
          "output_type": "stream",
          "text": [
            "              precision    recall  f1-score   support\n",
            "\n",
            "       <=50K       0.85      0.95      0.90      7417\n",
            "        >50K       0.77      0.47      0.59      2352\n",
            "\n",
            "    accuracy                           0.84      9769\n",
            "   macro avg       0.81      0.71      0.74      9769\n",
            "weighted avg       0.83      0.84      0.82      9769\n",
            "\n"
          ],
          "name": "stdout"
        }
      ]
    },
    {
      "cell_type": "code",
      "metadata": {
        "id": "PYZNiIyEyoDY"
      },
      "source": [
        "feat_imp = pd.DataFrame(tree.tree_.compute_feature_importances(normalize=False)).transpose()\n",
        "feat_imp.columns = X.columns"
      ],
      "execution_count": null,
      "outputs": []
    },
    {
      "cell_type": "code",
      "metadata": {
        "colab": {
          "base_uri": "https://localhost:8080/",
          "height": 100
        },
        "id": "H5nhUgAPzURS",
        "outputId": "36e9c5a5-8eb4-4b93-a533-e39ac1b3d48d"
      },
      "source": [
        "feat_imp = feat_imp.loc[:, (feat_imp != 0).any(axis=0)]\n",
        "feat_imp"
      ],
      "execution_count": null,
      "outputs": [
        {
          "output_type": "execute_result",
          "data": {
            "text/html": [
              "<div>\n",
              "<style scoped>\n",
              "    .dataframe tbody tr th:only-of-type {\n",
              "        vertical-align: middle;\n",
              "    }\n",
              "\n",
              "    .dataframe tbody tr th {\n",
              "        vertical-align: top;\n",
              "    }\n",
              "\n",
              "    .dataframe thead th {\n",
              "        text-align: right;\n",
              "    }\n",
              "</style>\n",
              "<table border=\"1\" class=\"dataframe\">\n",
              "  <thead>\n",
              "    <tr style=\"text-align: right;\">\n",
              "      <th></th>\n",
              "      <th>relationship_Husband</th>\n",
              "      <th>relationship_Wife</th>\n",
              "      <th>age</th>\n",
              "      <th>education.num</th>\n",
              "      <th>capital.gain</th>\n",
              "    </tr>\n",
              "  </thead>\n",
              "  <tbody>\n",
              "    <tr>\n",
              "      <th>0</th>\n",
              "      <td>0.059241</td>\n",
              "      <td>0.011956</td>\n",
              "      <td>0.000166</td>\n",
              "      <td>0.027217</td>\n",
              "      <td>0.03545</td>\n",
              "    </tr>\n",
              "  </tbody>\n",
              "</table>\n",
              "</div>"
            ],
            "text/plain": [
              "   relationship_Husband  relationship_Wife  ...  education.num  capital.gain\n",
              "0              0.059241           0.011956  ...       0.027217       0.03545\n",
              "\n",
              "[1 rows x 5 columns]"
            ]
          },
          "metadata": {
            "tags": []
          },
          "execution_count": 113
        }
      ]
    },
    {
      "cell_type": "code",
      "metadata": {
        "colab": {
          "base_uri": "https://localhost:8080/"
        },
        "id": "pJsdLh9E8idD",
        "outputId": "69b20c02-7cc6-41e0-a17e-a35827cbb9ad"
      },
      "source": [
        "feat_imp.shape"
      ],
      "execution_count": null,
      "outputs": [
        {
          "output_type": "execute_result",
          "data": {
            "text/plain": [
              "(1, 5)"
            ]
          },
          "metadata": {
            "tags": []
          },
          "execution_count": 114
        }
      ]
    },
    {
      "cell_type": "code",
      "metadata": {
        "colab": {
          "base_uri": "https://localhost:8080/",
          "height": 399
        },
        "id": "fdhO9G-h0jHB",
        "outputId": "ec560b0a-2bb9-4af6-a03b-11c18ea6113a"
      },
      "source": [
        "plt.figure(figsize=(50,30))\n",
        "plot_tree(tree, feature_names=X.columns, filled=True)\n",
        "plt.show()"
      ],
      "execution_count": null,
      "outputs": [
        {
          "output_type": "display_data",
          "data": {
            "image/png": "[encoded data removed]",
            "text/plain": [
              "<Figure size 3600x2160 with 1 Axes>"
            ]
          },
          "metadata": {
            "tags": [],
            "needs_background": "light"
          }
        }
      ]
    },
    {
      "cell_type": "markdown",
      "metadata": {
        "id": "Dj88fPhz2S0S"
      },
      "source": [
        "2. Adaboost"
      ]
    },
    {
      "cell_type": "code",
      "metadata": {
        "id": "SGq6E9AO08pk"
      },
      "source": [
        "abc = AdaBoostClassifier(base_estimator=tree, n_estimators=200, learning_rate=0.1)"
      ],
      "execution_count": null,
      "outputs": []
    },
    {
      "cell_type": "code",
      "metadata": {
        "id": "BSQbDK6i3WiA"
      },
      "source": [
        "abc.fit(X_train, y_train)\n",
        "y_pred_2 = abc.predict(X_test)"
      ],
      "execution_count": null,
      "outputs": []
    },
    {
      "cell_type": "code",
      "metadata": {
        "colab": {
          "base_uri": "https://localhost:8080/"
        },
        "id": "n1GQjOC53gXQ",
        "outputId": "07a9a443-2797-4c0e-abb4-149bc60354f9"
      },
      "source": [
        "print(classification_report(y_test, y_pred_2))"
      ],
      "execution_count": null,
      "outputs": [
        {
          "output_type": "stream",
          "text": [
            "              precision    recall  f1-score   support\n",
            "\n",
            "       <=50K       0.89      0.95      0.92      7417\n",
            "        >50K       0.79      0.64      0.71      2352\n",
            "\n",
            "    accuracy                           0.87      9769\n",
            "   macro avg       0.84      0.79      0.81      9769\n",
            "weighted avg       0.87      0.87      0.87      9769\n",
            "\n"
          ],
          "name": "stdout"
        }
      ]
    },
    {
      "cell_type": "code",
      "metadata": {
        "colab": {
          "base_uri": "https://localhost:8080/",
          "height": 808
        },
        "id": "jjA0EGxmAwT7",
        "outputId": "b6b81b9c-2fdc-4352-af66-fec0db1a53d3"
      },
      "source": [
        "importance_table = pd.DataFrame({'imp': abc.feature_importances_}, index=X.columns)\n",
        "importance_table.sort_values(by='imp').plot(kind='barh', figsize=(10,15))"
      ],
      "execution_count": null,
      "outputs": [
        {
          "output_type": "execute_result",
          "data": {
            "text/plain": [
              "<matplotlib.axes._subplots.AxesSubplot at 0x7f1b469d7a90>"
            ]
          },
          "metadata": {
            "tags": []
          },
          "execution_count": 131
        },
        {
          "output_type": "display_data",
          "data": {
            "image/png": "[encoded data removed]",
            "text/plain": [
              "<Figure size 720x1080 with 1 Axes>"
            ]
          },
          "metadata": {
            "tags": [],
            "needs_background": "light"
          }
        }
      ]
    },
    {
      "cell_type": "code",
      "metadata": {
        "id": "wA3ndqqT3rHa"
      },
      "source": [
        "feat_imp2 = pd.DataFrame(adb.feature_importances_).transpose()\n",
        "feat_imp2.columns = X.columns"
      ],
      "execution_count": null,
      "outputs": []
    },
    {
      "cell_type": "code",
      "metadata": {
        "colab": {
          "base_uri": "https://localhost:8080/",
          "height": 134
        },
        "id": "_smksMWW38lm",
        "outputId": "2ab6df63-96ff-4ca8-9c2f-1cadf19abc6e"
      },
      "source": [
        "feat_imp2 = feat_imp2.loc[:, (feat_imp2 != 0).any(axis=0)]\n",
        "feat_imp2"
      ],
      "execution_count": null,
      "outputs": [
        {
          "output_type": "execute_result",
          "data": {
            "text/html": [
              "<div>\n",
              "<style scoped>\n",
              "    .dataframe tbody tr th:only-of-type {\n",
              "        vertical-align: middle;\n",
              "    }\n",
              "\n",
              "    .dataframe tbody tr th {\n",
              "        vertical-align: top;\n",
              "    }\n",
              "\n",
              "    .dataframe thead th {\n",
              "        text-align: right;\n",
              "    }\n",
              "</style>\n",
              "<table border=\"1\" class=\"dataframe\">\n",
              "  <thead>\n",
              "    <tr style=\"text-align: right;\">\n",
              "      <th></th>\n",
              "      <th>relationship_Husband</th>\n",
              "      <th>relationship_Not-in-family</th>\n",
              "      <th>relationship_Other-relative</th>\n",
              "      <th>relationship_Own-child</th>\n",
              "      <th>relationship_Unmarried</th>\n",
              "      <th>relationship_Wife</th>\n",
              "      <th>race_Amer-Indian-Eskimo</th>\n",
              "      <th>race_Asian-Pac-Islander</th>\n",
              "      <th>race_Black</th>\n",
              "      <th>race_Other</th>\n",
              "      <th>race_White</th>\n",
              "      <th>sex_Female</th>\n",
              "      <th>sex_Male</th>\n",
              "      <th>workclass_1</th>\n",
              "      <th>workclass_2</th>\n",
              "      <th>workclass_3</th>\n",
              "      <th>workclass_4</th>\n",
              "      <th>marital.status_1</th>\n",
              "      <th>marital.status_2</th>\n",
              "      <th>marital.status_3</th>\n",
              "      <th>occupation_1</th>\n",
              "      <th>occupation_2</th>\n",
              "      <th>occupation_3</th>\n",
              "      <th>occupation_4</th>\n",
              "      <th>native.country_1</th>\n",
              "      <th>native.country_2</th>\n",
              "      <th>native.country_3</th>\n",
              "      <th>native.country_4</th>\n",
              "      <th>native.country_5</th>\n",
              "      <th>native.country_6</th>\n",
              "      <th>age</th>\n",
              "      <th>education.num</th>\n",
              "      <th>capital.gain</th>\n",
              "      <th>capital.loss</th>\n",
              "      <th>hours.per.week</th>\n",
              "    </tr>\n",
              "  </thead>\n",
              "  <tbody>\n",
              "    <tr>\n",
              "      <th>0</th>\n",
              "      <td>0.026936</td>\n",
              "      <td>0.009405</td>\n",
              "      <td>0.009368</td>\n",
              "      <td>0.015813</td>\n",
              "      <td>0.013131</td>\n",
              "      <td>0.03661</td>\n",
              "      <td>0.008729</td>\n",
              "      <td>0.00684</td>\n",
              "      <td>0.013001</td>\n",
              "      <td>0.001712</td>\n",
              "      <td>0.006383</td>\n",
              "      <td>0.010022</td>\n",
              "      <td>0.0133</td>\n",
              "      <td>0.000853</td>\n",
              "      <td>0.015843</td>\n",
              "      <td>0.012911</td>\n",
              "      <td>0.025085</td>\n",
              "      <td>0.018685</td>\n",
              "      <td>0.002683</td>\n",
              "      <td>0.032397</td>\n",
              "      <td>0.021238</td>\n",
              "      <td>0.03529</td>\n",
              "      <td>0.024822</td>\n",
              "      <td>0.02153</td>\n",
              "      <td>0.015639</td>\n",
              "      <td>0.005909</td>\n",
              "      <td>0.00165</td>\n",
              "      <td>0.004187</td>\n",
              "      <td>0.007615</td>\n",
              "      <td>0.006173</td>\n",
              "      <td>0.161128</td>\n",
              "      <td>0.103948</td>\n",
              "      <td>0.099004</td>\n",
              "      <td>0.096068</td>\n",
              "      <td>0.116092</td>\n",
              "    </tr>\n",
              "  </tbody>\n",
              "</table>\n",
              "</div>"
            ],
            "text/plain": [
              "   relationship_Husband  ...  hours.per.week\n",
              "0              0.026936  ...        0.116092\n",
              "\n",
              "[1 rows x 35 columns]"
            ]
          },
          "metadata": {
            "tags": []
          },
          "execution_count": 100
        }
      ]
    },
    {
      "cell_type": "code",
      "metadata": {
        "colab": {
          "base_uri": "https://localhost:8080/"
        },
        "id": "kfvBTX_B8mnj",
        "outputId": "9151a43c-7382-40c2-8100-979b73a2e55d"
      },
      "source": [
        "feat_imp2.shape"
      ],
      "execution_count": null,
      "outputs": [
        {
          "output_type": "execute_result",
          "data": {
            "text/plain": [
              "(1, 35)"
            ]
          },
          "metadata": {
            "tags": []
          },
          "execution_count": 115
        }
      ]
    },
    {
      "cell_type": "markdown",
      "metadata": {
        "id": "xTb01ppP5dKl"
      },
      "source": [
        "3. Gradient Boosting"
      ]
    },
    {
      "cell_type": "code",
      "metadata": {
        "id": "xSWFWkRH5UMG"
      },
      "source": [
        "gbc = GradientBoostingClassifier(max_depth=3, n_estimators=200, learning_rate=0.1)"
      ],
      "execution_count": null,
      "outputs": []
    },
    {
      "cell_type": "code",
      "metadata": {
        "id": "Z7ORKzFg7bxQ"
      },
      "source": [
        "gbc.fit(X_train, y_train)\n",
        "y_pred_3 = gbc.predict(X_test)"
      ],
      "execution_count": null,
      "outputs": []
    },
    {
      "cell_type": "code",
      "metadata": {
        "colab": {
          "base_uri": "https://localhost:8080/"
        },
        "id": "neKsdEGk7jte",
        "outputId": "152a27b1-3409-406b-caa4-b409f911c026"
      },
      "source": [
        "print(classification_report(y_test, y_pred_3))"
      ],
      "execution_count": null,
      "outputs": [
        {
          "output_type": "stream",
          "text": [
            "              precision    recall  f1-score   support\n",
            "\n",
            "       <=50K       0.89      0.95      0.92      7417\n",
            "        >50K       0.80      0.63      0.71      2352\n",
            "\n",
            "    accuracy                           0.87      9769\n",
            "   macro avg       0.84      0.79      0.81      9769\n",
            "weighted avg       0.87      0.87      0.87      9769\n",
            "\n"
          ],
          "name": "stdout"
        }
      ]
    },
    {
      "cell_type": "code",
      "metadata": {
        "id": "A_MqxLzq8Lcb"
      },
      "source": [
        "feat_imp3 = pd.DataFrame(gbc.feature_importances_).transpose()\n",
        "feat_imp3.columns = X.columns"
      ],
      "execution_count": null,
      "outputs": []
    },
    {
      "cell_type": "code",
      "metadata": {
        "colab": {
          "base_uri": "https://localhost:8080/",
          "height": 134
        },
        "id": "uSvsBc5y7mAf",
        "outputId": "56b1ca43-4666-4395-e7cc-eef39a08a83f"
      },
      "source": [
        "feat_imp3 = feat_imp3.loc[:, (feat_imp3 != 0).any(axis=0)]\n",
        "feat_imp3"
      ],
      "execution_count": null,
      "outputs": [
        {
          "output_type": "execute_result",
          "data": {
            "text/html": [
              "<div>\n",
              "<style scoped>\n",
              "    .dataframe tbody tr th:only-of-type {\n",
              "        vertical-align: middle;\n",
              "    }\n",
              "\n",
              "    .dataframe tbody tr th {\n",
              "        vertical-align: top;\n",
              "    }\n",
              "\n",
              "    .dataframe thead th {\n",
              "        text-align: right;\n",
              "    }\n",
              "</style>\n",
              "<table border=\"1\" class=\"dataframe\">\n",
              "  <thead>\n",
              "    <tr style=\"text-align: right;\">\n",
              "      <th></th>\n",
              "      <th>relationship_Husband</th>\n",
              "      <th>relationship_Not-in-family</th>\n",
              "      <th>relationship_Own-child</th>\n",
              "      <th>relationship_Unmarried</th>\n",
              "      <th>relationship_Wife</th>\n",
              "      <th>race_Amer-Indian-Eskimo</th>\n",
              "      <th>race_Asian-Pac-Islander</th>\n",
              "      <th>race_Black</th>\n",
              "      <th>race_White</th>\n",
              "      <th>sex_Female</th>\n",
              "      <th>sex_Male</th>\n",
              "      <th>workclass_1</th>\n",
              "      <th>workclass_2</th>\n",
              "      <th>workclass_3</th>\n",
              "      <th>workclass_4</th>\n",
              "      <th>marital.status_1</th>\n",
              "      <th>marital.status_2</th>\n",
              "      <th>marital.status_3</th>\n",
              "      <th>occupation_1</th>\n",
              "      <th>occupation_2</th>\n",
              "      <th>occupation_3</th>\n",
              "      <th>occupation_4</th>\n",
              "      <th>native.country_1</th>\n",
              "      <th>native.country_2</th>\n",
              "      <th>native.country_3</th>\n",
              "      <th>native.country_4</th>\n",
              "      <th>native.country_5</th>\n",
              "      <th>native.country_6</th>\n",
              "      <th>age</th>\n",
              "      <th>education.num</th>\n",
              "      <th>capital.gain</th>\n",
              "      <th>capital.loss</th>\n",
              "      <th>hours.per.week</th>\n",
              "    </tr>\n",
              "  </thead>\n",
              "  <tbody>\n",
              "    <tr>\n",
              "      <th>0</th>\n",
              "      <td>0.247291</td>\n",
              "      <td>0.001005</td>\n",
              "      <td>0.00031</td>\n",
              "      <td>0.000174</td>\n",
              "      <td>0.056901</td>\n",
              "      <td>0.000444</td>\n",
              "      <td>0.000131</td>\n",
              "      <td>0.000261</td>\n",
              "      <td>0.000795</td>\n",
              "      <td>0.003276</td>\n",
              "      <td>0.002791</td>\n",
              "      <td>0.000035</td>\n",
              "      <td>0.001741</td>\n",
              "      <td>0.001023</td>\n",
              "      <td>0.002515</td>\n",
              "      <td>0.002396</td>\n",
              "      <td>0.000007</td>\n",
              "      <td>0.056419</td>\n",
              "      <td>0.002199</td>\n",
              "      <td>0.005198</td>\n",
              "      <td>0.000441</td>\n",
              "      <td>0.047606</td>\n",
              "      <td>0.000091</td>\n",
              "      <td>0.00024</td>\n",
              "      <td>0.000085</td>\n",
              "      <td>0.000365</td>\n",
              "      <td>0.000426</td>\n",
              "      <td>0.000632</td>\n",
              "      <td>0.058897</td>\n",
              "      <td>0.182947</td>\n",
              "      <td>0.216787</td>\n",
              "      <td>0.06945</td>\n",
              "      <td>0.037123</td>\n",
              "    </tr>\n",
              "  </tbody>\n",
              "</table>\n",
              "</div>"
            ],
            "text/plain": [
              "   relationship_Husband  ...  hours.per.week\n",
              "0              0.247291  ...        0.037123\n",
              "\n",
              "[1 rows x 33 columns]"
            ]
          },
          "metadata": {
            "tags": []
          },
          "execution_count": 111
        }
      ]
    },
    {
      "cell_type": "code",
      "metadata": {
        "colab": {
          "base_uri": "https://localhost:8080/"
        },
        "id": "b4AXRkjY8T0H",
        "outputId": "60945ad0-e52a-4284-b576-50919d77cf89"
      },
      "source": [
        "feat_imp3.shape"
      ],
      "execution_count": null,
      "outputs": [
        {
          "output_type": "execute_result",
          "data": {
            "text/plain": [
              "(1, 33)"
            ]
          },
          "metadata": {
            "tags": []
          },
          "execution_count": 116
        }
      ]
    },
    {
      "cell_type": "markdown",
      "metadata": {
        "id": "h6bqvsn38v6O"
      },
      "source": [
        "4. Extreme Gradient Boosting"
      ]
    },
    {
      "cell_type": "code",
      "metadata": {
        "id": "IOrVH8eC8q48"
      },
      "source": [
        "xgb = XGBClassifier(max_depth=3, n_estimators=200, learning_rate=0.1)"
      ],
      "execution_count": null,
      "outputs": []
    },
    {
      "cell_type": "code",
      "metadata": {
        "id": "bnYFgheR985S"
      },
      "source": [
        "xgb.fit(np.array(X_train), np.array(y_train))\n",
        "y_pred_4 = xgb.predict(np.array(X_test))"
      ],
      "execution_count": null,
      "outputs": []
    },
    {
      "cell_type": "code",
      "metadata": {
        "colab": {
          "base_uri": "https://localhost:8080/"
        },
        "id": "cSfAMu9C-QrG",
        "outputId": "63d1fa9a-3fb3-47a7-e453-8777105e10af"
      },
      "source": [
        "print(classification_report(y_test, y_pred_4))"
      ],
      "execution_count": null,
      "outputs": [
        {
          "output_type": "stream",
          "text": [
            "              precision    recall  f1-score   support\n",
            "\n",
            "       <=50K       0.89      0.95      0.92      7417\n",
            "        >50K       0.80      0.63      0.71      2352\n",
            "\n",
            "    accuracy                           0.87      9769\n",
            "   macro avg       0.84      0.79      0.81      9769\n",
            "weighted avg       0.87      0.87      0.87      9769\n",
            "\n"
          ],
          "name": "stdout"
        }
      ]
    },
    {
      "cell_type": "code",
      "metadata": {
        "id": "fELfXw7zENwN"
      },
      "source": [
        "feat_imp4 = pd.DataFrame(xgb.feature_importances_).transpose()\n",
        "feat_imp4.columns = X.columns"
      ],
      "execution_count": null,
      "outputs": []
    },
    {
      "cell_type": "code",
      "metadata": {
        "colab": {
          "base_uri": "https://localhost:8080/",
          "height": 134
        },
        "id": "P2C_QVuTEIIb",
        "outputId": "031f882d-41b1-44b4-faf4-b6bc8b929829"
      },
      "source": [
        "feat_imp4 = feat_imp4.loc[:, (feat_imp4 != 0).any(axis=0)]\n",
        "feat_imp4"
      ],
      "execution_count": null,
      "outputs": [
        {
          "output_type": "execute_result",
          "data": {
            "text/html": [
              "<div>\n",
              "<style scoped>\n",
              "    .dataframe tbody tr th:only-of-type {\n",
              "        vertical-align: middle;\n",
              "    }\n",
              "\n",
              "    .dataframe tbody tr th {\n",
              "        vertical-align: top;\n",
              "    }\n",
              "\n",
              "    .dataframe thead th {\n",
              "        text-align: right;\n",
              "    }\n",
              "</style>\n",
              "<table border=\"1\" class=\"dataframe\">\n",
              "  <thead>\n",
              "    <tr style=\"text-align: right;\">\n",
              "      <th></th>\n",
              "      <th>relationship_Husband</th>\n",
              "      <th>relationship_Not-in-family</th>\n",
              "      <th>relationship_Other-relative</th>\n",
              "      <th>relationship_Own-child</th>\n",
              "      <th>relationship_Unmarried</th>\n",
              "      <th>relationship_Wife</th>\n",
              "      <th>race_Amer-Indian-Eskimo</th>\n",
              "      <th>race_Asian-Pac-Islander</th>\n",
              "      <th>race_Black</th>\n",
              "      <th>race_White</th>\n",
              "      <th>sex_Female</th>\n",
              "      <th>workclass_2</th>\n",
              "      <th>workclass_3</th>\n",
              "      <th>workclass_4</th>\n",
              "      <th>marital.status_1</th>\n",
              "      <th>marital.status_2</th>\n",
              "      <th>marital.status_3</th>\n",
              "      <th>occupation_1</th>\n",
              "      <th>occupation_2</th>\n",
              "      <th>occupation_3</th>\n",
              "      <th>occupation_4</th>\n",
              "      <th>native.country_1</th>\n",
              "      <th>native.country_2</th>\n",
              "      <th>native.country_3</th>\n",
              "      <th>native.country_4</th>\n",
              "      <th>native.country_5</th>\n",
              "      <th>native.country_6</th>\n",
              "      <th>age</th>\n",
              "      <th>education.num</th>\n",
              "      <th>capital.gain</th>\n",
              "      <th>capital.loss</th>\n",
              "      <th>hours.per.week</th>\n",
              "    </tr>\n",
              "  </thead>\n",
              "  <tbody>\n",
              "    <tr>\n",
              "      <th>0</th>\n",
              "      <td>0.376266</td>\n",
              "      <td>0.014001</td>\n",
              "      <td>0.00194</td>\n",
              "      <td>0.015196</td>\n",
              "      <td>0.008113</td>\n",
              "      <td>0.051032</td>\n",
              "      <td>0.004434</td>\n",
              "      <td>0.003828</td>\n",
              "      <td>0.002977</td>\n",
              "      <td>0.006356</td>\n",
              "      <td>0.015996</td>\n",
              "      <td>0.004883</td>\n",
              "      <td>0.004041</td>\n",
              "      <td>0.005335</td>\n",
              "      <td>0.032309</td>\n",
              "      <td>0.001041</td>\n",
              "      <td>0.158658</td>\n",
              "      <td>0.006509</td>\n",
              "      <td>0.008925</td>\n",
              "      <td>0.004331</td>\n",
              "      <td>0.085149</td>\n",
              "      <td>0.002476</td>\n",
              "      <td>0.002214</td>\n",
              "      <td>0.004215</td>\n",
              "      <td>0.003396</td>\n",
              "      <td>0.005624</td>\n",
              "      <td>0.004855</td>\n",
              "      <td>0.024873</td>\n",
              "      <td>0.061785</td>\n",
              "      <td>0.040137</td>\n",
              "      <td>0.02045</td>\n",
              "      <td>0.018655</td>\n",
              "    </tr>\n",
              "  </tbody>\n",
              "</table>\n",
              "</div>"
            ],
            "text/plain": [
              "   relationship_Husband  ...  hours.per.week\n",
              "0              0.376266  ...        0.018655\n",
              "\n",
              "[1 rows x 32 columns]"
            ]
          },
          "metadata": {
            "tags": []
          },
          "execution_count": 139
        }
      ]
    },
    {
      "cell_type": "code",
      "metadata": {
        "colab": {
          "base_uri": "https://localhost:8080/"
        },
        "id": "j7mN41rS_wKF",
        "outputId": "b9521eba-d12b-414e-b3d7-e596354a8956"
      },
      "source": [
        "feat_imp4.shape"
      ],
      "execution_count": null,
      "outputs": [
        {
          "output_type": "execute_result",
          "data": {
            "text/plain": [
              "(1, 32)"
            ]
          },
          "metadata": {
            "tags": []
          },
          "execution_count": 140
        }
      ]
    },
    {
      "cell_type": "markdown",
      "metadata": {
        "id": "WbvJrXxdEgE3"
      },
      "source": [
        "5. Model Selection (tree, abc, gbc, xgb) using Grid Search"
      ]
    },
    {
      "cell_type": "code",
      "metadata": {
        "id": "XVTnGeTGFZ2_"
      },
      "source": [
        "tree = DecisionTreeClassifier(max_depth=3)\n",
        "abc = AdaBoostClassifier(tree, n_estimators=200, learning_rate=0.1, random_state=2021)\n",
        "gbc = GradientBoostingClassifier(n_estimators=200, learning_rate=0.1, max_depth=3, random_state=2021)\n",
        "xgb = XGBClassifier(max_depth=3, n_estimators=200, learning_rate=0.1, random_state=2021)"
      ],
      "execution_count": null,
      "outputs": []
    },
    {
      "cell_type": "code",
      "metadata": {
        "colab": {
          "base_uri": "https://localhost:8080/",
          "height": 215
        },
        "id": "BESytS7YIDtT",
        "outputId": "6aaada84-0c68-4664-d3e1-334fca19b53d"
      },
      "source": [
        "estimator = Pipeline([('clf', tree)])\n",
        "hyperparam = {'clf':[tree, abc, gbc, xgb]}\n",
        "skf = StratifiedKFold(n_splits=5)\n",
        "grid_search = GridSearchCV(estimator, param_grid=hyperparam, cv=skf, scoring='f1', n_jobs=-1)"
      ],
      "execution_count": null,
      "outputs": [
        {
          "output_type": "error",
          "ename": "NameError",
          "evalue": "ignored",
          "traceback": [
            "\u001b[0;31m---------------------------------------------------------------------------\u001b[0m",
            "\u001b[0;31mNameError\u001b[0m                                 Traceback (most recent call last)",
            "\u001b[0;32m<ipython-input-1-49558fb006b2>\u001b[0m in \u001b[0;36m<module>\u001b[0;34m()\u001b[0m\n\u001b[0;32m----> 1\u001b[0;31m \u001b[0mestimator\u001b[0m \u001b[0;34m=\u001b[0m \u001b[0mPipeline\u001b[0m\u001b[0;34m(\u001b[0m\u001b[0;34m[\u001b[0m\u001b[0;34m(\u001b[0m\u001b[0;34m'clf'\u001b[0m\u001b[0;34m,\u001b[0m \u001b[0mtree\u001b[0m\u001b[0;34m)\u001b[0m\u001b[0;34m]\u001b[0m\u001b[0;34m)\u001b[0m\u001b[0;34m\u001b[0m\u001b[0;34m\u001b[0m\u001b[0m\n\u001b[0m\u001b[1;32m      2\u001b[0m \u001b[0mhyperparam\u001b[0m \u001b[0;34m=\u001b[0m \u001b[0;34m{\u001b[0m\u001b[0;34m'clf'\u001b[0m\u001b[0;34m:\u001b[0m\u001b[0;34m[\u001b[0m\u001b[0mtree\u001b[0m\u001b[0;34m,\u001b[0m \u001b[0mabc\u001b[0m\u001b[0;34m,\u001b[0m \u001b[0mgbc\u001b[0m\u001b[0;34m,\u001b[0m \u001b[0mxgb\u001b[0m\u001b[0;34m]\u001b[0m\u001b[0;34m}\u001b[0m\u001b[0;34m\u001b[0m\u001b[0;34m\u001b[0m\u001b[0m\n\u001b[1;32m      3\u001b[0m \u001b[0mskf\u001b[0m \u001b[0;34m=\u001b[0m \u001b[0mStratifiedKFold\u001b[0m\u001b[0;34m(\u001b[0m\u001b[0mn_splits\u001b[0m\u001b[0;34m=\u001b[0m\u001b[0;36m5\u001b[0m\u001b[0;34m)\u001b[0m\u001b[0;34m\u001b[0m\u001b[0;34m\u001b[0m\u001b[0m\n\u001b[1;32m      4\u001b[0m \u001b[0mgrid_search\u001b[0m \u001b[0;34m=\u001b[0m \u001b[0mGridSearchCV\u001b[0m\u001b[0;34m(\u001b[0m\u001b[0mestimator\u001b[0m\u001b[0;34m,\u001b[0m \u001b[0mparam_grid\u001b[0m\u001b[0;34m=\u001b[0m\u001b[0mhyperparam\u001b[0m\u001b[0;34m,\u001b[0m \u001b[0mcv\u001b[0m\u001b[0;34m=\u001b[0m\u001b[0mskf\u001b[0m\u001b[0;34m,\u001b[0m \u001b[0mscoring\u001b[0m\u001b[0;34m=\u001b[0m\u001b[0;34m'f1'\u001b[0m\u001b[0;34m,\u001b[0m \u001b[0mn_jobs\u001b[0m\u001b[0;34m=\u001b[0m\u001b[0;34m-\u001b[0m\u001b[0;36m1\u001b[0m\u001b[0;34m)\u001b[0m\u001b[0;34m\u001b[0m\u001b[0;34m\u001b[0m\u001b[0m\n",
            "\u001b[0;31mNameError\u001b[0m: name 'Pipeline' is not defined"
          ]
        }
      ]
    },
    {
      "cell_type": "code",
      "metadata": {
        "id": "VN3nVNTTExs9"
      },
      "source": [
        "grid_search.fit(X_train, y_train)\n",
        "grid_search.best_score_\n",
        "grid_search.best_params_\n",
        "grid_search.best_estimator_"
      ],
      "execution_count": null,
      "outputs": []
    },
    {
      "cell_type": "code",
      "metadata": {
        "id": "hD28d3D2KGe0"
      },
      "source": [
        "grid_search.best_estimator_.fit(X_train, y_train)\n",
        "y_pred_5 = grid_search.best_estimator_.predict(X_test)"
      ],
      "execution_count": null,
      "outputs": []
    },
    {
      "cell_type": "code",
      "metadata": {
        "id": "eeRWuSwhLSyJ"
      },
      "source": [
        "print(classification_report(y_test, y_pred_5))"
      ],
      "execution_count": null,
      "outputs": []
    }
  ]
}
