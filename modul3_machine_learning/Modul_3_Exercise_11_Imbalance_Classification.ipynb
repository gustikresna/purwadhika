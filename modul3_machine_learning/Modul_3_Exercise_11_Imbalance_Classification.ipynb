{
  "nbformat": 4,
  "nbformat_minor": 0,
  "metadata": {
    "colab": {
      "name": " Modul 3 Exercise 11 - Imbalance Classification.ipynb",
      "provenance": [],
      "collapsed_sections": [],
      "authorship_tag": "ABX9TyPuZwuEn9MKssPvi1fYPcTT",
      "include_colab_link": true
    },
    "kernelspec": {
      "name": "python3",
      "display_name": "Python 3"
    },
    "language_info": {
      "name": "python"
    }
  },
  "cells": [
    {
      "cell_type": "markdown",
      "metadata": {
        "id": "view-in-github",
        "colab_type": "text"
      },
      "source": [
        "<a href=\"https://colab.research.google.com/github/gustikresna/purwadhika-assignment/blob/main/Modul_3_Exercise_11_Imbalance_Classification.ipynb\" target=\"_parent\"><img src=\"https://colab.research.google.com/assets/colab-badge.svg\" alt=\"Open In Colab\"/></a>"
      ]
    },
    {
      "cell_type": "code",
      "metadata": {
        "id": "UhKTmcWy-ynN"
      },
      "source": [
        "import pandas as pd\n",
        "import numpy as np\n",
        "from sklearn.model_selection import train_test_split, StratifiedKFold, cross_val_score, GridSearchCV\n",
        "from imblearn.over_sampling import RandomOverSampler, SMOTE\n",
        "from imblearn.under_sampling import RandomUnderSampler, NearMiss\n",
        "from sklearn.metrics import f1_score, classification_report\n",
        "from sklearn.linear_model import LogisticRegression\n",
        "import seaborn as sns\n",
        "import matplotlib.pyplot as plt\n",
        "from sklearn.neighbors import KNeighborsClassifier"
      ],
      "execution_count": null,
      "outputs": []
    },
    {
      "cell_type": "markdown",
      "metadata": {
        "id": "XbiUEyXRFNap"
      },
      "source": [
        "### PYTHON EXERCISE : IMBALANCE CLASSIFICATION"
      ]
    },
    {
      "cell_type": "markdown",
      "metadata": {
        "id": "QK4d3zo5Dfpj"
      },
      "source": [
        "   Analyze data bankloan.csv\n",
        "\n",
        "1. build a logistics regression model\n",
        "2. target : default\n",
        "3. features : employ, debtinc, creddebt, othdebt\n",
        "4. Explore the class distribution\n",
        "5. Random state 2020, stratified training 60% validation 20% testing 20%\n",
        "6. Modeling evaluate by f1 score in test set:\n",
        "*   logistic regression without any treatment\n",
        "*   logistic regression that optimized by the threshold\n",
        "*   logistic regression with random undersampling\n",
        "*   Penalized logistic regression"
      ]
    },
    {
      "cell_type": "code",
      "metadata": {
        "id": "FOBI7hfl_tes"
      },
      "source": [
        "bankloan = pd.read_csv('bankloan.csv')"
      ],
      "execution_count": null,
      "outputs": []
    },
    {
      "cell_type": "code",
      "metadata": {
        "colab": {
          "base_uri": "https://localhost:8080/",
          "height": 204
        },
        "id": "7wnyZbryAe9-",
        "outputId": "7e5ab71b-8bf8-4f19-a359-dd0442f0d86a"
      },
      "source": [
        "bankloan.head()"
      ],
      "execution_count": null,
      "outputs": [
        {
          "output_type": "execute_result",
          "data": {
            "text/html": [
              "<div>\n",
              "<style scoped>\n",
              "    .dataframe tbody tr th:only-of-type {\n",
              "        vertical-align: middle;\n",
              "    }\n",
              "\n",
              "    .dataframe tbody tr th {\n",
              "        vertical-align: top;\n",
              "    }\n",
              "\n",
              "    .dataframe thead th {\n",
              "        text-align: right;\n",
              "    }\n",
              "</style>\n",
              "<table border=\"1\" class=\"dataframe\">\n",
              "  <thead>\n",
              "    <tr style=\"text-align: right;\">\n",
              "      <th></th>\n",
              "      <th>age</th>\n",
              "      <th>ed</th>\n",
              "      <th>employ</th>\n",
              "      <th>address</th>\n",
              "      <th>income</th>\n",
              "      <th>debtinc</th>\n",
              "      <th>creddebt</th>\n",
              "      <th>othdebt</th>\n",
              "      <th>default</th>\n",
              "    </tr>\n",
              "  </thead>\n",
              "  <tbody>\n",
              "    <tr>\n",
              "      <th>0</th>\n",
              "      <td>41</td>\n",
              "      <td>3</td>\n",
              "      <td>17</td>\n",
              "      <td>12</td>\n",
              "      <td>176</td>\n",
              "      <td>9.3</td>\n",
              "      <td>11.359392</td>\n",
              "      <td>5.008608</td>\n",
              "      <td>1</td>\n",
              "    </tr>\n",
              "    <tr>\n",
              "      <th>1</th>\n",
              "      <td>27</td>\n",
              "      <td>1</td>\n",
              "      <td>10</td>\n",
              "      <td>6</td>\n",
              "      <td>31</td>\n",
              "      <td>17.3</td>\n",
              "      <td>1.362202</td>\n",
              "      <td>4.000798</td>\n",
              "      <td>0</td>\n",
              "    </tr>\n",
              "    <tr>\n",
              "      <th>2</th>\n",
              "      <td>40</td>\n",
              "      <td>1</td>\n",
              "      <td>15</td>\n",
              "      <td>14</td>\n",
              "      <td>55</td>\n",
              "      <td>5.5</td>\n",
              "      <td>0.856075</td>\n",
              "      <td>2.168925</td>\n",
              "      <td>0</td>\n",
              "    </tr>\n",
              "    <tr>\n",
              "      <th>3</th>\n",
              "      <td>41</td>\n",
              "      <td>1</td>\n",
              "      <td>15</td>\n",
              "      <td>14</td>\n",
              "      <td>120</td>\n",
              "      <td>2.9</td>\n",
              "      <td>2.658720</td>\n",
              "      <td>0.821280</td>\n",
              "      <td>0</td>\n",
              "    </tr>\n",
              "    <tr>\n",
              "      <th>4</th>\n",
              "      <td>24</td>\n",
              "      <td>2</td>\n",
              "      <td>2</td>\n",
              "      <td>0</td>\n",
              "      <td>28</td>\n",
              "      <td>17.3</td>\n",
              "      <td>1.787436</td>\n",
              "      <td>3.056564</td>\n",
              "      <td>1</td>\n",
              "    </tr>\n",
              "  </tbody>\n",
              "</table>\n",
              "</div>"
            ],
            "text/plain": [
              "   age  ed  employ  address  income  debtinc   creddebt   othdebt  default\n",
              "0   41   3      17       12     176      9.3  11.359392  5.008608        1\n",
              "1   27   1      10        6      31     17.3   1.362202  4.000798        0\n",
              "2   40   1      15       14      55      5.5   0.856075  2.168925        0\n",
              "3   41   1      15       14     120      2.9   2.658720  0.821280        0\n",
              "4   24   2       2        0      28     17.3   1.787436  3.056564        1"
            ]
          },
          "metadata": {
            "tags": []
          },
          "execution_count": 5
        }
      ]
    },
    {
      "cell_type": "code",
      "metadata": {
        "id": "qzyKGrWxAgbY"
      },
      "source": [
        "y = bankloan['default']\n",
        "X = bankloan[['employ', 'debtinc', 'creddebt', 'othdebt']]"
      ],
      "execution_count": null,
      "outputs": []
    },
    {
      "cell_type": "code",
      "metadata": {
        "colab": {
          "base_uri": "https://localhost:8080/"
        },
        "id": "Vr_Sx2o_AuyS",
        "outputId": "2c9057e4-d660-40d8-894b-2b5992360e69"
      },
      "source": [
        "y.value_counts()/ bankloan.shape[0] * 100"
      ],
      "execution_count": null,
      "outputs": [
        {
          "output_type": "execute_result",
          "data": {
            "text/plain": [
              "0    73.857143\n",
              "1    26.142857\n",
              "Name: default, dtype: float64"
            ]
          },
          "metadata": {
            "tags": []
          },
          "execution_count": 7
        }
      ]
    },
    {
      "cell_type": "code",
      "metadata": {
        "id": "kJKitOqjA9he"
      },
      "source": [
        "train_size = 0.6\n",
        "val_size = 0.2\n",
        "test_size = 0.2\n",
        "\n",
        "X_train_val, X_test, y_train_val, y_test = train_test_split(X, y, stratify=y, test_size=test_size)\n",
        "\n",
        "X_train, X_val, y_train, y_val = train_test_split(X_train_val, y_train_val, stratify=y_train_val, test_size=val_size/(train_size+val_size))"
      ],
      "execution_count": null,
      "outputs": []
    },
    {
      "cell_type": "markdown",
      "metadata": {
        "id": "IljEDblcOX6H"
      },
      "source": [
        "1. Logistic Regression w/o Any Treatment"
      ]
    },
    {
      "cell_type": "code",
      "metadata": {
        "colab": {
          "base_uri": "https://localhost:8080/"
        },
        "id": "3rMOea6wDfBa",
        "outputId": "199e4cd3-6672-41cb-d26f-bcde75cc52d0"
      },
      "source": [
        "logreg = LogisticRegression()\n",
        "logreg.fit(X_train_val, y_train_val)\n",
        "y_pred = logreg.predict(X_test)\n",
        "print(classification_report(y_test, y_pred))"
      ],
      "execution_count": null,
      "outputs": [
        {
          "output_type": "stream",
          "text": [
            "              precision    recall  f1-score   support\n",
            "\n",
            "           0       0.85      0.96      0.90       103\n",
            "           1       0.83      0.54      0.66        37\n",
            "\n",
            "    accuracy                           0.85       140\n",
            "   macro avg       0.84      0.75      0.78       140\n",
            "weighted avg       0.85      0.85      0.84       140\n",
            "\n"
          ],
          "name": "stdout"
        }
      ]
    },
    {
      "cell_type": "markdown",
      "metadata": {
        "id": "bxjph2mROeoy"
      },
      "source": [
        "2. Logistic Regression that Optimized by Threshold"
      ]
    },
    {
      "cell_type": "code",
      "metadata": {
        "colab": {
          "base_uri": "https://localhost:8080/"
        },
        "id": "2p4qajHfEqHx",
        "outputId": "71549f0e-7e59-4934-a2bf-935e12062450"
      },
      "source": [
        "logreg.fit(X_train, y_train)"
      ],
      "execution_count": null,
      "outputs": [
        {
          "output_type": "execute_result",
          "data": {
            "text/plain": [
              "LogisticRegression(C=1.0, class_weight=None, dual=False, fit_intercept=True,\n",
              "                   intercept_scaling=1, l1_ratio=None, max_iter=100,\n",
              "                   multi_class='auto', n_jobs=None, penalty='l2',\n",
              "                   random_state=None, solver='lbfgs', tol=0.0001, verbose=0,\n",
              "                   warm_start=False)"
            ]
          },
          "metadata": {
            "tags": []
          },
          "execution_count": 10
        }
      ]
    },
    {
      "cell_type": "code",
      "metadata": {
        "id": "UHe1s54UOou8"
      },
      "source": [
        "th_value = [i/100 for i in range(20,60)]"
      ],
      "execution_count": null,
      "outputs": []
    },
    {
      "cell_type": "code",
      "metadata": {
        "id": "CoZpE6jhOsA9"
      },
      "source": [
        "score = 0\n",
        "score_list = []\n",
        "\n",
        "for i in th_value:\n",
        "  y_prob = logreg.predict_proba(X_val)[:,1]\n",
        "  y_pred = np.where(y_prob > i, 1, 0)\n",
        "\n",
        "  score_temp = f1_score(y_val, y_pred)\n",
        "  score_list.append(score_temp)\n",
        "\n",
        "  if score_temp > score:\n",
        "    score = score_temp\n",
        "    best_score = score\n",
        "    best_th = i"
      ],
      "execution_count": null,
      "outputs": []
    },
    {
      "cell_type": "code",
      "metadata": {
        "colab": {
          "base_uri": "https://localhost:8080/"
        },
        "id": "dwUJ5IE-QLsn",
        "outputId": "4e72c296-cdff-44e0-86f1-f8278d16e722"
      },
      "source": [
        "best_score"
      ],
      "execution_count": null,
      "outputs": [
        {
          "output_type": "execute_result",
          "data": {
            "text/plain": [
              "0.6285714285714286"
            ]
          },
          "metadata": {
            "tags": []
          },
          "execution_count": 13
        }
      ]
    },
    {
      "cell_type": "code",
      "metadata": {
        "colab": {
          "base_uri": "https://localhost:8080/"
        },
        "id": "1heYhAfPQNZj",
        "outputId": "0ae13e6d-298d-45ee-a890-082cc1462377"
      },
      "source": [
        "best_th"
      ],
      "execution_count": null,
      "outputs": [
        {
          "output_type": "execute_result",
          "data": {
            "text/plain": [
              "0.2"
            ]
          },
          "metadata": {
            "tags": []
          },
          "execution_count": 14
        }
      ]
    },
    {
      "cell_type": "code",
      "metadata": {
        "colab": {
          "base_uri": "https://localhost:8080/",
          "height": 336
        },
        "id": "GJZ-ly60QhXp",
        "outputId": "88dc3a72-47fe-4a9c-951b-9c61dcf929cf"
      },
      "source": [
        "sns.lineplot(th_value, score_list)"
      ],
      "execution_count": null,
      "outputs": [
        {
          "output_type": "stream",
          "text": [
            "/usr/local/lib/python3.7/dist-packages/seaborn/_decorators.py:43: FutureWarning: Pass the following variables as keyword args: x, y. From version 0.12, the only valid positional argument will be `data`, and passing other arguments without an explicit keyword will result in an error or misinterpretation.\n",
            "  FutureWarning\n"
          ],
          "name": "stderr"
        },
        {
          "output_type": "execute_result",
          "data": {
            "text/plain": [
              "<matplotlib.axes._subplots.AxesSubplot at 0x7f9281901a90>"
            ]
          },
          "metadata": {
            "tags": []
          },
          "execution_count": 15
        },
        {
          "output_type": "display_data",
          "data": {
            "image/png": "[encoded data removed]",
            "text/plain": [
              "<Figure size 432x288 with 1 Axes>"
            ]
          },
          "metadata": {
            "tags": [],
            "needs_background": "light"
          }
        }
      ]
    },
    {
      "cell_type": "code",
      "metadata": {
        "colab": {
          "base_uri": "https://localhost:8080/"
        },
        "id": "t27AO2qOSnS-",
        "outputId": "a5d3f6fc-194e-4797-f115-1148075d0f62"
      },
      "source": [
        "logreg.fit(X_train_val, y_train_val)"
      ],
      "execution_count": null,
      "outputs": [
        {
          "output_type": "execute_result",
          "data": {
            "text/plain": [
              "LogisticRegression(C=1.0, class_weight=None, dual=False, fit_intercept=True,\n",
              "                   intercept_scaling=1, l1_ratio=None, max_iter=100,\n",
              "                   multi_class='auto', n_jobs=None, penalty='l2',\n",
              "                   random_state=None, solver='lbfgs', tol=0.0001, verbose=0,\n",
              "                   warm_start=False)"
            ]
          },
          "metadata": {
            "tags": []
          },
          "execution_count": 16
        }
      ]
    },
    {
      "cell_type": "code",
      "metadata": {
        "id": "Cpniz-hPTDgQ"
      },
      "source": [
        "y_prob = logreg.predict_proba(X_test)[:,1]\n",
        "y_pred = np.where(y_prob > best_th, 1, 0)"
      ],
      "execution_count": null,
      "outputs": []
    },
    {
      "cell_type": "code",
      "metadata": {
        "colab": {
          "base_uri": "https://localhost:8080/"
        },
        "id": "ZeUYH18ZTOq0",
        "outputId": "b12dad67-3a90-4602-aa6b-b9e5743f5a06"
      },
      "source": [
        "print(classification_report(y_test, y_pred))"
      ],
      "execution_count": null,
      "outputs": [
        {
          "output_type": "stream",
          "text": [
            "              precision    recall  f1-score   support\n",
            "\n",
            "           0       0.88      0.67      0.76       103\n",
            "           1       0.45      0.76      0.57        37\n",
            "\n",
            "    accuracy                           0.69       140\n",
            "   macro avg       0.67      0.71      0.66       140\n",
            "weighted avg       0.77      0.69      0.71       140\n",
            "\n"
          ],
          "name": "stdout"
        }
      ]
    },
    {
      "cell_type": "markdown",
      "metadata": {
        "id": "gfMiJq3FUDjJ"
      },
      "source": [
        "3. Logistic Regression with Random Undersampling"
      ]
    },
    {
      "cell_type": "code",
      "metadata": {
        "id": "Zvt4TahzTTBW",
        "colab": {
          "base_uri": "https://localhost:8080/"
        },
        "outputId": "08d96225-b109-4b1e-96c2-b664dad29191"
      },
      "source": [
        "rus = RandomUnderSampler(random_state=10)\n",
        "X_rus, y_rus = rus.fit_resample(X_train_val, y_train_val)"
      ],
      "execution_count": null,
      "outputs": [
        {
          "output_type": "stream",
          "text": [
            "/usr/local/lib/python3.7/dist-packages/sklearn/utils/deprecation.py:87: FutureWarning: Function safe_indexing is deprecated; safe_indexing is deprecated in version 0.22 and will be removed in version 0.24.\n",
            "  warnings.warn(msg, category=FutureWarning)\n"
          ],
          "name": "stderr"
        }
      ]
    },
    {
      "cell_type": "code",
      "metadata": {
        "colab": {
          "base_uri": "https://localhost:8080/"
        },
        "id": "Fru7NctyFtRC",
        "outputId": "9401c0cf-e54b-4bed-d748-cefa5f65771a"
      },
      "source": [
        "logreg.fit(X_rus, y_rus)"
      ],
      "execution_count": null,
      "outputs": [
        {
          "output_type": "execute_result",
          "data": {
            "text/plain": [
              "LogisticRegression(C=1.0, class_weight=None, dual=False, fit_intercept=True,\n",
              "                   intercept_scaling=1, l1_ratio=None, max_iter=100,\n",
              "                   multi_class='auto', n_jobs=None, penalty='l2',\n",
              "                   random_state=None, solver='lbfgs', tol=0.0001, verbose=0,\n",
              "                   warm_start=False)"
            ]
          },
          "metadata": {
            "tags": []
          },
          "execution_count": 20
        }
      ]
    },
    {
      "cell_type": "code",
      "metadata": {
        "id": "7zUtQkVHIMPm"
      },
      "source": [
        "y_pred = logreg.predict(X_test)"
      ],
      "execution_count": null,
      "outputs": []
    },
    {
      "cell_type": "code",
      "metadata": {
        "colab": {
          "base_uri": "https://localhost:8080/"
        },
        "id": "5IhqBf1CIjtK",
        "outputId": "9477c797-5c4e-4d36-bb2b-72c38231da85"
      },
      "source": [
        "print(classification_report(y_test, y_pred))"
      ],
      "execution_count": null,
      "outputs": [
        {
          "output_type": "stream",
          "text": [
            "              precision    recall  f1-score   support\n",
            "\n",
            "           0       0.88      0.73      0.80       103\n",
            "           1       0.49      0.73      0.59        37\n",
            "\n",
            "    accuracy                           0.73       140\n",
            "   macro avg       0.69      0.73      0.69       140\n",
            "weighted avg       0.78      0.73      0.74       140\n",
            "\n"
          ],
          "name": "stdout"
        }
      ]
    },
    {
      "cell_type": "markdown",
      "metadata": {
        "id": "GRnOd_W9IxAo"
      },
      "source": [
        "4. Penalized Logistic Regression"
      ]
    },
    {
      "cell_type": "code",
      "metadata": {
        "id": "Z-7Q3ji4IlhU"
      },
      "source": [
        "pen_logreg = LogisticRegression(class_weight='balanced')"
      ],
      "execution_count": null,
      "outputs": []
    },
    {
      "cell_type": "code",
      "metadata": {
        "colab": {
          "base_uri": "https://localhost:8080/"
        },
        "id": "mvTbGKJAK1dx",
        "outputId": "4b4b32d2-682a-4a7b-d976-61aeca8253ce"
      },
      "source": [
        "pen_logreg.fit(X_train_val, y_train_val)"
      ],
      "execution_count": null,
      "outputs": [
        {
          "output_type": "execute_result",
          "data": {
            "text/plain": [
              "LogisticRegression(C=1.0, class_weight='balanced', dual=False,\n",
              "                   fit_intercept=True, intercept_scaling=1, l1_ratio=None,\n",
              "                   max_iter=100, multi_class='auto', n_jobs=None, penalty='l2',\n",
              "                   random_state=None, solver='lbfgs', tol=0.0001, verbose=0,\n",
              "                   warm_start=False)"
            ]
          },
          "metadata": {
            "tags": []
          },
          "execution_count": 24
        }
      ]
    },
    {
      "cell_type": "code",
      "metadata": {
        "id": "Ot5oJmC6K7F0"
      },
      "source": [
        "y_pred = pen_logreg.predict(X_test)"
      ],
      "execution_count": null,
      "outputs": []
    },
    {
      "cell_type": "code",
      "metadata": {
        "colab": {
          "base_uri": "https://localhost:8080/"
        },
        "id": "AgsAD6CXLCaF",
        "outputId": "b37a2eb7-0361-4b45-db81-e84ba736fa23"
      },
      "source": [
        "print(classification_report(y_test, y_pred))"
      ],
      "execution_count": null,
      "outputs": [
        {
          "output_type": "stream",
          "text": [
            "              precision    recall  f1-score   support\n",
            "\n",
            "           0       0.90      0.77      0.83       103\n",
            "           1       0.54      0.76      0.63        37\n",
            "\n",
            "    accuracy                           0.76       140\n",
            "   macro avg       0.72      0.76      0.73       140\n",
            "weighted avg       0.80      0.76      0.77       140\n",
            "\n"
          ],
          "name": "stdout"
        }
      ]
    },
    {
      "cell_type": "markdown",
      "metadata": {
        "id": "vbtcPgg7LLXl"
      },
      "source": [
        "### PYTHON EXERCISE : COMBINE CROSS VALIDATION WITH BALANCING METHOD"
      ]
    },
    {
      "cell_type": "markdown",
      "metadata": {
        "id": "U2RWdiVAL1rR"
      },
      "source": [
        " Analyze data bankloan.csv\n",
        "\n",
        "1. build a logistics regression model\n",
        " * target : default\n",
        " * features : employ, debtinc, creddebt, othdebt\n",
        "2. Random state 2020, stratified training 60% validation 20% testing 20%\n",
        "3. Modeling evaluate by f1 score using Strat. CV 5 Fold:\n",
        " * Penalized logistic regression\n",
        " * Logistic regression with SMOTE\n",
        "\n",
        "Which method is better"
      ]
    },
    {
      "cell_type": "code",
      "metadata": {
        "id": "mD3TdufsLIWB"
      },
      "source": [
        "y = bankloan['default']\n",
        "X = bankloan[['employ', 'debtinc', 'creddebt', 'othdebt']]"
      ],
      "execution_count": null,
      "outputs": []
    },
    {
      "cell_type": "code",
      "metadata": {
        "id": "3kqv8UqkMhBX"
      },
      "source": [
        "train_size = 0.6\n",
        "val_size = 0.2\n",
        "test_size = 0.2\n",
        "\n",
        "X_train_val, X_test, y_train_val, y_test = train_test_split(X, y, stratify=y, test_size=test_size)\n",
        "\n",
        "X_train, X_val, y_train, y_val = train_test_split(X_train_val, y_train_val, stratify=y_train_val, test_size=val_size/(train_size+val_size))"
      ],
      "execution_count": null,
      "outputs": []
    },
    {
      "cell_type": "markdown",
      "metadata": {
        "id": "j9CV3eGiPWsf"
      },
      "source": [
        "1. Penalized Logistic Regression"
      ]
    },
    {
      "cell_type": "code",
      "metadata": {
        "id": "49wPhV7hPf6A"
      },
      "source": [
        "skf = StratifiedKFold(n_splits=5)"
      ],
      "execution_count": null,
      "outputs": []
    },
    {
      "cell_type": "code",
      "metadata": {
        "id": "aZ7RLhTTMn7U",
        "colab": {
          "base_uri": "https://localhost:8080/"
        },
        "outputId": "d996b3e3-57fd-428c-8dd3-ae53c0514454"
      },
      "source": [
        "pen_logreg = LogisticRegression(class_weight='balanced')\n",
        "print('f1 score :', np.mean(cross_val_score(pen_logreg, X_train_val, y_train_val, cv=skf, scoring='f1')))"
      ],
      "execution_count": null,
      "outputs": [
        {
          "output_type": "stream",
          "text": [
            "f1 score : 0.6019797189112258\n"
          ],
          "name": "stdout"
        }
      ]
    },
    {
      "cell_type": "markdown",
      "metadata": {
        "id": "Q8Sbli35Fr12"
      },
      "source": [
        "2. Logistic Regression with SMOTE"
      ]
    },
    {
      "cell_type": "code",
      "metadata": {
        "colab": {
          "base_uri": "https://localhost:8080/"
        },
        "id": "cGNgqdCvPeJY",
        "outputId": "1f85a42b-2127-4359-b3d5-b7e769f63cdb"
      },
      "source": [
        "smote = SMOTE()\n",
        "X_smote, y_smote = smote.fit_resample(X_train_val, y_train_val)"
      ],
      "execution_count": null,
      "outputs": [
        {
          "output_type": "stream",
          "text": [
            "/usr/local/lib/python3.7/dist-packages/sklearn/utils/deprecation.py:87: FutureWarning: Function safe_indexing is deprecated; safe_indexing is deprecated in version 0.22 and will be removed in version 0.24.\n",
            "  warnings.warn(msg, category=FutureWarning)\n"
          ],
          "name": "stderr"
        }
      ]
    },
    {
      "cell_type": "code",
      "metadata": {
        "id": "a-KJiNkQQwkH",
        "colab": {
          "base_uri": "https://localhost:8080/"
        },
        "outputId": "11dc5336-7784-4351-8f4a-60a44a840eca"
      },
      "source": [
        "logreg = LogisticRegression(solver='liblinear')\n",
        "print('f1 score :', np.mean(cross_val_score(logreg, X_smote, y_smote, cv=skf, scoring='f1')))"
      ],
      "execution_count": null,
      "outputs": [
        {
          "output_type": "stream",
          "text": [
            "f1 score : 0.7649561639440183\n"
          ],
          "name": "stdout"
        }
      ]
    },
    {
      "cell_type": "markdown",
      "metadata": {
        "id": "GKKE6fl3HQ27"
      },
      "source": [
        "### PYTHON EXERCISE : COMBINE HYPERPARAMETER TUNING WITH BALANCING METHOD"
      ]
    },
    {
      "cell_type": "code",
      "metadata": {
        "id": "Cedz9lHdHNSt"
      },
      "source": [
        "y = bankloan['default']\n",
        "X = bankloan[['employ', 'debtinc', 'creddebt', 'othdebt']]"
      ],
      "execution_count": null,
      "outputs": []
    },
    {
      "cell_type": "code",
      "metadata": {
        "id": "CoiXVRJ4II0D"
      },
      "source": [
        "X_train, X_test, y_train, y_test = train_test_split(X, y, test_size=0.3, stratify=y, random_state=2021)"
      ],
      "execution_count": null,
      "outputs": []
    },
    {
      "cell_type": "code",
      "metadata": {
        "colab": {
          "base_uri": "https://localhost:8080/"
        },
        "id": "jT2GYpGJLqXo",
        "outputId": "38874c29-f4c6-4d5d-ff09-f270574148e1"
      },
      "source": [
        "X_smote, y_smote = smote.fit_resample(X_train, y_train)"
      ],
      "execution_count": null,
      "outputs": [
        {
          "output_type": "stream",
          "text": [
            "/usr/local/lib/python3.7/dist-packages/sklearn/utils/deprecation.py:87: FutureWarning: Function safe_indexing is deprecated; safe_indexing is deprecated in version 0.22 and will be removed in version 0.24.\n",
            "  warnings.warn(msg, category=FutureWarning)\n"
          ],
          "name": "stderr"
        }
      ]
    },
    {
      "cell_type": "markdown",
      "metadata": {
        "id": "my7qTbf_LQ5H"
      },
      "source": [
        "1. kNN with SMOTE"
      ]
    },
    {
      "cell_type": "markdown",
      "metadata": {
        "id": "FqX6kD5ORluj"
      },
      "source": [
        "Using Cross Val Score"
      ]
    },
    {
      "cell_type": "code",
      "metadata": {
        "id": "H-15gUCwIYmz"
      },
      "source": [
        "knn = KNeighborsClassifier()"
      ],
      "execution_count": null,
      "outputs": []
    },
    {
      "cell_type": "code",
      "metadata": {
        "id": "6kYAJa60MK2H"
      },
      "source": [
        "params = {'n_neighbors': [3,4,5]}"
      ],
      "execution_count": null,
      "outputs": []
    },
    {
      "cell_type": "code",
      "metadata": {
        "id": "qHcTBKT1M7bZ"
      },
      "source": [
        "f1 = []\n",
        "best_f1 = 0\n",
        "\n",
        "for k in params['n_neighbors']:\n",
        "  knn = KNeighborsClassifier(n_neighbors=k)\n",
        "  score = (np.mean(cross_val_score(knn, X_smote, y_smote, scoring='f1', cv=5)))\n",
        "  f1.append(score)\n",
        "\n",
        "  if score > best_f1:\n",
        "    best_f1 = score\n",
        "    best_k = k"
      ],
      "execution_count": null,
      "outputs": []
    },
    {
      "cell_type": "code",
      "metadata": {
        "colab": {
          "base_uri": "https://localhost:8080/"
        },
        "id": "jFGX1HZMNxNP",
        "outputId": "c5ca5120-5680-4dc2-f22a-e4ffa6a834ad"
      },
      "source": [
        "print(best_f1)\n",
        "print(best_k)"
      ],
      "execution_count": null,
      "outputs": [
        {
          "output_type": "stream",
          "text": [
            "0.8007672796268503\n",
            "3\n"
          ],
          "name": "stdout"
        }
      ]
    },
    {
      "cell_type": "code",
      "metadata": {
        "colab": {
          "base_uri": "https://localhost:8080/"
        },
        "id": "xblhLtrRN81u",
        "outputId": "8a1c1399-3d78-42c7-ea17-f4da63b81f4a"
      },
      "source": [
        "knn = KNeighborsClassifier(n_neighbors=3)\n",
        "knn.fit(X_smote, y_smote)\n",
        "y_pred_1 = knn.predict(X_test)\n",
        "print(classification_report(y_test, y_pred_1))"
      ],
      "execution_count": null,
      "outputs": [
        {
          "output_type": "stream",
          "text": [
            "              precision    recall  f1-score   support\n",
            "\n",
            "           0       0.82      0.68      0.75       155\n",
            "           1       0.40      0.58      0.47        55\n",
            "\n",
            "    accuracy                           0.66       210\n",
            "   macro avg       0.61      0.63      0.61       210\n",
            "weighted avg       0.71      0.66      0.67       210\n",
            "\n"
          ],
          "name": "stdout"
        }
      ]
    },
    {
      "cell_type": "markdown",
      "metadata": {
        "id": "L8xgtAneRhb9"
      },
      "source": [
        "Using Grid Search"
      ]
    },
    {
      "cell_type": "code",
      "metadata": {
        "id": "IwBs9LH1MXYk"
      },
      "source": [
        "grid = GridSearchCV(knn, param_grid=params, scoring='f1', n_jobs=-1, cv=5)"
      ],
      "execution_count": null,
      "outputs": []
    },
    {
      "cell_type": "code",
      "metadata": {
        "colab": {
          "base_uri": "https://localhost:8080/"
        },
        "id": "HO-QwcWyMiwf",
        "outputId": "8cd1b398-6e72-406e-b6ee-8e0e53432f48"
      },
      "source": [
        "grid.fit(X_smote, y_smote)\n",
        "y_pred = grid.predict(X_test)\n",
        "print(classification_report(y_test, y_pred))"
      ],
      "execution_count": null,
      "outputs": [
        {
          "output_type": "stream",
          "text": [
            "              precision    recall  f1-score   support\n",
            "\n",
            "           0       0.82      0.68      0.75       155\n",
            "           1       0.40      0.58      0.47        55\n",
            "\n",
            "    accuracy                           0.66       210\n",
            "   macro avg       0.61      0.63      0.61       210\n",
            "weighted avg       0.71      0.66      0.67       210\n",
            "\n"
          ],
          "name": "stdout"
        }
      ]
    },
    {
      "cell_type": "code",
      "metadata": {
        "colab": {
          "base_uri": "https://localhost:8080/"
        },
        "id": "Sa29XmVVM0Yd",
        "outputId": "2abed725-f674-4dbe-cda9-4f4de756b438"
      },
      "source": [
        "grid.best_params_"
      ],
      "execution_count": null,
      "outputs": [
        {
          "output_type": "execute_result",
          "data": {
            "text/plain": [
              "{'n_neighbors': 3}"
            ]
          },
          "metadata": {
            "tags": []
          },
          "execution_count": 58
        }
      ]
    },
    {
      "cell_type": "markdown",
      "metadata": {
        "id": "FdURt6T7Rsdg"
      },
      "source": [
        "2. Logistic Regression with SMOTE"
      ]
    },
    {
      "cell_type": "code",
      "metadata": {
        "id": "3yo1BaiWRd3H"
      },
      "source": [
        "logreg = LogisticRegression()"
      ],
      "execution_count": null,
      "outputs": []
    },
    {
      "cell_type": "code",
      "metadata": {
        "id": "Lbh7FHzURzyB"
      },
      "source": [
        "params = {'C': [0.0001, 0.0005], 'solver': ['liblinear', 'lbfgs']}"
      ],
      "execution_count": null,
      "outputs": []
    },
    {
      "cell_type": "code",
      "metadata": {
        "id": "5NpVFJgiSEcj"
      },
      "source": [
        "grid = GridSearchCV(logreg, param_grid=params, scoring='f1', n_jobs=-1, cv=5)"
      ],
      "execution_count": null,
      "outputs": []
    },
    {
      "cell_type": "code",
      "metadata": {
        "colab": {
          "base_uri": "https://localhost:8080/"
        },
        "id": "p4Py41l-SOVI",
        "outputId": "7013fb52-9623-45d2-b078-c34e8cc22d71"
      },
      "source": [
        "grid.fit(X_smote, y_smote)\n",
        "y_pred = grid.predict(X_test)\n",
        "print(classification_report(y_test, y_pred))"
      ],
      "execution_count": null,
      "outputs": [
        {
          "output_type": "stream",
          "text": [
            "              precision    recall  f1-score   support\n",
            "\n",
            "           0       0.96      0.65      0.77       155\n",
            "           1       0.48      0.93      0.63        55\n",
            "\n",
            "    accuracy                           0.72       210\n",
            "   macro avg       0.72      0.79      0.70       210\n",
            "weighted avg       0.84      0.72      0.74       210\n",
            "\n"
          ],
          "name": "stdout"
        }
      ]
    },
    {
      "cell_type": "code",
      "metadata": {
        "id": "9AA8ta9IScK8"
      },
      "source": [
        ""
      ],
      "execution_count": null,
      "outputs": []
    }
  ]
}
