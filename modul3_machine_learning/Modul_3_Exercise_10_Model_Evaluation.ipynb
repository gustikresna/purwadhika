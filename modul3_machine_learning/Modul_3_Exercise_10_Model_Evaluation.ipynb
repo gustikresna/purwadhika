{
  "nbformat": 4,
  "nbformat_minor": 0,
  "metadata": {
    "colab": {
      "name": "Modul 3  Exercise 10 - Model Evaluation.ipynb",
      "provenance": [],
      "collapsed_sections": [],
      "authorship_tag": "ABX9TyPd0YXVMSuE4XXd+j2kuPGm",
      "include_colab_link": true
    },
    "kernelspec": {
      "name": "python3",
      "display_name": "Python 3"
    },
    "language_info": {
      "name": "python"
    }
  },
  "cells": [
    {
      "cell_type": "markdown",
      "metadata": {
        "id": "view-in-github",
        "colab_type": "text"
      },
      "source": [
        "<a href=\"https://colab.research.google.com/github/gustikresna/purwadhika-assignment/blob/main/Modul_3_Exercise_10_Model_Evaluation.ipynb\" target=\"_parent\"><img src=\"https://colab.research.google.com/assets/colab-badge.svg\" alt=\"Open In Colab\"/></a>"
      ]
    },
    {
      "cell_type": "code",
      "metadata": {
        "id": "6R5I9S-1Gdse"
      },
      "source": [
        "import pandas as pd\n",
        "import numpy as np\n",
        "from sklearn.linear_model import LogisticRegression, LinearRegression\n",
        "from sklearn.neighbors import KNeighborsClassifier\n",
        "from sklearn.tree import DecisionTreeClassifier, DecisionTreeRegressor\n",
        "from sklearn.metrics import accuracy_score,recall_score, precision_score, f1_score, precision_recall_curve, roc_curve, confusion_matrix, classification_report, plot_roc_curve, plot_precision_recall_curve, mean_squared_error\n",
        "from sklearn.model_selection import train_test_split, cross_val_score, StratifiedKFold, RandomizedSearchCV\n",
        "import matplotlib.pyplot as plt\n",
        "import seaborn as sns\n",
        "from sklearn.preprocessing import OneHotEncoder\n",
        "from sklearn.impute import SimpleImputer\n",
        "from sklearn.pipeline import Pipeline, make_pipeline\n",
        "from sklearn.compose import ColumnTransformer, make_column_transformer"
      ],
      "execution_count": null,
      "outputs": []
    },
    {
      "cell_type": "code",
      "metadata": {
        "colab": {
          "base_uri": "https://localhost:8080/"
        },
        "id": "tBWdAijjNUsD",
        "outputId": "7dd6a0ff-b112-4547-d193-88cdf61437ac"
      },
      "source": [
        "!pip install category_encoders"
      ],
      "execution_count": null,
      "outputs": [
        {
          "output_type": "stream",
          "text": [
            "Collecting category_encoders\n",
            "\u001b[?25l  Downloading https://files.pythonhosted.org/packages/44/57/fcef41c248701ee62e8325026b90c432adea35555cbc870aff9cfba23727/category_encoders-2.2.2-py2.py3-none-any.whl (80kB)\n",
            "\r\u001b[K     |████                            | 10kB 11.3MB/s eta 0:00:01\r\u001b[K     |████████▏                       | 20kB 16.8MB/s eta 0:00:01\r\u001b[K     |████████████▏                   | 30kB 21.0MB/s eta 0:00:01\r\u001b[K     |████████████████▎               | 40kB 23.6MB/s eta 0:00:01\r\u001b[K     |████████████████████▎           | 51kB 25.3MB/s eta 0:00:01\r\u001b[K     |████████████████████████▍       | 61kB 27.5MB/s eta 0:00:01\r\u001b[K     |████████████████████████████▍   | 71kB 28.8MB/s eta 0:00:01\r\u001b[K     |████████████████████████████████| 81kB 8.0MB/s \n",
            "\u001b[?25hRequirement already satisfied: pandas>=0.21.1 in /usr/local/lib/python3.7/dist-packages (from category_encoders) (1.1.5)\n",
            "Requirement already satisfied: scikit-learn>=0.20.0 in /usr/local/lib/python3.7/dist-packages (from category_encoders) (0.22.2.post1)\n",
            "Requirement already satisfied: numpy>=1.14.0 in /usr/local/lib/python3.7/dist-packages (from category_encoders) (1.19.5)\n",
            "Requirement already satisfied: patsy>=0.5.1 in /usr/local/lib/python3.7/dist-packages (from category_encoders) (0.5.1)\n",
            "Requirement already satisfied: statsmodels>=0.9.0 in /usr/local/lib/python3.7/dist-packages (from category_encoders) (0.10.2)\n",
            "Requirement already satisfied: scipy>=1.0.0 in /usr/local/lib/python3.7/dist-packages (from category_encoders) (1.4.1)\n",
            "Requirement already satisfied: python-dateutil>=2.7.3 in /usr/local/lib/python3.7/dist-packages (from pandas>=0.21.1->category_encoders) (2.8.1)\n",
            "Requirement already satisfied: pytz>=2017.2 in /usr/local/lib/python3.7/dist-packages (from pandas>=0.21.1->category_encoders) (2018.9)\n",
            "Requirement already satisfied: joblib>=0.11 in /usr/local/lib/python3.7/dist-packages (from scikit-learn>=0.20.0->category_encoders) (1.0.1)\n",
            "Requirement already satisfied: six in /usr/local/lib/python3.7/dist-packages (from patsy>=0.5.1->category_encoders) (1.15.0)\n",
            "Installing collected packages: category-encoders\n",
            "Successfully installed category-encoders-2.2.2\n"
          ],
          "name": "stdout"
        }
      ]
    },
    {
      "cell_type": "code",
      "metadata": {
        "colab": {
          "base_uri": "https://localhost:8080/"
        },
        "id": "l-fr6q9GNWLE",
        "outputId": "0624b87f-89c3-47a9-b249-1b2ca190c47b"
      },
      "source": [
        "import category_encoders as ce"
      ],
      "execution_count": null,
      "outputs": [
        {
          "output_type": "stream",
          "text": [
            "/usr/local/lib/python3.7/dist-packages/statsmodels/tools/_testing.py:19: FutureWarning: pandas.util.testing is deprecated. Use the functions in the public API at pandas.testing instead.\n",
            "  import pandas.util.testing as tm\n"
          ],
          "name": "stderr"
        }
      ]
    },
    {
      "cell_type": "markdown",
      "metadata": {
        "id": "LRY0YN9EnQGf"
      },
      "source": [
        "### PYTHON EXERCISE : MODEL EVALUATION 1"
      ]
    },
    {
      "cell_type": "markdown",
      "metadata": {
        "id": "BoOAcEVJnaqr"
      },
      "source": [
        "Analyze data ‘bankloan.csv’\n",
        "- employ, debtinc, creddebt, othdebt as Features\n",
        "- default as Target\n",
        "\n",
        "Random state 2020, splitting 80:20 stratified\n",
        "1. modeling compute accuracy, recall, and another metrics using Stratified CV 5 fold:\n",
        "*   logistic regression (solver liblinear)\n",
        "*   KNN (k = 5)\n",
        "*   tree (criterion entropy, max_depth 5)\n",
        "\n",
        "\n",
        "2. compute recall, precision, f1 score and make ROC, PRC from logistic regression(solver liblinear) in test\n",
        "3. Simple hyperparameter tuning : (optimize C) optimized by f1 and using training 60% validation 20% test 20%\n",
        "4. compare the result (before and after)\n",
        "5. Grid Search CV hyperparameter tuning : (optimize C and max_iter) optimized by f1 and using stratified CV 5 fold\n",
        "6. compare the result (before and after)"
      ]
    },
    {
      "cell_type": "code",
      "metadata": {
        "id": "_Xhj5VAVr1U2"
      },
      "source": [
        "bankloan = pd.read_csv('bankloan.csv')"
      ],
      "execution_count": null,
      "outputs": []
    },
    {
      "cell_type": "code",
      "metadata": {
        "colab": {
          "base_uri": "https://localhost:8080/",
          "height": 204
        },
        "id": "NTqc9vyysU4M",
        "outputId": "f7630960-f2d8-46ed-97e2-d5898e96e01b"
      },
      "source": [
        "bankloan.head()"
      ],
      "execution_count": null,
      "outputs": [
        {
          "output_type": "execute_result",
          "data": {
            "text/html": [
              "<div>\n",
              "<style scoped>\n",
              "    .dataframe tbody tr th:only-of-type {\n",
              "        vertical-align: middle;\n",
              "    }\n",
              "\n",
              "    .dataframe tbody tr th {\n",
              "        vertical-align: top;\n",
              "    }\n",
              "\n",
              "    .dataframe thead th {\n",
              "        text-align: right;\n",
              "    }\n",
              "</style>\n",
              "<table border=\"1\" class=\"dataframe\">\n",
              "  <thead>\n",
              "    <tr style=\"text-align: right;\">\n",
              "      <th></th>\n",
              "      <th>age</th>\n",
              "      <th>ed</th>\n",
              "      <th>employ</th>\n",
              "      <th>address</th>\n",
              "      <th>income</th>\n",
              "      <th>debtinc</th>\n",
              "      <th>creddebt</th>\n",
              "      <th>othdebt</th>\n",
              "      <th>default</th>\n",
              "    </tr>\n",
              "  </thead>\n",
              "  <tbody>\n",
              "    <tr>\n",
              "      <th>0</th>\n",
              "      <td>41</td>\n",
              "      <td>3</td>\n",
              "      <td>17</td>\n",
              "      <td>12</td>\n",
              "      <td>176</td>\n",
              "      <td>9.3</td>\n",
              "      <td>11.359392</td>\n",
              "      <td>5.008608</td>\n",
              "      <td>1</td>\n",
              "    </tr>\n",
              "    <tr>\n",
              "      <th>1</th>\n",
              "      <td>27</td>\n",
              "      <td>1</td>\n",
              "      <td>10</td>\n",
              "      <td>6</td>\n",
              "      <td>31</td>\n",
              "      <td>17.3</td>\n",
              "      <td>1.362202</td>\n",
              "      <td>4.000798</td>\n",
              "      <td>0</td>\n",
              "    </tr>\n",
              "    <tr>\n",
              "      <th>2</th>\n",
              "      <td>40</td>\n",
              "      <td>1</td>\n",
              "      <td>15</td>\n",
              "      <td>14</td>\n",
              "      <td>55</td>\n",
              "      <td>5.5</td>\n",
              "      <td>0.856075</td>\n",
              "      <td>2.168925</td>\n",
              "      <td>0</td>\n",
              "    </tr>\n",
              "    <tr>\n",
              "      <th>3</th>\n",
              "      <td>41</td>\n",
              "      <td>1</td>\n",
              "      <td>15</td>\n",
              "      <td>14</td>\n",
              "      <td>120</td>\n",
              "      <td>2.9</td>\n",
              "      <td>2.658720</td>\n",
              "      <td>0.821280</td>\n",
              "      <td>0</td>\n",
              "    </tr>\n",
              "    <tr>\n",
              "      <th>4</th>\n",
              "      <td>24</td>\n",
              "      <td>2</td>\n",
              "      <td>2</td>\n",
              "      <td>0</td>\n",
              "      <td>28</td>\n",
              "      <td>17.3</td>\n",
              "      <td>1.787436</td>\n",
              "      <td>3.056564</td>\n",
              "      <td>1</td>\n",
              "    </tr>\n",
              "  </tbody>\n",
              "</table>\n",
              "</div>"
            ],
            "text/plain": [
              "   age  ed  employ  address  income  debtinc   creddebt   othdebt  default\n",
              "0   41   3      17       12     176      9.3  11.359392  5.008608        1\n",
              "1   27   1      10        6      31     17.3   1.362202  4.000798        0\n",
              "2   40   1      15       14      55      5.5   0.856075  2.168925        0\n",
              "3   41   1      15       14     120      2.9   2.658720  0.821280        0\n",
              "4   24   2       2        0      28     17.3   1.787436  3.056564        1"
            ]
          },
          "metadata": {
            "tags": []
          },
          "execution_count": 11
        }
      ]
    },
    {
      "cell_type": "code",
      "metadata": {
        "id": "K51Dp8irsWmM"
      },
      "source": [
        "target = bankloan['default']\n",
        "features = bankloan[['employ', 'debtinc', 'creddebt', 'othdebt']]"
      ],
      "execution_count": null,
      "outputs": []
    },
    {
      "cell_type": "code",
      "metadata": {
        "id": "FxjHrE5O8Q0u"
      },
      "source": [
        "X_train_val, X_test, y_train_val, y_test = train_test_split(features, target, test_size=0.2, random_state=2020)"
      ],
      "execution_count": null,
      "outputs": []
    },
    {
      "cell_type": "markdown",
      "metadata": {
        "id": "tIQAnHOg8R6y"
      },
      "source": [
        "1. Modelling"
      ]
    },
    {
      "cell_type": "code",
      "metadata": {
        "id": "9WW6FFk-8fH-"
      },
      "source": [
        "logreg = LogisticRegression(solver='liblinear', random_state=2020)\n",
        "knn = KNeighborsClassifier(n_neighbors=5)\n",
        "tree = DecisionTreeClassifier(criterion='entropy', max_depth=5)"
      ],
      "execution_count": null,
      "outputs": []
    },
    {
      "cell_type": "markdown",
      "metadata": {
        "id": "R5h4Nfw_qOKc"
      },
      "source": [
        "2. Compute Metrics"
      ]
    },
    {
      "cell_type": "markdown",
      "metadata": {
        "id": "6pBNyg6o8xHB"
      },
      "source": [
        "A. Accuracy"
      ]
    },
    {
      "cell_type": "code",
      "metadata": {
        "id": "rexiy4Eu8sqA"
      },
      "source": [
        "skf = StratifiedKFold(n_splits=5)\n",
        "logreg_cv = cross_val_score(logreg, X_train_val, y_train_val, cv=skf)\n",
        "knn_cv = cross_val_score(knn, X_train_val, y_train_val, cv=skf)\n",
        "tree_cv = cross_val_score(tree, X_train_val, y_train_val, cv=skf)"
      ],
      "execution_count": null,
      "outputs": []
    },
    {
      "cell_type": "code",
      "metadata": {
        "colab": {
          "base_uri": "https://localhost:8080/"
        },
        "id": "8OHwmPrK9dGM",
        "outputId": "4527e4dc-20cd-4eb2-bdbe-5fcbcec10ff9"
      },
      "source": [
        "print(np.mean(logreg_cv))\n",
        "print(np.mean(knn_cv))\n",
        "print(np.mean(tree_cv))"
      ],
      "execution_count": null,
      "outputs": [
        {
          "output_type": "stream",
          "text": [
            "0.7946428571428571\n",
            "0.7428571428571429\n",
            "0.7660714285714285\n"
          ],
          "name": "stdout"
        }
      ]
    },
    {
      "cell_type": "markdown",
      "metadata": {
        "id": "jjLLiaCz9vG5"
      },
      "source": [
        "B. Recall"
      ]
    },
    {
      "cell_type": "code",
      "metadata": {
        "id": "pvwNXGsz9wpS"
      },
      "source": [
        "skf = StratifiedKFold(n_splits=5)\n",
        "logreg_cv = cross_val_score(logreg, X_train_val, y_train_val, cv=skf, scoring='recall')\n",
        "knn_cv = cross_val_score(knn, X_train_val, y_train_val, cv=skf, scoring='recall')\n",
        "tree_cv = cross_val_score(tree, X_train_val, y_train_val, cv=skf, scoring='recall')"
      ],
      "execution_count": null,
      "outputs": []
    },
    {
      "cell_type": "code",
      "metadata": {
        "colab": {
          "base_uri": "https://localhost:8080/"
        },
        "id": "SasmtgKu-a1z",
        "outputId": "9192632b-8991-4fce-a9dc-d42803f171e1"
      },
      "source": [
        "print(np.mean(logreg_cv))\n",
        "print(np.mean(knn_cv))\n",
        "print(np.mean(tree_cv))"
      ],
      "execution_count": null,
      "outputs": [
        {
          "output_type": "stream",
          "text": [
            "0.45073891625615764\n",
            "0.3544334975369458\n",
            "0.43078817733990143\n"
          ],
          "name": "stdout"
        }
      ]
    },
    {
      "cell_type": "markdown",
      "metadata": {
        "id": "SdCTm-ED-yfs"
      },
      "source": [
        "C. Precision"
      ]
    },
    {
      "cell_type": "code",
      "metadata": {
        "id": "evWbsnvf-shd"
      },
      "source": [
        "skf = StratifiedKFold(n_splits=5)\n",
        "logreg_cv = cross_val_score(logreg, X_train_val, y_train_val, cv=skf, scoring='precision')\n",
        "knn_cv = cross_val_score(knn, X_train_val, y_train_val, cv=skf, scoring='precision')\n",
        "tree_cv = cross_val_score(tree, X_train_val, y_train_val, cv=skf, scoring='precision')"
      ],
      "execution_count": null,
      "outputs": []
    },
    {
      "cell_type": "code",
      "metadata": {
        "colab": {
          "base_uri": "https://localhost:8080/"
        },
        "id": "P0tUSeLo-6GI",
        "outputId": "9cfbfa52-c86c-4ae8-9206-b2b617fcbbeb"
      },
      "source": [
        "print(np.mean(logreg_cv))\n",
        "print(np.mean(knn_cv))\n",
        "print(np.mean(tree_cv))"
      ],
      "execution_count": null,
      "outputs": [
        {
          "output_type": "stream",
          "text": [
            "0.6698548510313216\n",
            "0.5053571428571428\n",
            "0.6027056277056276\n"
          ],
          "name": "stdout"
        }
      ]
    },
    {
      "cell_type": "markdown",
      "metadata": {
        "id": "k7thHT12_ian"
      },
      "source": [
        "D. F1 Score"
      ]
    },
    {
      "cell_type": "code",
      "metadata": {
        "id": "82sD1O4S_OBU"
      },
      "source": [
        "skf = StratifiedKFold(n_splits=5)\n",
        "logreg_cv = cross_val_score(logreg, X_train_val, y_train_val, cv=skf, scoring='f1')\n",
        "knn_cv = cross_val_score(knn, X_train_val, y_train_val, cv=skf, scoring='f1')\n",
        "tree_cv = cross_val_score(tree, X_train_val, y_train_val, cv=skf, scoring='f1')"
      ],
      "execution_count": null,
      "outputs": []
    },
    {
      "cell_type": "code",
      "metadata": {
        "colab": {
          "base_uri": "https://localhost:8080/"
        },
        "id": "tN_bMhqf_Ydi",
        "outputId": "443836a9-a71e-4140-fda6-74aaf664c0d3"
      },
      "source": [
        "print(np.mean(logreg_cv))\n",
        "print(np.mean(knn_cv))\n",
        "print(np.mean(tree_cv))"
      ],
      "execution_count": null,
      "outputs": [
        {
          "output_type": "stream",
          "text": [
            "0.5274945296038804\n",
            "0.41061885904912765\n",
            "0.48889886956190776\n"
          ],
          "name": "stdout"
        }
      ]
    },
    {
      "cell_type": "markdown",
      "metadata": {
        "id": "o-Rsx35w_kjy"
      },
      "source": [
        "E. ROC Curve"
      ]
    },
    {
      "cell_type": "code",
      "metadata": {
        "colab": {
          "base_uri": "https://localhost:8080/"
        },
        "id": "QaiBDd7T_rp9",
        "outputId": "c091a860-8501-481a-fd7e-f8172c08c386"
      },
      "source": [
        "logreg.fit(X_train_val, y_train_val)"
      ],
      "execution_count": null,
      "outputs": [
        {
          "output_type": "execute_result",
          "data": {
            "text/plain": [
              "LogisticRegression(C=1.0, class_weight=None, dual=False, fit_intercept=True,\n",
              "                   intercept_scaling=1, l1_ratio=None, max_iter=100,\n",
              "                   multi_class='auto', n_jobs=None, penalty='l2',\n",
              "                   random_state=2020, solver='liblinear', tol=0.0001, verbose=0,\n",
              "                   warm_start=False)"
            ]
          },
          "metadata": {
            "tags": []
          },
          "execution_count": 23
        }
      ]
    },
    {
      "cell_type": "code",
      "metadata": {
        "id": "H2l3rJtC_mC5"
      },
      "source": [
        "y_pred = logreg.predict(X_test)"
      ],
      "execution_count": null,
      "outputs": []
    },
    {
      "cell_type": "code",
      "metadata": {
        "colab": {
          "base_uri": "https://localhost:8080/"
        },
        "id": "BCGXHUgb_5uO",
        "outputId": "bdaf67c8-5461-435d-aa45-d17182363668"
      },
      "source": [
        "print(classification_report(y_test, y_pred))"
      ],
      "execution_count": null,
      "outputs": [
        {
          "output_type": "stream",
          "text": [
            "              precision    recall  f1-score   support\n",
            "\n",
            "           0       0.84      0.92      0.88       101\n",
            "           1       0.72      0.54      0.62        39\n",
            "\n",
            "    accuracy                           0.81       140\n",
            "   macro avg       0.78      0.73      0.75       140\n",
            "weighted avg       0.81      0.81      0.81       140\n",
            "\n"
          ],
          "name": "stdout"
        }
      ]
    },
    {
      "cell_type": "code",
      "metadata": {
        "colab": {
          "base_uri": "https://localhost:8080/",
          "height": 296
        },
        "id": "SWySHb0GAhhH",
        "outputId": "ae7d7f3d-e92b-4f8f-fc89-6d983571effe"
      },
      "source": [
        "plot_roc_curve(logreg, X_test, y_test)"
      ],
      "execution_count": null,
      "outputs": [
        {
          "output_type": "execute_result",
          "data": {
            "text/plain": [
              "<sklearn.metrics._plot.roc_curve.RocCurveDisplay at 0x7fab7b49b950>"
            ]
          },
          "metadata": {
            "tags": []
          },
          "execution_count": 26
        },
        {
          "output_type": "display_data",
          "data": {
            "image/png": "[encoded data removed]",
            "text/plain": [
              "<Figure size 432x288 with 1 Axes>"
            ]
          },
          "metadata": {
            "tags": [],
            "needs_background": "light"
          }
        }
      ]
    },
    {
      "cell_type": "markdown",
      "metadata": {
        "id": "dVg6oBcupl3o"
      },
      "source": [
        "F. PRC Curve"
      ]
    },
    {
      "cell_type": "code",
      "metadata": {
        "colab": {
          "base_uri": "https://localhost:8080/",
          "height": 296
        },
        "id": "DYbNOtkTAxLV",
        "outputId": "512f7eb2-9b85-40de-e600-9bb9b8169f00"
      },
      "source": [
        "plot_precision_recall_curve(logreg, X_test, y_test)"
      ],
      "execution_count": null,
      "outputs": [
        {
          "output_type": "execute_result",
          "data": {
            "text/plain": [
              "<sklearn.metrics._plot.precision_recall_curve.PrecisionRecallDisplay at 0x7fab7b3d0fd0>"
            ]
          },
          "metadata": {
            "tags": []
          },
          "execution_count": 27
        },
        {
          "output_type": "display_data",
          "data": {
            "image/png": "[encoded data removed]",
            "text/plain": [
              "<Figure size 432x288 with 1 Axes>"
            ]
          },
          "metadata": {
            "tags": [],
            "needs_background": "light"
          }
        }
      ]
    },
    {
      "cell_type": "markdown",
      "metadata": {
        "id": "bUUjerClH96S"
      },
      "source": [
        "3. HyperParameter Tuning"
      ]
    },
    {
      "cell_type": "code",
      "metadata": {
        "id": "5uKTR3qkBD_t"
      },
      "source": [
        "X_train, X_val, y_train, y_val = train_test_split(X_train_val, y_train_val, test_size=0.25, stratify=y_train_val, random_state=2020)"
      ],
      "execution_count": null,
      "outputs": []
    },
    {
      "cell_type": "code",
      "metadata": {
        "id": "g9F2eRdHLZnN"
      },
      "source": [
        "hyperparam_c = [1000, 500, 100, 50, 10, 5, 1, 0.5, 0.1, 0.05, 0.01, 0.005, 0.001, 0.0005, 0.0001]"
      ],
      "execution_count": null,
      "outputs": []
    },
    {
      "cell_type": "code",
      "metadata": {
        "id": "2wBYxU2ELaK7"
      },
      "source": [
        "skf = StratifiedKFold(n_splits=5)"
      ],
      "execution_count": null,
      "outputs": []
    },
    {
      "cell_type": "code",
      "metadata": {
        "colab": {
          "base_uri": "https://localhost:8080/"
        },
        "id": "6zQR3e6XL5XZ",
        "outputId": "46d6c6c5-88e7-4969-cdac-063cc34c7b73"
      },
      "source": [
        "best_score = 0\n",
        "cv_score_validation = []\n",
        "\n",
        "for i in hyperparam_c:\n",
        "  logreg = LogisticRegression(C=i, solver='liblinear', random_state=2020)\n",
        "  cv_score = cross_val_score(logreg, X_train_val, y_train_val, cv=skf, scoring='f1').mean()\n",
        "  cv_score_validation.append(cv_score)\n",
        "\n",
        "  if cv_score > best_score:\n",
        "    best_score = cv_score\n",
        "    best_params = {'C':i}\n",
        "\n",
        "print('Best Score :', best_score)\n",
        "print('Best Parameter :', best_params)"
      ],
      "execution_count": null,
      "outputs": [
        {
          "output_type": "stream",
          "text": [
            "Best Score : 0.5546664724164725\n",
            "Best Parameter : {'C': 0.1}\n"
          ],
          "name": "stdout"
        }
      ]
    },
    {
      "cell_type": "code",
      "metadata": {
        "id": "jRyYg4asO7rF"
      },
      "source": [
        "training_score = []\n",
        "testing_score = []\n",
        "\n",
        "for i in hyperparam_c:\n",
        "  logreg = LogisticRegression(C=i, solver='liblinear', random_state=2020)\n",
        "  logreg.fit(X_train, y_train)\n",
        "  y_pred_train = logreg.predict(X_train)\n",
        "  training_score.append(f1_score(y_train, y_pred_train))\n",
        "  y_pred_val = logreg.predict(X_val)\n",
        "  testing_score.append(f1_score(y_val, y_pred_val))\n"
      ],
      "execution_count": null,
      "outputs": []
    },
    {
      "cell_type": "code",
      "metadata": {
        "colab": {
          "base_uri": "https://localhost:8080/",
          "height": 714
        },
        "id": "sWwrbXIWP9Or",
        "outputId": "845b0b2e-30e7-45d7-907c-cbbb627c30f2"
      },
      "source": [
        "length = range(len(hyperparam_c))\n",
        "\n",
        "plt.figure(figsize = (20,10))\n",
        "sns.lineplot(length,testing_score)\n",
        "sns.lineplot(length,training_score)\n",
        "sns.lineplot(length,cv_score_validation)\n",
        "plt.legend(['testing score','training score','cv score'])\n",
        "plt.xticks(length,hyperparam_c)\n",
        "plt.show()"
      ],
      "execution_count": null,
      "outputs": [
        {
          "output_type": "stream",
          "text": [
            "/usr/local/lib/python3.7/dist-packages/seaborn/_decorators.py:43: FutureWarning: Pass the following variables as keyword args: x, y. From version 0.12, the only valid positional argument will be `data`, and passing other arguments without an explicit keyword will result in an error or misinterpretation.\n",
            "  FutureWarning\n",
            "/usr/local/lib/python3.7/dist-packages/seaborn/_decorators.py:43: FutureWarning: Pass the following variables as keyword args: x, y. From version 0.12, the only valid positional argument will be `data`, and passing other arguments without an explicit keyword will result in an error or misinterpretation.\n",
            "  FutureWarning\n",
            "/usr/local/lib/python3.7/dist-packages/seaborn/_decorators.py:43: FutureWarning: Pass the following variables as keyword args: x, y. From version 0.12, the only valid positional argument will be `data`, and passing other arguments without an explicit keyword will result in an error or misinterpretation.\n",
            "  FutureWarning\n"
          ],
          "name": "stderr"
        },
        {
          "output_type": "display_data",
          "data": {
            "image/png": "[encoded data removed]",
            "text/plain": [
              "<Figure size 1440x720 with 1 Axes>"
            ]
          },
          "metadata": {
            "tags": [],
            "needs_background": "light"
          }
        }
      ]
    },
    {
      "cell_type": "markdown",
      "metadata": {
        "id": "0_pxTv_Xwn1J"
      },
      "source": [
        "4. Compare Result (before vs after)"
      ]
    },
    {
      "cell_type": "markdown",
      "metadata": {
        "id": "2dYzVp5WaJDH"
      },
      "source": [
        "Before"
      ]
    },
    {
      "cell_type": "code",
      "metadata": {
        "id": "aWpkVw8Gq4OP",
        "colab": {
          "base_uri": "https://localhost:8080/"
        },
        "outputId": "8ae63f87-9eb4-4cd7-9b54-bc9f0d206354"
      },
      "source": [
        "print(classification_report(y_test, y_pred))"
      ],
      "execution_count": null,
      "outputs": [
        {
          "output_type": "stream",
          "text": [
            "              precision    recall  f1-score   support\n",
            "\n",
            "           0       0.84      0.92      0.88       101\n",
            "           1       0.72      0.54      0.62        39\n",
            "\n",
            "    accuracy                           0.81       140\n",
            "   macro avg       0.78      0.73      0.75       140\n",
            "weighted avg       0.81      0.81      0.81       140\n",
            "\n"
          ],
          "name": "stdout"
        }
      ]
    },
    {
      "cell_type": "markdown",
      "metadata": {
        "id": "1JgfDHoAaKwN"
      },
      "source": [
        "After"
      ]
    },
    {
      "cell_type": "code",
      "metadata": {
        "colab": {
          "base_uri": "https://localhost:8080/"
        },
        "id": "uTto0wl_Z6R2",
        "outputId": "6cd61dd6-cbcd-4d43-b3af-8c4cc0276932"
      },
      "source": [
        "logreg_after = LogisticRegression(C=0.1, solver='liblinear', random_state=2020)\n",
        "logreg_after.fit(X_train_val,y_train_val)\n",
        "y_pred_after = logreg_after.predict(X_test)\n",
        "print(classification_report(y_test, y_pred_after))"
      ],
      "execution_count": null,
      "outputs": [
        {
          "output_type": "stream",
          "text": [
            "              precision    recall  f1-score   support\n",
            "\n",
            "           0       0.83      0.91      0.87       101\n",
            "           1       0.69      0.51      0.59        39\n",
            "\n",
            "    accuracy                           0.80       140\n",
            "   macro avg       0.76      0.71      0.73       140\n",
            "weighted avg       0.79      0.80      0.79       140\n",
            "\n"
          ],
          "name": "stdout"
        }
      ]
    },
    {
      "cell_type": "markdown",
      "metadata": {
        "id": "v0ga6JPYbLGv"
      },
      "source": [
        "5. Grid Search CV"
      ]
    },
    {
      "cell_type": "code",
      "metadata": {
        "id": "FZg_R9MGap1e"
      },
      "source": [
        "from sklearn.model_selection import GridSearchCV"
      ],
      "execution_count": null,
      "outputs": []
    },
    {
      "cell_type": "code",
      "metadata": {
        "id": "2o4eILt-rXxe"
      },
      "source": [
        "logreg = LogisticRegression(solver='liblinear')"
      ],
      "execution_count": null,
      "outputs": []
    },
    {
      "cell_type": "code",
      "metadata": {
        "id": "-qy4Zq4Nr6U9"
      },
      "source": [
        "hyperparam = {'C':[1, 0.5, 0.1, 0.05, 0.01, 0.005, 0.001, 0.0005, 0.0001], 'max_iter':[100, 1000, 10000]}"
      ],
      "execution_count": null,
      "outputs": []
    },
    {
      "cell_type": "code",
      "metadata": {
        "id": "okzA_F8FvNuw"
      },
      "source": [
        "skf = StratifiedKFold(n_splits=5)"
      ],
      "execution_count": null,
      "outputs": []
    },
    {
      "cell_type": "code",
      "metadata": {
        "id": "ydvQ3UNCb9dk",
        "colab": {
          "base_uri": "https://localhost:8080/"
        },
        "outputId": "872fcbbe-d770-425e-99d0-b564031c4518"
      },
      "source": [
        "grid_lr = GridSearchCV(estimator=logreg, param_grid=hyperparam, cv=skf, scoring='f1', n_jobs=-1)\n",
        "grid_lr.fit(X_train_val, y_train_val)"
      ],
      "execution_count": null,
      "outputs": [
        {
          "output_type": "execute_result",
          "data": {
            "text/plain": [
              "GridSearchCV(cv=StratifiedKFold(n_splits=5, random_state=None, shuffle=False),\n",
              "             error_score=nan,\n",
              "             estimator=LogisticRegression(C=1.0, class_weight=None, dual=False,\n",
              "                                          fit_intercept=True,\n",
              "                                          intercept_scaling=1, l1_ratio=None,\n",
              "                                          max_iter=100, multi_class='auto',\n",
              "                                          n_jobs=None, penalty='l2',\n",
              "                                          random_state=None, solver='liblinear',\n",
              "                                          tol=0.0001, verbose=0,\n",
              "                                          warm_start=False),\n",
              "             iid='deprecated', n_jobs=-1,\n",
              "             param_grid={'C': [1, 0.5, 0.1, 0.05, 0.01, 0.005, 0.001, 0.0005,\n",
              "                               0.0001],\n",
              "                         'max_iter': [100, 1000, 10000]},\n",
              "             pre_dispatch='2*n_jobs', refit=True, return_train_score=False,\n",
              "             scoring='f1', verbose=0)"
            ]
          },
          "metadata": {
            "tags": []
          },
          "execution_count": 40
        }
      ]
    },
    {
      "cell_type": "code",
      "metadata": {
        "colab": {
          "base_uri": "https://localhost:8080/"
        },
        "id": "kQ6hGCqvv74X",
        "outputId": "df862eb7-3be9-4e59-ff29-55c0830bd4d1"
      },
      "source": [
        "grid_lr.best_params_"
      ],
      "execution_count": null,
      "outputs": [
        {
          "output_type": "execute_result",
          "data": {
            "text/plain": [
              "{'C': 0.1, 'max_iter': 100}"
            ]
          },
          "metadata": {
            "tags": []
          },
          "execution_count": 41
        }
      ]
    },
    {
      "cell_type": "code",
      "metadata": {
        "id": "cKg1ZVtVwHm7"
      },
      "source": [
        "logreg_best = LogisticRegression(solver='liblinear', C=0.1, max_iter=100)\n",
        "logreg_best.fit(X_train_val,y_train_val)\n",
        "y_pred = logreg_best.predict(X_test)"
      ],
      "execution_count": null,
      "outputs": []
    },
    {
      "cell_type": "code",
      "metadata": {
        "colab": {
          "base_uri": "https://localhost:8080/"
        },
        "id": "vh-6rvkn6tBs",
        "outputId": "b22423ae-fd64-45d8-def1-b8b9f2069eb8"
      },
      "source": [
        "print(classification_report(y_test, y_pred))"
      ],
      "execution_count": null,
      "outputs": [
        {
          "output_type": "stream",
          "text": [
            "              precision    recall  f1-score   support\n",
            "\n",
            "           0       0.83      0.91      0.87       101\n",
            "           1       0.69      0.51      0.59        39\n",
            "\n",
            "    accuracy                           0.80       140\n",
            "   macro avg       0.76      0.71      0.73       140\n",
            "weighted avg       0.79      0.80      0.79       140\n",
            "\n"
          ],
          "name": "stdout"
        }
      ]
    },
    {
      "cell_type": "markdown",
      "metadata": {
        "id": "AWvytBEVa0x8"
      },
      "source": [
        "### PYTHON EXERCISE : MODEL EVALUATION 2"
      ]
    },
    {
      "cell_type": "markdown",
      "metadata": {
        "id": "bJ1YKDs5bc73"
      },
      "source": [
        "Analyze tips data from seaborn\n",
        "- Total Bill, sex, smoker, day and time as Features\n",
        "- Tips as Target\n",
        "Preprocess\n",
        "1. one hot encoding : smoker, day, time\n",
        "2. no treatment : numerical\n",
        "\n",
        "Random state 2020, splitting 80:20\n",
        "\n",
        "1. model linear regression and tree (criterion mse, max_depth 5) compute R2 using 5-fold CV\n",
        "2. model decision tree (criterion mse, max_depth 5) compute mse in test set\n",
        "3. do hyperparameter tuning (Randomized Search) for decision tree (optimize criterion, min sample leaf, max\n",
        "depth) optimized by mse and using CV 5 fold\n",
        "4. compare the result (before and after) ini test set"
      ]
    },
    {
      "cell_type": "code",
      "metadata": {
        "id": "Spwm3rQa63oy"
      },
      "source": [
        "tips = sns.load_dataset('tips')"
      ],
      "execution_count": null,
      "outputs": []
    },
    {
      "cell_type": "code",
      "metadata": {
        "colab": {
          "base_uri": "https://localhost:8080/",
          "height": 204
        },
        "id": "oU0QgNOrbGTO",
        "outputId": "acf89ab2-2dca-4794-cee0-415c6c81d8af"
      },
      "source": [
        "tips.head()"
      ],
      "execution_count": null,
      "outputs": [
        {
          "output_type": "execute_result",
          "data": {
            "text/html": [
              "<div>\n",
              "<style scoped>\n",
              "    .dataframe tbody tr th:only-of-type {\n",
              "        vertical-align: middle;\n",
              "    }\n",
              "\n",
              "    .dataframe tbody tr th {\n",
              "        vertical-align: top;\n",
              "    }\n",
              "\n",
              "    .dataframe thead th {\n",
              "        text-align: right;\n",
              "    }\n",
              "</style>\n",
              "<table border=\"1\" class=\"dataframe\">\n",
              "  <thead>\n",
              "    <tr style=\"text-align: right;\">\n",
              "      <th></th>\n",
              "      <th>total_bill</th>\n",
              "      <th>tip</th>\n",
              "      <th>sex</th>\n",
              "      <th>smoker</th>\n",
              "      <th>day</th>\n",
              "      <th>time</th>\n",
              "      <th>size</th>\n",
              "    </tr>\n",
              "  </thead>\n",
              "  <tbody>\n",
              "    <tr>\n",
              "      <th>0</th>\n",
              "      <td>16.99</td>\n",
              "      <td>1.01</td>\n",
              "      <td>Female</td>\n",
              "      <td>No</td>\n",
              "      <td>Sun</td>\n",
              "      <td>Dinner</td>\n",
              "      <td>2</td>\n",
              "    </tr>\n",
              "    <tr>\n",
              "      <th>1</th>\n",
              "      <td>10.34</td>\n",
              "      <td>1.66</td>\n",
              "      <td>Male</td>\n",
              "      <td>No</td>\n",
              "      <td>Sun</td>\n",
              "      <td>Dinner</td>\n",
              "      <td>3</td>\n",
              "    </tr>\n",
              "    <tr>\n",
              "      <th>2</th>\n",
              "      <td>21.01</td>\n",
              "      <td>3.50</td>\n",
              "      <td>Male</td>\n",
              "      <td>No</td>\n",
              "      <td>Sun</td>\n",
              "      <td>Dinner</td>\n",
              "      <td>3</td>\n",
              "    </tr>\n",
              "    <tr>\n",
              "      <th>3</th>\n",
              "      <td>23.68</td>\n",
              "      <td>3.31</td>\n",
              "      <td>Male</td>\n",
              "      <td>No</td>\n",
              "      <td>Sun</td>\n",
              "      <td>Dinner</td>\n",
              "      <td>2</td>\n",
              "    </tr>\n",
              "    <tr>\n",
              "      <th>4</th>\n",
              "      <td>24.59</td>\n",
              "      <td>3.61</td>\n",
              "      <td>Female</td>\n",
              "      <td>No</td>\n",
              "      <td>Sun</td>\n",
              "      <td>Dinner</td>\n",
              "      <td>4</td>\n",
              "    </tr>\n",
              "  </tbody>\n",
              "</table>\n",
              "</div>"
            ],
            "text/plain": [
              "   total_bill   tip     sex smoker  day    time  size\n",
              "0       16.99  1.01  Female     No  Sun  Dinner     2\n",
              "1       10.34  1.66    Male     No  Sun  Dinner     3\n",
              "2       21.01  3.50    Male     No  Sun  Dinner     3\n",
              "3       23.68  3.31    Male     No  Sun  Dinner     2\n",
              "4       24.59  3.61  Female     No  Sun  Dinner     4"
            ]
          },
          "metadata": {
            "tags": []
          },
          "execution_count": 45
        }
      ]
    },
    {
      "cell_type": "code",
      "metadata": {
        "id": "4UYKqMERbLoc"
      },
      "source": [
        "y = tips['tip']"
      ],
      "execution_count": null,
      "outputs": []
    },
    {
      "cell_type": "markdown",
      "metadata": {
        "id": "apHSe4hIcJrj"
      },
      "source": [
        "Preprocess"
      ]
    },
    {
      "cell_type": "code",
      "metadata": {
        "id": "YrSTaJ1bbY8D"
      },
      "source": [
        "onehot = OneHotEncoder(sparse=False)\n",
        "onehot_df = pd.DataFrame(onehot.fit_transform(tips[['sex','smoker', 'day', 'time']]))\n",
        "onehot_df.columns = onehot.get_feature_names(['sex','smoker', 'day', 'time'])"
      ],
      "execution_count": null,
      "outputs": []
    },
    {
      "cell_type": "code",
      "metadata": {
        "id": "V4KpSQx0c7FJ"
      },
      "source": [
        "X = pd.concat([onehot_df, tips[['total_bill', 'size']]], axis=1)"
      ],
      "execution_count": null,
      "outputs": []
    },
    {
      "cell_type": "code",
      "metadata": {
        "id": "ehIm5KcKdr4a"
      },
      "source": [
        "X_train, X_test, y_train, y_test = train_test_split(X, y, test_size=0.2, random_state=2021)"
      ],
      "execution_count": null,
      "outputs": []
    },
    {
      "cell_type": "markdown",
      "metadata": {
        "id": "Gf6rQTWueSRq"
      },
      "source": [
        "1. Model Linear Regression & Tree"
      ]
    },
    {
      "cell_type": "code",
      "metadata": {
        "id": "5woM89b_d8zY"
      },
      "source": [
        "lr = LinearRegression()\n",
        "tree = DecisionTreeRegressor(criterion='mse', max_depth=5)"
      ],
      "execution_count": null,
      "outputs": []
    },
    {
      "cell_type": "code",
      "metadata": {
        "colab": {
          "base_uri": "https://localhost:8080/"
        },
        "id": "LI4iDcO8evew",
        "outputId": "791d15b9-ea4e-4af4-df8e-3d1a61fe3cb2"
      },
      "source": [
        "print('R-square Linear Regression:',np.mean(cross_val_score(lr, X_train, y_train, cv=5, scoring='r2')))"
      ],
      "execution_count": null,
      "outputs": [
        {
          "output_type": "stream",
          "text": [
            "R-square Linear Regression: 0.3600699174930474\n"
          ],
          "name": "stdout"
        }
      ]
    },
    {
      "cell_type": "code",
      "metadata": {
        "colab": {
          "base_uri": "https://localhost:8080/"
        },
        "id": "nhkT0cAfgN55",
        "outputId": "a788ba90-8ef4-4432-d1f3-2472a2ed5136"
      },
      "source": [
        "print('R-square Decision Tree:',np.mean(cross_val_score(tree, X_train, y_train, cv=5, scoring='r2')))"
      ],
      "execution_count": null,
      "outputs": [
        {
          "output_type": "stream",
          "text": [
            "R-square Decision Tree: 0.16589563296697057\n"
          ],
          "name": "stdout"
        }
      ]
    },
    {
      "cell_type": "markdown",
      "metadata": {
        "id": "RmK2rO_yht6E"
      },
      "source": [
        "2. Model Decision Tree"
      ]
    },
    {
      "cell_type": "code",
      "metadata": {
        "colab": {
          "base_uri": "https://localhost:8080/"
        },
        "id": "-CvgNH3UhqIV",
        "outputId": "dad33386-ba5c-42cc-d759-b74c8321dce2"
      },
      "source": [
        "tree = DecisionTreeRegressor(criterion='mse', max_depth=5)\n",
        "tree.fit(X_train,y_train)"
      ],
      "execution_count": null,
      "outputs": [
        {
          "output_type": "execute_result",
          "data": {
            "text/plain": [
              "DecisionTreeRegressor(ccp_alpha=0.0, criterion='mse', max_depth=5,\n",
              "                      max_features=None, max_leaf_nodes=None,\n",
              "                      min_impurity_decrease=0.0, min_impurity_split=None,\n",
              "                      min_samples_leaf=1, min_samples_split=2,\n",
              "                      min_weight_fraction_leaf=0.0, presort='deprecated',\n",
              "                      random_state=None, splitter='best')"
            ]
          },
          "metadata": {
            "tags": []
          },
          "execution_count": 53
        }
      ]
    },
    {
      "cell_type": "code",
      "metadata": {
        "id": "Fgp1M0xjg4op"
      },
      "source": [
        "y_pred = tree.predict(X_test)"
      ],
      "execution_count": null,
      "outputs": []
    },
    {
      "cell_type": "code",
      "metadata": {
        "colab": {
          "base_uri": "https://localhost:8080/"
        },
        "id": "79g9TAFJiCVg",
        "outputId": "16aa167d-9b96-43da-8fb9-b0b123cde15a"
      },
      "source": [
        "print('MSE :', mean_squared_error(y_test, y_pred))"
      ],
      "execution_count": null,
      "outputs": [
        {
          "output_type": "stream",
          "text": [
            "MSE : 1.320103071026078\n"
          ],
          "name": "stdout"
        }
      ]
    },
    {
      "cell_type": "markdown",
      "metadata": {
        "id": "KT4tBpOsiXZH"
      },
      "source": [
        "3. Hyperparameter Tuning (Randomized Search)"
      ]
    },
    {
      "cell_type": "code",
      "metadata": {
        "id": "V2f749yFiOFc"
      },
      "source": [
        "params = {'criterion' : ['mse', 'mae'], 'min_samples_leaf' : [1,2,3,4,5], 'max_depth':[2,3,4,5]}"
      ],
      "execution_count": null,
      "outputs": []
    },
    {
      "cell_type": "code",
      "metadata": {
        "id": "PmHaRefmGPmO"
      },
      "source": [
        "tree = DecisionTreeRegressor()"
      ],
      "execution_count": null,
      "outputs": []
    },
    {
      "cell_type": "code",
      "metadata": {
        "id": "gaWmn0mYHyh0"
      },
      "source": [
        "random_search = RandomizedSearchCV(tree, param_distributions=params, cv=5, scoring='neg_mean_squared_error')"
      ],
      "execution_count": null,
      "outputs": []
    },
    {
      "cell_type": "code",
      "metadata": {
        "colab": {
          "base_uri": "https://localhost:8080/"
        },
        "id": "E-9er1kOIiIP",
        "outputId": "6237f851-f3fc-46af-a358-17f06c706058"
      },
      "source": [
        "random_search.fit(X_train_val, y_train_val)"
      ],
      "execution_count": null,
      "outputs": [
        {
          "output_type": "execute_result",
          "data": {
            "text/plain": [
              "RandomizedSearchCV(cv=5, error_score=nan,\n",
              "                   estimator=DecisionTreeRegressor(ccp_alpha=0.0,\n",
              "                                                   criterion='mse',\n",
              "                                                   max_depth=None,\n",
              "                                                   max_features=None,\n",
              "                                                   max_leaf_nodes=None,\n",
              "                                                   min_impurity_decrease=0.0,\n",
              "                                                   min_impurity_split=None,\n",
              "                                                   min_samples_leaf=1,\n",
              "                                                   min_samples_split=2,\n",
              "                                                   min_weight_fraction_leaf=0.0,\n",
              "                                                   presort='deprecated',\n",
              "                                                   random_state=None,\n",
              "                                                   splitter='best'),\n",
              "                   iid='deprecated', n_iter=10, n_jobs=None,\n",
              "                   param_distributions={'criterion': ['mse', 'mae'],\n",
              "                                        'max_depth': [2, 3, 4, 5],\n",
              "                                        'min_samples_leaf': [1, 2, 3, 4, 5]},\n",
              "                   pre_dispatch='2*n_jobs', random_state=None, refit=True,\n",
              "                   return_train_score=False, scoring='neg_mean_squared_error',\n",
              "                   verbose=0)"
            ]
          },
          "metadata": {
            "tags": []
          },
          "execution_count": 72
        }
      ]
    },
    {
      "cell_type": "code",
      "metadata": {
        "colab": {
          "base_uri": "https://localhost:8080/"
        },
        "id": "WpXsXtO0I6ot",
        "outputId": "e3404466-ffd6-4321-cc53-d96433fa230f"
      },
      "source": [
        "random_search.best_params_"
      ],
      "execution_count": null,
      "outputs": [
        {
          "output_type": "execute_result",
          "data": {
            "text/plain": [
              "{'criterion': 'mse', 'max_depth': 4, 'min_samples_leaf': 3}"
            ]
          },
          "metadata": {
            "tags": []
          },
          "execution_count": 73
        }
      ]
    },
    {
      "cell_type": "code",
      "metadata": {
        "colab": {
          "base_uri": "https://localhost:8080/"
        },
        "id": "Y-XFJa8OKSVc",
        "outputId": "0943466f-5de9-4d18-aaa6-daede9378f36"
      },
      "source": [
        "tree = DecisionTreeRegressor(criterion='mse', max_depth=4, min_samples_leaf=3)\n",
        "tree.fit(X_train, y_train)"
      ],
      "execution_count": null,
      "outputs": [
        {
          "output_type": "execute_result",
          "data": {
            "text/plain": [
              "DecisionTreeRegressor(ccp_alpha=0.0, criterion='mse', max_depth=4,\n",
              "                      max_features=None, max_leaf_nodes=None,\n",
              "                      min_impurity_decrease=0.0, min_impurity_split=None,\n",
              "                      min_samples_leaf=3, min_samples_split=2,\n",
              "                      min_weight_fraction_leaf=0.0, presort='deprecated',\n",
              "                      random_state=None, splitter='best')"
            ]
          },
          "metadata": {
            "tags": []
          },
          "execution_count": 81
        }
      ]
    },
    {
      "cell_type": "code",
      "metadata": {
        "id": "hMYlDjW5KlzW"
      },
      "source": [
        "y_pred = tree.predict(X_test)"
      ],
      "execution_count": null,
      "outputs": []
    },
    {
      "cell_type": "code",
      "metadata": {
        "colab": {
          "base_uri": "https://localhost:8080/"
        },
        "id": "xjaSFNkWK_x3",
        "outputId": "fb363e17-4124-4da0-863a-bd42cd97087b"
      },
      "source": [
        "print('MSE :', mean_squared_error(y_test, y_pred))"
      ],
      "execution_count": null,
      "outputs": [
        {
          "output_type": "stream",
          "text": [
            "MSE : 1.1839048497135158\n"
          ],
          "name": "stdout"
        }
      ]
    },
    {
      "cell_type": "markdown",
      "metadata": {
        "id": "xj4ciQo4Lu4c"
      },
      "source": [
        "### Apply Several Preprocessing Method to Modeling at once and do hyperparameter Tuning"
      ]
    },
    {
      "cell_type": "markdown",
      "metadata": {
        "id": "UgqsBPDuL1e5"
      },
      "source": [
        "data : adult.csv\n",
        "\n",
        "target : income\n",
        "\n",
        "preprocess:\n",
        "1. missing value : simple imputer with constant\n",
        "2. one hot encoding : relationship, race, sex\n",
        "3. binary encoding : workclass, marital status, occupation, native country\n",
        "4. ordinal encoding : education (already encoded)\n",
        "5. no treatment : numerical\n",
        "6. out : fnlwgt\n",
        "\n",
        "Random state 10, data splitting 70:30\n",
        "1. model Tree(max depth 5, criterion entropy) and compute f1 using CV\n",
        "2. Compute another metrics\n",
        "3. model Logistic Regression (solver liblinear) compute recall +, precision +, f1 +, make ROC and PRC in test set\n",
        "4. do hyperparameter tuning for logistic regression (optimize C and solver) optimized by f1 and using stratified CV 5 fold\n",
        "5. compare the result (before and after) ini test set"
      ]
    },
    {
      "cell_type": "code",
      "metadata": {
        "id": "_yzvbyi9LjNG"
      },
      "source": [
        "adult = pd.read_csv('adult.csv')"
      ],
      "execution_count": null,
      "outputs": []
    },
    {
      "cell_type": "markdown",
      "metadata": {
        "id": "Neie5rX61Lld"
      },
      "source": [
        "### Alternative 1 : Manual Code"
      ]
    },
    {
      "cell_type": "markdown",
      "metadata": {
        "id": "W3dPBeksOOzw"
      },
      "source": [
        "Preprocess"
      ]
    },
    {
      "cell_type": "code",
      "metadata": {
        "id": "NUiMgj0rMtvI"
      },
      "source": [
        "imputer = SimpleImputer(missing_values='?', strategy='constant')\n",
        "imputed_adult = pd.DataFrame(imputer.fit_transform(adult))\n",
        "imputed_adult.columns = adult.columns"
      ],
      "execution_count": null,
      "outputs": []
    },
    {
      "cell_type": "code",
      "metadata": {
        "id": "l9WG6lnWNBZl"
      },
      "source": [
        "onehot = OneHotEncoder(sparse=False)\n",
        "onehot_df = pd.DataFrame(onehot.fit_transform(imputed_adult[['relationship','race','sex']]))\n",
        "onehot_df.columns = onehot.get_feature_names(['relationship','race','sex'])"
      ],
      "execution_count": null,
      "outputs": []
    },
    {
      "cell_type": "code",
      "metadata": {
        "colab": {
          "base_uri": "https://localhost:8080/"
        },
        "id": "2HIaDN3fNDkm",
        "outputId": "86815e9c-6cbe-4963-c61f-b77a4442f56d"
      },
      "source": [
        "binary = ce.BinaryEncoder()\n",
        "binary_df = pd.DataFrame(binary.fit_transform(imputed_adult[['workclass', 'marital.status', 'occupation', 'native.country']]))"
      ],
      "execution_count": null,
      "outputs": [
        {
          "output_type": "stream",
          "text": [
            "/usr/local/lib/python3.7/dist-packages/category_encoders/utils.py:21: FutureWarning: is_categorical is deprecated and will be removed in a future version.  Use is_categorical_dtype instead\n",
            "  elif pd.api.types.is_categorical(cols):\n"
          ],
          "name": "stderr"
        }
      ]
    },
    {
      "cell_type": "code",
      "metadata": {
        "id": "5pfBFFZlNIAQ"
      },
      "source": [
        "X = pd.concat([onehot_df, binary_df, imputed_adult[['age','education.num','capital.gain','capital.loss','hours.per.week']]], axis=1)"
      ],
      "execution_count": null,
      "outputs": []
    },
    {
      "cell_type": "code",
      "metadata": {
        "id": "ogpTHtAONeWE"
      },
      "source": [
        "adult['income_bin'] = np.where(adult['income']=='<=50K', 0, 1)\n",
        "y = adult['income_bin']"
      ],
      "execution_count": null,
      "outputs": []
    },
    {
      "cell_type": "code",
      "metadata": {
        "id": "IqW072KTNqGN"
      },
      "source": [
        "X_train, X_test, y_train, y_test = train_test_split(X, y, test_size=0.3, random_state=2021)"
      ],
      "execution_count": null,
      "outputs": []
    },
    {
      "cell_type": "markdown",
      "metadata": {
        "id": "6EF1z-ALOMCR"
      },
      "source": [
        "1. Model Tree"
      ]
    },
    {
      "cell_type": "code",
      "metadata": {
        "id": "cf_OD18zN8bR"
      },
      "source": [
        "tree = DecisionTreeClassifier(criterion='entropy', max_depth=5)"
      ],
      "execution_count": null,
      "outputs": []
    },
    {
      "cell_type": "code",
      "metadata": {
        "colab": {
          "base_uri": "https://localhost:8080/"
        },
        "id": "pEVpWM8XOe9Q",
        "outputId": "5adb6790-4e66-4d7f-da11-6326e168de4f"
      },
      "source": [
        "print('F1 Scores +:', np.mean(cross_val_score(tree, X_train, y_train, scoring='f1', cv=5)))"
      ],
      "execution_count": null,
      "outputs": [
        {
          "output_type": "stream",
          "text": [
            "F1 Scores +: 0.6125481343168578\n"
          ],
          "name": "stdout"
        }
      ]
    },
    {
      "cell_type": "markdown",
      "metadata": {
        "id": "18DFXOx7Ppde"
      },
      "source": [
        "2. Compute Another Metrics"
      ]
    },
    {
      "cell_type": "code",
      "metadata": {
        "colab": {
          "base_uri": "https://localhost:8080/"
        },
        "id": "n712X5mNOvgk",
        "outputId": "92553cd7-3b73-48cb-fdb3-0cb83d43887e"
      },
      "source": [
        "print('Recall Scores +:', np.mean(cross_val_score(tree, X_train, y_train, scoring='recall', cv=5)))"
      ],
      "execution_count": null,
      "outputs": [
        {
          "output_type": "stream",
          "text": [
            "Recall Scores +: 0.5177943744476625\n"
          ],
          "name": "stdout"
        }
      ]
    },
    {
      "cell_type": "markdown",
      "metadata": {
        "id": "AsoD5_wHP5tZ"
      },
      "source": [
        "3. Model Logistic Regression"
      ]
    },
    {
      "cell_type": "code",
      "metadata": {
        "id": "EQVMhNM2PwBl"
      },
      "source": [
        "logreg = LogisticRegression(solver='liblinear')\n",
        "logreg.fit(X_train, y_train)\n",
        "y_pred = logreg.predict(X_test)"
      ],
      "execution_count": null,
      "outputs": []
    },
    {
      "cell_type": "code",
      "metadata": {
        "colab": {
          "base_uri": "https://localhost:8080/"
        },
        "id": "ZNYxznsNQn6i",
        "outputId": "39854f66-9d70-4eac-ba5f-dd9450aaa6c9"
      },
      "source": [
        "print(classification_report(y_test, y_pred))"
      ],
      "execution_count": null,
      "outputs": [
        {
          "output_type": "stream",
          "text": [
            "              precision    recall  f1-score   support\n",
            "\n",
            "           0       0.88      0.94      0.91      7461\n",
            "           1       0.74      0.58      0.65      2308\n",
            "\n",
            "    accuracy                           0.85      9769\n",
            "   macro avg       0.81      0.76      0.78      9769\n",
            "weighted avg       0.85      0.85      0.85      9769\n",
            "\n"
          ],
          "name": "stdout"
        }
      ]
    },
    {
      "cell_type": "code",
      "metadata": {
        "colab": {
          "base_uri": "https://localhost:8080/",
          "height": 296
        },
        "id": "7oCb7jwrQsoW",
        "outputId": "b6601486-cc58-4f53-98c1-680ca599ace9"
      },
      "source": [
        "plot_roc_curve(logreg, X_test, y_test)"
      ],
      "execution_count": null,
      "outputs": [
        {
          "output_type": "execute_result",
          "data": {
            "text/plain": [
              "<sklearn.metrics._plot.roc_curve.RocCurveDisplay at 0x7fab68f6ee10>"
            ]
          },
          "metadata": {
            "tags": []
          },
          "execution_count": 112
        },
        {
          "output_type": "display_data",
          "data": {
            "image/png": "[encoded data removed]",
            "text/plain": [
              "<Figure size 432x288 with 1 Axes>"
            ]
          },
          "metadata": {
            "tags": [],
            "needs_background": "light"
          }
        }
      ]
    },
    {
      "cell_type": "code",
      "metadata": {
        "colab": {
          "base_uri": "https://localhost:8080/",
          "height": 296
        },
        "id": "tZMNTpaaRFBm",
        "outputId": "ea1c796c-aa77-4cde-fb0f-ac7ae4082ba6"
      },
      "source": [
        "plot_precision_recall_curve(logreg, X_test, y_test)"
      ],
      "execution_count": null,
      "outputs": [
        {
          "output_type": "execute_result",
          "data": {
            "text/plain": [
              "<sklearn.metrics._plot.precision_recall_curve.PrecisionRecallDisplay at 0x7fab6844db50>"
            ]
          },
          "metadata": {
            "tags": []
          },
          "execution_count": 113
        },
        {
          "output_type": "display_data",
          "data": {
            "image/png": "[encoded data removed]",
            "text/plain": [
              "<Figure size 432x288 with 1 Axes>"
            ]
          },
          "metadata": {
            "tags": [],
            "needs_background": "light"
          }
        }
      ]
    },
    {
      "cell_type": "markdown",
      "metadata": {
        "id": "qPceTIbyRaRJ"
      },
      "source": [
        "4. Hyperparameter Tuning"
      ]
    },
    {
      "cell_type": "code",
      "metadata": {
        "id": "nhKlJiXDRVVV"
      },
      "source": [
        "params = {'C':[0.05, 0.01], 'solver':['liblinear', 'newton-cg']}"
      ],
      "execution_count": null,
      "outputs": []
    },
    {
      "cell_type": "code",
      "metadata": {
        "id": "LavZlNCD0GHv"
      },
      "source": [
        "training_score = []\n",
        "best_score = 0\n",
        "\n",
        "for c in params['C']:\n",
        "  for s in params['solver']:\n",
        "    logreg = LogisticRegression(C=c, solver=s, random_state=2021)\n",
        "    logreg.fit(X_train, y_train)\n",
        "    y_pred_train = logreg.predict(X_train)\n",
        "\n",
        "    score = np.mean(cross_val_score(logreg, X_train, y_train, scoring='f1', cv=5))\n",
        "    training_score.append(score)\n",
        "\n",
        "    if score > best_score:\n",
        "      best_score = score\n",
        "      best_c = c\n",
        "      best_solver = s"
      ],
      "execution_count": null,
      "outputs": []
    },
    {
      "cell_type": "code",
      "metadata": {
        "colab": {
          "base_uri": "https://localhost:8080/"
        },
        "id": "mK1b3nxe3eeJ",
        "outputId": "afae9032-c592-4345-9e1e-b8ca8a0074be"
      },
      "source": [
        "print(best_score)\n",
        "print(best_c)\n",
        "print(best_solver)"
      ],
      "execution_count": null,
      "outputs": [
        {
          "output_type": "stream",
          "text": [
            "0.6446101549896115\n",
            "0.05\n",
            "newton-cg\n"
          ],
          "name": "stdout"
        }
      ]
    },
    {
      "cell_type": "code",
      "metadata": {
        "colab": {
          "base_uri": "https://localhost:8080/"
        },
        "id": "laz7aSAu3_ej",
        "outputId": "d49d82c5-42e1-469d-e8dd-77d03ee05e12"
      },
      "source": [
        "logreg = LogisticRegression(C=best_c, solver=best_solver, random_state=2021)\n",
        "logreg.fit(X_train, y_train)\n",
        "y_pred = logreg.predict(X_test)\n",
        "print(classification_report(y_test, y_pred))"
      ],
      "execution_count": null,
      "outputs": [
        {
          "output_type": "stream",
          "text": [
            "              precision    recall  f1-score   support\n",
            "\n",
            "           0       0.88      0.94      0.91      7461\n",
            "           1       0.74      0.58      0.65      2308\n",
            "\n",
            "    accuracy                           0.85      9769\n",
            "   macro avg       0.81      0.76      0.78      9769\n",
            "weighted avg       0.85      0.85      0.85      9769\n",
            "\n"
          ],
          "name": "stdout"
        }
      ]
    },
    {
      "cell_type": "markdown",
      "metadata": {
        "id": "-1Dyfxg00ART"
      },
      "source": [
        "### Alternative 2 : Using Pipeline"
      ]
    },
    {
      "cell_type": "markdown",
      "metadata": {
        "id": "a92GPV5Y4but"
      },
      "source": [
        "Preprocessing"
      ]
    },
    {
      "cell_type": "code",
      "metadata": {
        "id": "jBtSFJIIgNj4"
      },
      "source": [
        "adult['income_bin'] = np.where(adult['income']=='<=50K', 0, 1)"
      ],
      "execution_count": null,
      "outputs": []
    },
    {
      "cell_type": "code",
      "metadata": {
        "id": "r4kf0pG1qsj2"
      },
      "source": [
        "y =adult['income_bin'].copy()"
      ],
      "execution_count": null,
      "outputs": []
    },
    {
      "cell_type": "code",
      "metadata": {
        "id": "okk5kG2Ld6H0"
      },
      "source": [
        "X = adult.copy().drop(['fnlwgt', 'income', 'income_bin', 'education'], axis=1)"
      ],
      "execution_count": null,
      "outputs": []
    },
    {
      "cell_type": "code",
      "metadata": {
        "id": "DtPmxSJO89Ro"
      },
      "source": [
        "X_train, X_test, y_train, y_test = train_test_split(X, y, test_size=0.3, random_state=2021, stratify=y)"
      ],
      "execution_count": null,
      "outputs": []
    },
    {
      "cell_type": "code",
      "metadata": {
        "id": "L3sOVolg4nrI"
      },
      "source": [
        "onehot = OneHotEncoder()\n",
        "binary = make_pipeline(SimpleImputer(missing_values='?', strategy='constant'), ce.BinaryEncoder())"
      ],
      "execution_count": null,
      "outputs": []
    },
    {
      "cell_type": "code",
      "metadata": {
        "id": "6kX6GFAO4nno"
      },
      "source": [
        "onehot_X = ['relationship','race','sex']\n",
        "binary_X = ['workclass', 'marital.status', 'occupation', 'native.country']"
      ],
      "execution_count": null,
      "outputs": []
    },
    {
      "cell_type": "code",
      "metadata": {
        "id": "j0wKWRND4nWp"
      },
      "source": [
        "preprocessor = make_column_transformer((onehot, onehot_X), (binary, binary_X), remainder='passthrough')"
      ],
      "execution_count": null,
      "outputs": []
    },
    {
      "cell_type": "markdown",
      "metadata": {
        "id": "iuxHwMkj-uqk"
      },
      "source": [
        "1. Model Tree"
      ]
    },
    {
      "cell_type": "code",
      "metadata": {
        "id": "4aw28alj4nHB"
      },
      "source": [
        "tree = DecisionTreeClassifier(criterion='entropy', max_depth=5)"
      ],
      "execution_count": null,
      "outputs": []
    },
    {
      "cell_type": "code",
      "metadata": {
        "id": "ZI1kc3QU76eo"
      },
      "source": [
        "clf = make_pipeline(preprocessor, tree)"
      ],
      "execution_count": null,
      "outputs": []
    },
    {
      "cell_type": "code",
      "metadata": {
        "colab": {
          "base_uri": "https://localhost:8080/"
        },
        "id": "-Yex9OHp_FMB",
        "outputId": "f4ce4ef6-4c17-4f9c-f498-412652eafe2c"
      },
      "source": [
        "np.mean(cross_val_score(clf, X_train, y_train, scoring='f1', cv=5))"
      ],
      "execution_count": null,
      "outputs": [
        {
          "output_type": "stream",
          "text": [
            "/usr/local/lib/python3.7/dist-packages/category_encoders/utils.py:21: FutureWarning: is_categorical is deprecated and will be removed in a future version.  Use is_categorical_dtype instead\n",
            "  elif pd.api.types.is_categorical(cols):\n",
            "/usr/local/lib/python3.7/dist-packages/category_encoders/utils.py:21: FutureWarning: is_categorical is deprecated and will be removed in a future version.  Use is_categorical_dtype instead\n",
            "  elif pd.api.types.is_categorical(cols):\n",
            "/usr/local/lib/python3.7/dist-packages/category_encoders/utils.py:21: FutureWarning: is_categorical is deprecated and will be removed in a future version.  Use is_categorical_dtype instead\n",
            "  elif pd.api.types.is_categorical(cols):\n",
            "/usr/local/lib/python3.7/dist-packages/category_encoders/utils.py:21: FutureWarning: is_categorical is deprecated and will be removed in a future version.  Use is_categorical_dtype instead\n",
            "  elif pd.api.types.is_categorical(cols):\n",
            "/usr/local/lib/python3.7/dist-packages/category_encoders/utils.py:21: FutureWarning: is_categorical is deprecated and will be removed in a future version.  Use is_categorical_dtype instead\n",
            "  elif pd.api.types.is_categorical(cols):\n"
          ],
          "name": "stderr"
        },
        {
          "output_type": "execute_result",
          "data": {
            "text/plain": [
              "0.6184884843533207"
            ]
          },
          "metadata": {
            "tags": []
          },
          "execution_count": 257
        }
      ]
    },
    {
      "cell_type": "markdown",
      "metadata": {
        "id": "q6DvRXVeAIbE"
      },
      "source": [
        "2. Model Logistic Regression"
      ]
    },
    {
      "cell_type": "code",
      "metadata": {
        "id": "y47CfMjpAWCc"
      },
      "source": [
        "logreg = LogisticRegression(solver='liblinear')"
      ],
      "execution_count": null,
      "outputs": []
    },
    {
      "cell_type": "code",
      "metadata": {
        "id": "ZuJTqLF1qcB5"
      },
      "source": [
        "clf = make_pipeline(preprocessor, logreg)"
      ],
      "execution_count": null,
      "outputs": []
    },
    {
      "cell_type": "code",
      "metadata": {
        "colab": {
          "base_uri": "https://localhost:8080/"
        },
        "id": "UffEVysdAch_",
        "outputId": "f49c31c6-6528-4838-e922-2b8c6e0e9aff"
      },
      "source": [
        "clf.fit(X_train, y_train)\n",
        "y_pred = clf.predict(X_test)"
      ],
      "execution_count": null,
      "outputs": [
        {
          "output_type": "stream",
          "text": [
            "/usr/local/lib/python3.7/dist-packages/category_encoders/utils.py:21: FutureWarning: is_categorical is deprecated and will be removed in a future version.  Use is_categorical_dtype instead\n",
            "  elif pd.api.types.is_categorical(cols):\n"
          ],
          "name": "stderr"
        }
      ]
    },
    {
      "cell_type": "code",
      "metadata": {
        "colab": {
          "base_uri": "https://localhost:8080/"
        },
        "id": "IPfwFovdAmgC",
        "outputId": "0b202a0f-0204-4809-e712-d0a6a55ea57c"
      },
      "source": [
        "print(classification_report(y_test, y_pred))"
      ],
      "execution_count": null,
      "outputs": [
        {
          "output_type": "stream",
          "text": [
            "              precision    recall  f1-score   support\n",
            "\n",
            "           0       0.87      0.94      0.90      7417\n",
            "           1       0.74      0.57      0.64      2352\n",
            "\n",
            "    accuracy                           0.85      9769\n",
            "   macro avg       0.81      0.75      0.77      9769\n",
            "weighted avg       0.84      0.85      0.84      9769\n",
            "\n"
          ],
          "name": "stdout"
        }
      ]
    },
    {
      "cell_type": "markdown",
      "metadata": {
        "id": "-rbyFC6gA1BY"
      },
      "source": [
        "3. Hyperparameter Tuning"
      ]
    },
    {
      "cell_type": "code",
      "metadata": {
        "id": "djz8TOa1CIQW"
      },
      "source": [
        "params = {'C':[0.05, 0.01], 'solver':['liblinear', 'newton-cg']}"
      ],
      "execution_count": null,
      "outputs": []
    },
    {
      "cell_type": "code",
      "metadata": {
        "id": "6rxvP6VGAszz"
      },
      "source": [
        "grid = GridSearchCV(estimator=logreg, param_grid=params, cv=5, scoring='f1', n_jobs=-1)"
      ],
      "execution_count": null,
      "outputs": []
    },
    {
      "cell_type": "code",
      "metadata": {
        "id": "XDqQqzwwCY8U"
      },
      "source": [
        "clf = make_pipeline(preprocessor, grid)"
      ],
      "execution_count": null,
      "outputs": []
    },
    {
      "cell_type": "code",
      "metadata": {
        "colab": {
          "base_uri": "https://localhost:8080/"
        },
        "id": "mDLgm-sxCh1N",
        "outputId": "dcb80878-f62d-4311-afe6-18750803ac47"
      },
      "source": [
        "clf.fit(X_train, y_train)\n",
        "y_pred = clf.predict(X_test)"
      ],
      "execution_count": null,
      "outputs": [
        {
          "output_type": "stream",
          "text": [
            "/usr/local/lib/python3.7/dist-packages/category_encoders/utils.py:21: FutureWarning: is_categorical is deprecated and will be removed in a future version.  Use is_categorical_dtype instead\n",
            "  elif pd.api.types.is_categorical(cols):\n"
          ],
          "name": "stderr"
        }
      ]
    },
    {
      "cell_type": "code",
      "metadata": {
        "colab": {
          "base_uri": "https://localhost:8080/"
        },
        "id": "qkfOswh0CnT6",
        "outputId": "3648c1a7-d6de-4786-8a52-6a76a9429277"
      },
      "source": [
        "print(classification_report(y_test, y_pred))"
      ],
      "execution_count": null,
      "outputs": [
        {
          "output_type": "stream",
          "text": [
            "              precision    recall  f1-score   support\n",
            "\n",
            "           0       0.87      0.94      0.90      7417\n",
            "           1       0.74      0.58      0.65      2352\n",
            "\n",
            "    accuracy                           0.85      9769\n",
            "   macro avg       0.81      0.76      0.78      9769\n",
            "weighted avg       0.84      0.85      0.84      9769\n",
            "\n"
          ],
          "name": "stdout"
        }
      ]
    },
    {
      "cell_type": "code",
      "metadata": {
        "id": "GLhktjWSCubQ"
      },
      "source": [
        ""
      ],
      "execution_count": null,
      "outputs": []
    }
  ]
}
