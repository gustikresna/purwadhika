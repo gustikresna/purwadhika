{
  "nbformat": 4,
  "nbformat_minor": 0,
  "metadata": {
    "kernelspec": {
      "display_name": "Python 3",
      "language": "python",
      "name": "python3"
    },
    "language_info": {
      "codemirror_mode": {
        "name": "ipython",
        "version": 3
      },
      "file_extension": ".py",
      "mimetype": "text/x-python",
      "name": "python",
      "nbconvert_exporter": "python",
      "pygments_lexer": "ipython3",
      "version": "3.7.3"
    },
    "colab": {
      "name": "Exercise Data Visualization 5.ipynb",
      "provenance": [],
      "collapsed_sections": [],
      "toc_visible": true,
      "include_colab_link": true
    }
  },
  "cells": [
    {
      "cell_type": "markdown",
      "metadata": {
        "id": "view-in-github",
        "colab_type": "text"
      },
      "source": [
        "<a href=\"https://colab.research.google.com/github/gustikresna/purwadhika-assignment/blob/main/Exercise_Data_Visualization_5.ipynb\" target=\"_parent\"><img src=\"https://colab.research.google.com/assets/colab-badge.svg\" alt=\"Open In Colab\"/></a>"
      ]
    },
    {
      "cell_type": "code",
      "metadata": {
        "id": "rN3UYBH6ZkbJ"
      },
      "source": [
        "# Import necessary library\n",
        "import pandas as pd\n",
        "import numpy as np\n",
        "import matplotlib.pyplot as plt"
      ],
      "execution_count": null,
      "outputs": []
    },
    {
      "cell_type": "code",
      "metadata": {
        "colab": {
          "base_uri": "https://localhost:8080/",
          "height": 419
        },
        "id": "7s2XmCTsaW6U",
        "outputId": "f36df975-891e-4efa-8879-dae1c5899f87"
      },
      "source": [
        "nsfg = pd.read_hdf('nsfg.hdf5')\n",
        "nsfg"
      ],
      "execution_count": null,
      "outputs": [
        {
          "output_type": "execute_result",
          "data": {
            "text/html": [
              "<div>\n",
              "<style scoped>\n",
              "    .dataframe tbody tr th:only-of-type {\n",
              "        vertical-align: middle;\n",
              "    }\n",
              "\n",
              "    .dataframe tbody tr th {\n",
              "        vertical-align: top;\n",
              "    }\n",
              "\n",
              "    .dataframe thead th {\n",
              "        text-align: right;\n",
              "    }\n",
              "</style>\n",
              "<table border=\"1\" class=\"dataframe\">\n",
              "  <thead>\n",
              "    <tr style=\"text-align: right;\">\n",
              "      <th></th>\n",
              "      <th>caseid</th>\n",
              "      <th>outcome</th>\n",
              "      <th>birthwgt_lb1</th>\n",
              "      <th>birthwgt_oz1</th>\n",
              "      <th>prglngth</th>\n",
              "      <th>nbrnaliv</th>\n",
              "      <th>agecon</th>\n",
              "      <th>agepreg</th>\n",
              "      <th>hpagelb</th>\n",
              "      <th>wgt2013_2015</th>\n",
              "    </tr>\n",
              "  </thead>\n",
              "  <tbody>\n",
              "    <tr>\n",
              "      <th>0</th>\n",
              "      <td>60418</td>\n",
              "      <td>1</td>\n",
              "      <td>5.0</td>\n",
              "      <td>4.0</td>\n",
              "      <td>40</td>\n",
              "      <td>1.0</td>\n",
              "      <td>2000</td>\n",
              "      <td>2075.0</td>\n",
              "      <td>22.0</td>\n",
              "      <td>3554.964843</td>\n",
              "    </tr>\n",
              "    <tr>\n",
              "      <th>1</th>\n",
              "      <td>60418</td>\n",
              "      <td>1</td>\n",
              "      <td>4.0</td>\n",
              "      <td>12.0</td>\n",
              "      <td>36</td>\n",
              "      <td>1.0</td>\n",
              "      <td>2291</td>\n",
              "      <td>2358.0</td>\n",
              "      <td>25.0</td>\n",
              "      <td>3554.964843</td>\n",
              "    </tr>\n",
              "    <tr>\n",
              "      <th>2</th>\n",
              "      <td>60418</td>\n",
              "      <td>1</td>\n",
              "      <td>5.0</td>\n",
              "      <td>4.0</td>\n",
              "      <td>36</td>\n",
              "      <td>1.0</td>\n",
              "      <td>3241</td>\n",
              "      <td>3308.0</td>\n",
              "      <td>52.0</td>\n",
              "      <td>3554.964843</td>\n",
              "    </tr>\n",
              "    <tr>\n",
              "      <th>3</th>\n",
              "      <td>60419</td>\n",
              "      <td>6</td>\n",
              "      <td>NaN</td>\n",
              "      <td>NaN</td>\n",
              "      <td>33</td>\n",
              "      <td>NaN</td>\n",
              "      <td>3650</td>\n",
              "      <td>NaN</td>\n",
              "      <td>NaN</td>\n",
              "      <td>2484.535358</td>\n",
              "    </tr>\n",
              "    <tr>\n",
              "      <th>4</th>\n",
              "      <td>60420</td>\n",
              "      <td>1</td>\n",
              "      <td>8.0</td>\n",
              "      <td>13.0</td>\n",
              "      <td>41</td>\n",
              "      <td>1.0</td>\n",
              "      <td>2191</td>\n",
              "      <td>2266.0</td>\n",
              "      <td>24.0</td>\n",
              "      <td>2903.782914</td>\n",
              "    </tr>\n",
              "    <tr>\n",
              "      <th>...</th>\n",
              "      <td>...</td>\n",
              "      <td>...</td>\n",
              "      <td>...</td>\n",
              "      <td>...</td>\n",
              "      <td>...</td>\n",
              "      <td>...</td>\n",
              "      <td>...</td>\n",
              "      <td>...</td>\n",
              "      <td>...</td>\n",
              "      <td>...</td>\n",
              "    </tr>\n",
              "    <tr>\n",
              "      <th>9353</th>\n",
              "      <td>70615</td>\n",
              "      <td>1</td>\n",
              "      <td>4.0</td>\n",
              "      <td>11.0</td>\n",
              "      <td>35</td>\n",
              "      <td>1.0</td>\n",
              "      <td>1758</td>\n",
              "      <td>1825.0</td>\n",
              "      <td>22.0</td>\n",
              "      <td>8117.554461</td>\n",
              "    </tr>\n",
              "    <tr>\n",
              "      <th>9354</th>\n",
              "      <td>70616</td>\n",
              "      <td>1</td>\n",
              "      <td>8.0</td>\n",
              "      <td>7.0</td>\n",
              "      <td>42</td>\n",
              "      <td>1.0</td>\n",
              "      <td>1741</td>\n",
              "      <td>1816.0</td>\n",
              "      <td>18.0</td>\n",
              "      <td>6842.240477</td>\n",
              "    </tr>\n",
              "    <tr>\n",
              "      <th>9355</th>\n",
              "      <td>70616</td>\n",
              "      <td>1</td>\n",
              "      <td>7.0</td>\n",
              "      <td>6.0</td>\n",
              "      <td>36</td>\n",
              "      <td>1.0</td>\n",
              "      <td>2091</td>\n",
              "      <td>2158.0</td>\n",
              "      <td>23.0</td>\n",
              "      <td>6842.240477</td>\n",
              "    </tr>\n",
              "    <tr>\n",
              "      <th>9356</th>\n",
              "      <td>70619</td>\n",
              "      <td>1</td>\n",
              "      <td>8.0</td>\n",
              "      <td>3.0</td>\n",
              "      <td>41</td>\n",
              "      <td>1.0</td>\n",
              "      <td>3450</td>\n",
              "      <td>3525.0</td>\n",
              "      <td>31.0</td>\n",
              "      <td>3856.253532</td>\n",
              "    </tr>\n",
              "    <tr>\n",
              "      <th>9357</th>\n",
              "      <td>70619</td>\n",
              "      <td>1</td>\n",
              "      <td>8.0</td>\n",
              "      <td>5.0</td>\n",
              "      <td>40</td>\n",
              "      <td>1.0</td>\n",
              "      <td>3683</td>\n",
              "      <td>3758.0</td>\n",
              "      <td>34.0</td>\n",
              "      <td>3856.253532</td>\n",
              "    </tr>\n",
              "  </tbody>\n",
              "</table>\n",
              "<p>9358 rows × 10 columns</p>\n",
              "</div>"
            ],
            "text/plain": [
              "      caseid  outcome  birthwgt_lb1  ...  agepreg  hpagelb  wgt2013_2015\n",
              "0      60418        1           5.0  ...   2075.0     22.0   3554.964843\n",
              "1      60418        1           4.0  ...   2358.0     25.0   3554.964843\n",
              "2      60418        1           5.0  ...   3308.0     52.0   3554.964843\n",
              "3      60419        6           NaN  ...      NaN      NaN   2484.535358\n",
              "4      60420        1           8.0  ...   2266.0     24.0   2903.782914\n",
              "...      ...      ...           ...  ...      ...      ...           ...\n",
              "9353   70615        1           4.0  ...   1825.0     22.0   8117.554461\n",
              "9354   70616        1           8.0  ...   1816.0     18.0   6842.240477\n",
              "9355   70616        1           7.0  ...   2158.0     23.0   6842.240477\n",
              "9356   70619        1           8.0  ...   3525.0     31.0   3856.253532\n",
              "9357   70619        1           8.0  ...   3758.0     34.0   3856.253532\n",
              "\n",
              "[9358 rows x 10 columns]"
            ]
          },
          "metadata": {
            "tags": []
          },
          "execution_count": 15
        }
      ]
    },
    {
      "cell_type": "code",
      "metadata": {
        "colab": {
          "base_uri": "https://localhost:8080/"
        },
        "id": "AhZtYaZSZkbL",
        "outputId": "13a8653d-e9f4-4162-cd87-4ea538c9ac44"
      },
      "source": [
        "# Calculate the number of rows and columns in the DataFrame nsfg.\n",
        "nsfg.shape"
      ],
      "execution_count": null,
      "outputs": [
        {
          "output_type": "execute_result",
          "data": {
            "text/plain": [
              "(9358, 10)"
            ]
          },
          "metadata": {
            "tags": []
          },
          "execution_count": 17
        }
      ]
    },
    {
      "cell_type": "code",
      "metadata": {
        "colab": {
          "base_uri": "https://localhost:8080/"
        },
        "id": "RVbOecqiZkbM",
        "outputId": "716e5ab9-2ad5-4b32-ff9f-ff39bcd1fd7c"
      },
      "source": [
        "# Display the names of the columns\n",
        "nsfg.columns"
      ],
      "execution_count": null,
      "outputs": [
        {
          "output_type": "execute_result",
          "data": {
            "text/plain": [
              "Index(['caseid', 'outcome', 'birthwgt_lb1', 'birthwgt_oz1', 'prglngth',\n",
              "       'nbrnaliv', 'agecon', 'agepreg', 'hpagelb', 'wgt2013_2015'],\n",
              "      dtype='object')"
            ]
          },
          "metadata": {
            "tags": []
          },
          "execution_count": 18
        }
      ]
    },
    {
      "cell_type": "code",
      "metadata": {
        "colab": {
          "base_uri": "https://localhost:8080/"
        },
        "id": "5sq1PazlZkbM",
        "outputId": "ff4e8fb6-45eb-4014-f812-73b834b480b5"
      },
      "source": [
        "# Select the column 'birthwgt_oz1' and assign it to a new variable called ounces.\n",
        "ounces = nsfg['birthwgt_oz1']\n",
        "\n",
        "# Print the first 5 elements of ounces\n",
        "print(ounces.head())"
      ],
      "execution_count": null,
      "outputs": [
        {
          "output_type": "stream",
          "text": [
            "0     4.0\n",
            "1    12.0\n",
            "2     4.0\n",
            "3     NaN\n",
            "4    13.0\n",
            "Name: birthwgt_oz1, dtype: float64\n"
          ],
          "name": "stdout"
        }
      ]
    },
    {
      "cell_type": "markdown",
      "metadata": {
        "id": "bvbDsuFNZkbN"
      },
      "source": [
        "## Clean a variable"
      ]
    },
    {
      "cell_type": "code",
      "metadata": {
        "colab": {
          "base_uri": "https://localhost:8080/"
        },
        "id": "rw04uBhLZkbN",
        "outputId": "c735e897-2651-4d3d-fb9f-907d01e74739"
      },
      "source": [
        "# In the 'nbrnaliv' column, replace the value 8, in place, with the special value NaN.\n",
        "nsfg['nbrnaliv'].replace(8, np.nan, inplace=True)\n",
        "\n",
        "# Confirm that the value 8 no longer appears in this column by printing the values and their frequencies.\n",
        "print(nsfg['nbrnaliv'].value_counts())"
      ],
      "execution_count": null,
      "outputs": [
        {
          "output_type": "stream",
          "text": [
            "1.0    6379\n",
            "2.0     100\n",
            "3.0       5\n",
            "Name: nbrnaliv, dtype: int64\n"
          ],
          "name": "stdout"
        }
      ]
    },
    {
      "cell_type": "markdown",
      "metadata": {
        "id": "JWn5yGJRZkbN"
      },
      "source": [
        "## Compute a variable\n",
        "\n",
        "For each pregnancy in the NSFG dataset, the variable 'agecon' encodes the respondent's age at conception, and 'agepreg' the respondent's age at the end of the pregnancy.\n",
        "Both variables are recorded as integers with two implicit decimal places, so the value 2575 means that the respondent's age was 25.75."
      ]
    },
    {
      "cell_type": "code",
      "metadata": {
        "colab": {
          "base_uri": "https://localhost:8080/"
        },
        "id": "KQwzyI2qZkbO",
        "outputId": "530559f9-0c9b-49b5-f3b8-bd6a96a2ce80"
      },
      "source": [
        "# Select 'agecon' and 'agepreg', divide them by 100, and assign them to the local variables agecon and agepreg.\n",
        "agecon = nsfg.agecon / 100\n",
        "agepreg = nsfg.agepreg / 100\n",
        "\n",
        "# Compute the difference, which is an estimate of the duration of the pregnancy. Keep in mind that for each pregnancy, agepreg will be larger than agecon.\n",
        "preg_length = agepreg - agecon\n",
        "\n",
        "# Use .describe() to compute the mean duration and other summary statistics.\n",
        "print(preg_length.describe())"
      ],
      "execution_count": null,
      "outputs": [
        {
          "output_type": "stream",
          "text": [
            "count    9109.000000\n",
            "mean        0.552069\n",
            "std         0.271479\n",
            "min         0.000000\n",
            "25%         0.250000\n",
            "50%         0.670000\n",
            "75%         0.750000\n",
            "max         0.920000\n",
            "dtype: float64\n"
          ],
          "name": "stdout"
        }
      ]
    },
    {
      "cell_type": "markdown",
      "metadata": {
        "id": "ls1giN0UZkbO"
      },
      "source": [
        "## Make a histogram\n",
        "\n",
        "As we saw in a previous exercise, the NSFG dataset includes a variable 'agecon' that records age at conception for each pregnancy. Here, you're going to plot a histogram of this variable. You'll use the bins parameter that you saw in the video, and also a new parameter - histtype"
      ]
    },
    {
      "cell_type": "code",
      "metadata": {
        "colab": {
          "base_uri": "https://localhost:8080/",
          "height": 279
        },
        "id": "EmCDx_FWZkbO",
        "outputId": "884e1196-9519-426d-86ff-a697136dc0f8"
      },
      "source": [
        "# Plot a histogram of agecon with 20 bins and setting the parameter histtype to be 'step'..\n",
        "plt.hist(agecon, bins=20, histtype='step')\n",
        "\n",
        "# Label the axes\n",
        "plt.xlabel('Age at conception')\n",
        "plt.ylabel('Number of pregnancies')\n",
        "\n",
        "# Show the figure\n",
        "plt.show()"
      ],
      "execution_count": null,
      "outputs": [
        {
          "output_type": "display_data",
          "data": {
            "image/png": "[encoded data removed]",
            "text/plain": [
              "<Figure size 432x288 with 1 Axes>"
            ]
          },
          "metadata": {
            "tags": [],
            "needs_background": "light"
          }
        }
      ]
    },
    {
      "cell_type": "markdown",
      "metadata": {
        "id": "PwMEWtiZZkbP"
      },
      "source": [
        "## Compute birth weight"
      ]
    },
    {
      "cell_type": "code",
      "metadata": {
        "id": "VooxFTikZkbP"
      },
      "source": [
        "# Clean the weight variables\n",
        "pounds = nsfg['birthwgt_lb1'].replace([98, 99], np.nan)\n",
        "ounces = nsfg['birthwgt_oz1'].replace([98, 99], np.nan)\n",
        "\n",
        "# Compute total birth weight\n",
        "birth_weight = pounds + ounces/16"
      ],
      "execution_count": null,
      "outputs": []
    },
    {
      "cell_type": "code",
      "metadata": {
        "colab": {
          "base_uri": "https://localhost:8080/"
        },
        "id": "Oy-Lj8OJZkbQ",
        "outputId": "b1aac75c-e9fe-41d0-ca47-c33905458548"
      },
      "source": [
        "# Make a Boolean Series called full_term that is true for babies with 'prglngth' greater than or equal to 37 weeks.\n",
        "full_term = nsfg.prglngth >= 37\n",
        "\n",
        "# Use full_term and birth_weight to select birth weight in pounds for full-term babies. Store the result in full_term_weight.\n",
        "full_term_weight = birth_weight[full_term]\n",
        "\n",
        "# Compute the mean weight of full-term babies\n",
        "print(full_term_weight.mean())"
      ],
      "execution_count": null,
      "outputs": [
        {
          "output_type": "stream",
          "text": [
            "7.372323879231473\n"
          ],
          "name": "stdout"
        }
      ]
    },
    {
      "cell_type": "markdown",
      "metadata": {
        "id": "rGKiCKN3ZkbQ"
      },
      "source": [
        "## Filter\n",
        "\n",
        "The distribution of weight is also different for multiple births, like twins and triplets. In this exercise, you'll filter them out, too, and see what effect it has on the mean."
      ]
    },
    {
      "cell_type": "code",
      "metadata": {
        "colab": {
          "base_uri": "https://localhost:8080/"
        },
        "id": "rSbS1416ZkbQ",
        "outputId": "971c041e-db4f-4ca7-d925-fc136d0df592"
      },
      "source": [
        "# Filter full-term babies\n",
        "full_term = nsfg['prglngth'] >= 37\n",
        "\n",
        "# Use the variable 'nbrnaliv' to make a Boolean Series that is True for single births (where 'nbrnaliv' equals 1) and False otherwise.\n",
        "single = nsfg.nbrnaliv == 1\n",
        "\n",
        "# Use Boolean Series and logical operators to select single, full-term babies and compute their mean birth weight.\n",
        "single_full_term_weight = birth_weight[single & full_term]\n",
        "print('Single full-term mean:', single_full_term_weight.mean())\n",
        "\n",
        "# For comparison, select multiple, full-term babies and compute their mean birth weight.\n",
        "mult_full_term_weight = birth_weight[~single & full_term]\n",
        "print('Multiple full-term mean:', mult_full_term_weight.mean())\n"
      ],
      "execution_count": null,
      "outputs": [
        {
          "output_type": "stream",
          "text": [
            "Single full-term mean: 7.385643450184502\n",
            "Multiple full-term mean: 5.768055555555556\n"
          ],
          "name": "stdout"
        }
      ]
    },
    {
      "cell_type": "code",
      "metadata": {
        "id": "k2aeZjPXegWf"
      },
      "source": [
        ""
      ],
      "execution_count": null,
      "outputs": []
    }
  ]
}