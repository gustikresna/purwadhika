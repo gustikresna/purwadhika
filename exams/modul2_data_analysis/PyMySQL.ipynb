{
 "metadata": {
  "language_info": {
   "codemirror_mode": {
    "name": "ipython",
    "version": 3
   },
   "file_extension": ".py",
   "mimetype": "text/x-python",
   "name": "python",
   "nbconvert_exporter": "python",
   "pygments_lexer": "ipython3",
   "version": "3.9.1"
  },
  "orig_nbformat": 2,
  "kernelspec": {
   "name": "python391jvsc74a57bd07812ea015bdcee6f23a998adcdd2ef97c151c0c241b7b7070987d9313e41299d",
   "display_name": "Python 3.9.1 64-bit"
  },
  "metadata": {
   "interpreter": {
    "hash": "7812ea015bdcee6f23a998adcdd2ef97c151c0c241b7b7070987d9313e41299d"
   }
  }
 },
 "nbformat": 4,
 "nbformat_minor": 2,
 "cells": [
  {
   "source": [
    "# PyMySQL - Sakila Database"
   ],
   "cell_type": "markdown",
   "metadata": {}
  },
  {
   "cell_type": "code",
   "execution_count": 84,
   "metadata": {},
   "outputs": [],
   "source": [
    "import mysql.connector\n",
    "import pandas as pd"
   ]
  },
  {
   "cell_type": "code",
   "execution_count": 51,
   "metadata": {},
   "outputs": [],
   "source": [
    "mydb = mysql.connector.connect(\n",
    "    host = 'localhost',\n",
    "    user = 'root',\n",
    "    passwd = '',\n",
    "    database = 'sakila'\n",
    ")"
   ]
  },
  {
   "cell_type": "code",
   "execution_count": 52,
   "metadata": {},
   "outputs": [],
   "source": [
    "mycursor = mydb.cursor()"
   ]
  },
  {
   "cell_type": "code",
   "execution_count": 53,
   "metadata": {},
   "outputs": [],
   "source": [
    "def sql_df(query):\n",
    "    mycursor.execute(query)\n",
    "    myresult = mycursor.fetchall()\n",
    "    df = pd.DataFrame(myresult, columns=mycursor.column_names)\n",
    "    return df"
   ]
  },
  {
   "cell_type": "code",
   "execution_count": 18,
   "metadata": {},
   "outputs": [
    {
     "output_type": "execute_result",
     "data": {
      "text/plain": [
       "              Tables_in_sakila\n",
       "0                        actor\n",
       "1                   actor_info\n",
       "2                      address\n",
       "3                     category\n",
       "4                         city\n",
       "5                      country\n",
       "6                     customer\n",
       "7                customer_list\n",
       "8                         film\n",
       "9                   film_actor\n",
       "10               film_category\n",
       "11                   film_list\n",
       "12                   film_text\n",
       "13                   inventory\n",
       "14                    language\n",
       "15  nicer_but_slower_film_list\n",
       "16                     payment\n",
       "17                      rental\n",
       "18      sales_by_film_category\n",
       "19              sales_by_store\n",
       "20                       staff\n",
       "21                  staff_list\n",
       "22                       store"
      ],
      "text/html": "<div>\n<style scoped>\n    .dataframe tbody tr th:only-of-type {\n        vertical-align: middle;\n    }\n\n    .dataframe tbody tr th {\n        vertical-align: top;\n    }\n\n    .dataframe thead th {\n        text-align: right;\n    }\n</style>\n<table border=\"1\" class=\"dataframe\">\n  <thead>\n    <tr style=\"text-align: right;\">\n      <th></th>\n      <th>Tables_in_sakila</th>\n    </tr>\n  </thead>\n  <tbody>\n    <tr>\n      <th>0</th>\n      <td>actor</td>\n    </tr>\n    <tr>\n      <th>1</th>\n      <td>actor_info</td>\n    </tr>\n    <tr>\n      <th>2</th>\n      <td>address</td>\n    </tr>\n    <tr>\n      <th>3</th>\n      <td>category</td>\n    </tr>\n    <tr>\n      <th>4</th>\n      <td>city</td>\n    </tr>\n    <tr>\n      <th>5</th>\n      <td>country</td>\n    </tr>\n    <tr>\n      <th>6</th>\n      <td>customer</td>\n    </tr>\n    <tr>\n      <th>7</th>\n      <td>customer_list</td>\n    </tr>\n    <tr>\n      <th>8</th>\n      <td>film</td>\n    </tr>\n    <tr>\n      <th>9</th>\n      <td>film_actor</td>\n    </tr>\n    <tr>\n      <th>10</th>\n      <td>film_category</td>\n    </tr>\n    <tr>\n      <th>11</th>\n      <td>film_list</td>\n    </tr>\n    <tr>\n      <th>12</th>\n      <td>film_text</td>\n    </tr>\n    <tr>\n      <th>13</th>\n      <td>inventory</td>\n    </tr>\n    <tr>\n      <th>14</th>\n      <td>language</td>\n    </tr>\n    <tr>\n      <th>15</th>\n      <td>nicer_but_slower_film_list</td>\n    </tr>\n    <tr>\n      <th>16</th>\n      <td>payment</td>\n    </tr>\n    <tr>\n      <th>17</th>\n      <td>rental</td>\n    </tr>\n    <tr>\n      <th>18</th>\n      <td>sales_by_film_category</td>\n    </tr>\n    <tr>\n      <th>19</th>\n      <td>sales_by_store</td>\n    </tr>\n    <tr>\n      <th>20</th>\n      <td>staff</td>\n    </tr>\n    <tr>\n      <th>21</th>\n      <td>staff_list</td>\n    </tr>\n    <tr>\n      <th>22</th>\n      <td>store</td>\n    </tr>\n  </tbody>\n</table>\n</div>"
     },
     "metadata": {},
     "execution_count": 18
    }
   ],
   "source": [
    "sql_df(\n",
    "'''\n",
    "show tables\n",
    "'''\n",
    ")"
   ]
  },
  {
   "source": [
    "### Soal 1"
   ],
   "cell_type": "markdown",
   "metadata": {}
  },
  {
   "cell_type": "code",
   "execution_count": 54,
   "metadata": {},
   "outputs": [
    {
     "output_type": "execute_result",
     "data": {
      "text/plain": [
       "              title category  length\n",
       "0   DOWNHILL ENOUGH   Comedy      47\n",
       "1  PARADISE SABRINA   Comedy      48\n",
       "2    HEAVEN FREEDOM   Comedy      48\n",
       "3  HURRICANE AFFAIR   Comedy      49\n",
       "4         ZORRO ARK   Comedy      50\n",
       "5        LION UNCUT   Comedy      50\n",
       "6       CLOSER BANG   Comedy      58\n",
       "7   AIRPLANE SIERRA   Comedy      62\n",
       "8   LONELY ELEPHANT   Comedy      67\n",
       "9      DOOM DANCING   Comedy      68"
      ],
      "text/html": "<div>\n<style scoped>\n    .dataframe tbody tr th:only-of-type {\n        vertical-align: middle;\n    }\n\n    .dataframe tbody tr th {\n        vertical-align: top;\n    }\n\n    .dataframe thead th {\n        text-align: right;\n    }\n</style>\n<table border=\"1\" class=\"dataframe\">\n  <thead>\n    <tr style=\"text-align: right;\">\n      <th></th>\n      <th>title</th>\n      <th>category</th>\n      <th>length</th>\n    </tr>\n  </thead>\n  <tbody>\n    <tr>\n      <th>0</th>\n      <td>DOWNHILL ENOUGH</td>\n      <td>Comedy</td>\n      <td>47</td>\n    </tr>\n    <tr>\n      <th>1</th>\n      <td>PARADISE SABRINA</td>\n      <td>Comedy</td>\n      <td>48</td>\n    </tr>\n    <tr>\n      <th>2</th>\n      <td>HEAVEN FREEDOM</td>\n      <td>Comedy</td>\n      <td>48</td>\n    </tr>\n    <tr>\n      <th>3</th>\n      <td>HURRICANE AFFAIR</td>\n      <td>Comedy</td>\n      <td>49</td>\n    </tr>\n    <tr>\n      <th>4</th>\n      <td>ZORRO ARK</td>\n      <td>Comedy</td>\n      <td>50</td>\n    </tr>\n    <tr>\n      <th>5</th>\n      <td>LION UNCUT</td>\n      <td>Comedy</td>\n      <td>50</td>\n    </tr>\n    <tr>\n      <th>6</th>\n      <td>CLOSER BANG</td>\n      <td>Comedy</td>\n      <td>58</td>\n    </tr>\n    <tr>\n      <th>7</th>\n      <td>AIRPLANE SIERRA</td>\n      <td>Comedy</td>\n      <td>62</td>\n    </tr>\n    <tr>\n      <th>8</th>\n      <td>LONELY ELEPHANT</td>\n      <td>Comedy</td>\n      <td>67</td>\n    </tr>\n    <tr>\n      <th>9</th>\n      <td>DOOM DANCING</td>\n      <td>Comedy</td>\n      <td>68</td>\n    </tr>\n  </tbody>\n</table>\n</div>"
     },
     "metadata": {},
     "execution_count": 54
    }
   ],
   "source": [
    "#10 film komedy dengan durasi tersingkat\n",
    "sql_df(\n",
    "'''\n",
    "select title, category, length from film_list\n",
    "where category = \"Comedy\"\n",
    "order by length\n",
    "limit 10;\n",
    "'''\n",
    ")"
   ]
  },
  {
   "source": [
    "### Soal 2"
   ],
   "cell_type": "markdown",
   "metadata": {}
  },
  {
   "cell_type": "code",
   "execution_count": 55,
   "metadata": {},
   "outputs": [
    {
     "output_type": "execute_result",
     "data": {
      "text/plain": [
       "       kategori  jumlahMovie rataHargaSewa\n",
       "0       Foreign           73      3.099589\n",
       "1        Sports           73      3.099589\n",
       "2        Family           69      2.758116\n",
       "3   Documentary           68      2.666471\n",
       "4     Animation           66      2.808182\n",
       "5        Action           64      2.646250\n",
       "6           New           63      3.116984\n",
       "7        Sci-Fi           61      3.219508\n",
       "8         Drama           61      2.990000\n",
       "9         Games           61      3.252295\n",
       "10     Children           60      2.890000\n",
       "11       Comedy           58      3.162414\n",
       "12     Classics           57      2.744386\n",
       "13       Horror           56      3.025714\n",
       "14       Travel           56      3.275714\n",
       "15        Music           51      2.950784"
      ],
      "text/html": "<div>\n<style scoped>\n    .dataframe tbody tr th:only-of-type {\n        vertical-align: middle;\n    }\n\n    .dataframe tbody tr th {\n        vertical-align: top;\n    }\n\n    .dataframe thead th {\n        text-align: right;\n    }\n</style>\n<table border=\"1\" class=\"dataframe\">\n  <thead>\n    <tr style=\"text-align: right;\">\n      <th></th>\n      <th>kategori</th>\n      <th>jumlahMovie</th>\n      <th>rataHargaSewa</th>\n    </tr>\n  </thead>\n  <tbody>\n    <tr>\n      <th>0</th>\n      <td>Foreign</td>\n      <td>73</td>\n      <td>3.099589</td>\n    </tr>\n    <tr>\n      <th>1</th>\n      <td>Sports</td>\n      <td>73</td>\n      <td>3.099589</td>\n    </tr>\n    <tr>\n      <th>2</th>\n      <td>Family</td>\n      <td>69</td>\n      <td>2.758116</td>\n    </tr>\n    <tr>\n      <th>3</th>\n      <td>Documentary</td>\n      <td>68</td>\n      <td>2.666471</td>\n    </tr>\n    <tr>\n      <th>4</th>\n      <td>Animation</td>\n      <td>66</td>\n      <td>2.808182</td>\n    </tr>\n    <tr>\n      <th>5</th>\n      <td>Action</td>\n      <td>64</td>\n      <td>2.646250</td>\n    </tr>\n    <tr>\n      <th>6</th>\n      <td>New</td>\n      <td>63</td>\n      <td>3.116984</td>\n    </tr>\n    <tr>\n      <th>7</th>\n      <td>Sci-Fi</td>\n      <td>61</td>\n      <td>3.219508</td>\n    </tr>\n    <tr>\n      <th>8</th>\n      <td>Drama</td>\n      <td>61</td>\n      <td>2.990000</td>\n    </tr>\n    <tr>\n      <th>9</th>\n      <td>Games</td>\n      <td>61</td>\n      <td>3.252295</td>\n    </tr>\n    <tr>\n      <th>10</th>\n      <td>Children</td>\n      <td>60</td>\n      <td>2.890000</td>\n    </tr>\n    <tr>\n      <th>11</th>\n      <td>Comedy</td>\n      <td>58</td>\n      <td>3.162414</td>\n    </tr>\n    <tr>\n      <th>12</th>\n      <td>Classics</td>\n      <td>57</td>\n      <td>2.744386</td>\n    </tr>\n    <tr>\n      <th>13</th>\n      <td>Horror</td>\n      <td>56</td>\n      <td>3.025714</td>\n    </tr>\n    <tr>\n      <th>14</th>\n      <td>Travel</td>\n      <td>56</td>\n      <td>3.275714</td>\n    </tr>\n    <tr>\n      <th>15</th>\n      <td>Music</td>\n      <td>51</td>\n      <td>2.950784</td>\n    </tr>\n  </tbody>\n</table>\n</div>"
     },
     "metadata": {},
     "execution_count": 55
    }
   ],
   "source": [
    "#daftar film beserta jumlah film tiap kategori & rata2 harga sewa DVD film tiap katogri\n",
    "sql_df(\n",
    "'''\n",
    "select category as kategori, count(FID) as jumlahMovie, avg(price) as rataHargaSewa\n",
    "from film_list\n",
    "group by kategori\n",
    "order by jumlahMovie desc;\n",
    "'''\n",
    "    \n",
    ")"
   ]
  },
  {
   "source": [
    "### Soal 3"
   ],
   "cell_type": "markdown",
   "metadata": {}
  },
  {
   "cell_type": "code",
   "execution_count": 76,
   "metadata": {},
   "outputs": [
    {
     "output_type": "execute_result",
     "data": {
      "text/plain": [
       "   actor_id first_name    last_name  jumlah_Movie\n",
       "0       107       GINA    DEGENERES            42\n",
       "1       102     WALTER         TORN            41\n",
       "2       198       MARY       KEITEL            40\n",
       "3       181    MATTHEW       CARREY            39\n",
       "4        23     SANDRA       KILMER            37\n",
       "5        81   SCARLETT        DAMON            36\n",
       "6       158     VIVIEN     BASINGER            35\n",
       "7       144     ANGELA  WITHERSPOON            35\n",
       "8       106    GROUCHO        DUNST            35\n",
       "9        60      HENRY        BERRY            35"
      ],
      "text/html": "<div>\n<style scoped>\n    .dataframe tbody tr th:only-of-type {\n        vertical-align: middle;\n    }\n\n    .dataframe tbody tr th {\n        vertical-align: top;\n    }\n\n    .dataframe thead th {\n        text-align: right;\n    }\n</style>\n<table border=\"1\" class=\"dataframe\">\n  <thead>\n    <tr style=\"text-align: right;\">\n      <th></th>\n      <th>actor_id</th>\n      <th>first_name</th>\n      <th>last_name</th>\n      <th>jumlah_Movie</th>\n    </tr>\n  </thead>\n  <tbody>\n    <tr>\n      <th>0</th>\n      <td>107</td>\n      <td>GINA</td>\n      <td>DEGENERES</td>\n      <td>42</td>\n    </tr>\n    <tr>\n      <th>1</th>\n      <td>102</td>\n      <td>WALTER</td>\n      <td>TORN</td>\n      <td>41</td>\n    </tr>\n    <tr>\n      <th>2</th>\n      <td>198</td>\n      <td>MARY</td>\n      <td>KEITEL</td>\n      <td>40</td>\n    </tr>\n    <tr>\n      <th>3</th>\n      <td>181</td>\n      <td>MATTHEW</td>\n      <td>CARREY</td>\n      <td>39</td>\n    </tr>\n    <tr>\n      <th>4</th>\n      <td>23</td>\n      <td>SANDRA</td>\n      <td>KILMER</td>\n      <td>37</td>\n    </tr>\n    <tr>\n      <th>5</th>\n      <td>81</td>\n      <td>SCARLETT</td>\n      <td>DAMON</td>\n      <td>36</td>\n    </tr>\n    <tr>\n      <th>6</th>\n      <td>158</td>\n      <td>VIVIEN</td>\n      <td>BASINGER</td>\n      <td>35</td>\n    </tr>\n    <tr>\n      <th>7</th>\n      <td>144</td>\n      <td>ANGELA</td>\n      <td>WITHERSPOON</td>\n      <td>35</td>\n    </tr>\n    <tr>\n      <th>8</th>\n      <td>106</td>\n      <td>GROUCHO</td>\n      <td>DUNST</td>\n      <td>35</td>\n    </tr>\n    <tr>\n      <th>9</th>\n      <td>60</td>\n      <td>HENRY</td>\n      <td>BERRY</td>\n      <td>35</td>\n    </tr>\n  </tbody>\n</table>\n</div>"
     },
     "metadata": {},
     "execution_count": 76
    }
   ],
   "source": [
    "#10 aktor/aktris yang paling banyak membintangi film\n",
    "sql_df(\n",
    "'''\n",
    "select a.actor_id, a.first_name, a.last_name, count(f.film_id) as jumlah_Movie\n",
    "from actor_info a, film_actor f\n",
    "where a.actor_id = f.actor_id\n",
    "group by a.actor_id, a.first_name, a.last_name\n",
    "order by jumlah_Movie desc, actor_id desc\n",
    "limit 10;\n",
    "'''\n",
    "    \n",
    ")"
   ]
  },
  {
   "source": [
    "### Soal 4"
   ],
   "cell_type": "markdown",
   "metadata": {}
  },
  {
   "cell_type": "code",
   "execution_count": 79,
   "metadata": {},
   "outputs": [
    {
     "output_type": "execute_result",
     "data": {
      "text/plain": [
       "       category  jumlah_Movie\n",
       "0   Documentary             3\n",
       "1       Foreign             2\n",
       "2         Music             4\n",
       "3           New             1\n",
       "4        Sci-Fi             7\n",
       "5        Action             3\n",
       "6         Drama             2\n",
       "7     Animation             4\n",
       "8        Horror             1\n",
       "9        Family             4\n",
       "10       Comedy             3\n",
       "11     Children             2\n",
       "12     Classics             2\n",
       "13       Sports             2\n",
       "14        Games             1\n",
       "15       Travel             1"
      ],
      "text/html": "<div>\n<style scoped>\n    .dataframe tbody tr th:only-of-type {\n        vertical-align: middle;\n    }\n\n    .dataframe tbody tr th {\n        vertical-align: top;\n    }\n\n    .dataframe thead th {\n        text-align: right;\n    }\n</style>\n<table border=\"1\" class=\"dataframe\">\n  <thead>\n    <tr style=\"text-align: right;\">\n      <th></th>\n      <th>category</th>\n      <th>jumlah_Movie</th>\n    </tr>\n  </thead>\n  <tbody>\n    <tr>\n      <th>0</th>\n      <td>Documentary</td>\n      <td>3</td>\n    </tr>\n    <tr>\n      <th>1</th>\n      <td>Foreign</td>\n      <td>2</td>\n    </tr>\n    <tr>\n      <th>2</th>\n      <td>Music</td>\n      <td>4</td>\n    </tr>\n    <tr>\n      <th>3</th>\n      <td>New</td>\n      <td>1</td>\n    </tr>\n    <tr>\n      <th>4</th>\n      <td>Sci-Fi</td>\n      <td>7</td>\n    </tr>\n    <tr>\n      <th>5</th>\n      <td>Action</td>\n      <td>3</td>\n    </tr>\n    <tr>\n      <th>6</th>\n      <td>Drama</td>\n      <td>2</td>\n    </tr>\n    <tr>\n      <th>7</th>\n      <td>Animation</td>\n      <td>4</td>\n    </tr>\n    <tr>\n      <th>8</th>\n      <td>Horror</td>\n      <td>1</td>\n    </tr>\n    <tr>\n      <th>9</th>\n      <td>Family</td>\n      <td>4</td>\n    </tr>\n    <tr>\n      <th>10</th>\n      <td>Comedy</td>\n      <td>3</td>\n    </tr>\n    <tr>\n      <th>11</th>\n      <td>Children</td>\n      <td>2</td>\n    </tr>\n    <tr>\n      <th>12</th>\n      <td>Classics</td>\n      <td>2</td>\n    </tr>\n    <tr>\n      <th>13</th>\n      <td>Sports</td>\n      <td>2</td>\n    </tr>\n    <tr>\n      <th>14</th>\n      <td>Games</td>\n      <td>1</td>\n    </tr>\n    <tr>\n      <th>15</th>\n      <td>Travel</td>\n      <td>1</td>\n    </tr>\n  </tbody>\n</table>\n</div>"
     },
     "metadata": {},
     "execution_count": 79
    }
   ],
   "source": [
    "#tampilkan jumlah film by category yang dibintangi Gina Degeneres (actor_id = 107 berdasarkan output soal 3)\n",
    "sql_df(\n",
    "'''\n",
    "select l.category, count(l.FID) as jumlah_Movie\n",
    "from film_list l, film_actor a\n",
    "where l.FID = a.film_id and a.actor_id = 107\n",
    "group by l.category;\n",
    "'''\n",
    "    \n",
    ")"
   ]
  },
  {
   "source": [
    "### Soal 5"
   ],
   "cell_type": "markdown",
   "metadata": {}
  },
  {
   "cell_type": "code",
   "execution_count": 83,
   "metadata": {},
   "outputs": [
    {
     "output_type": "execute_result",
     "data": {
      "text/plain": [
       "                 title category\n",
       "0  CHARIOTS CONSPIRACY   Sci-Fi\n",
       "1  COLDBLOODED DARLING   Sci-Fi\n",
       "2       FRISCO FORREST   Sci-Fi\n",
       "3    GOODFELLAS SALUTE   Sci-Fi\n",
       "4      LICENSE WEEKEND   Sci-Fi\n",
       "5         OPEN AFRICAN   Sci-Fi\n",
       "6  SPIRITED CASUALTIES   Sci-Fi"
      ],
      "text/html": "<div>\n<style scoped>\n    .dataframe tbody tr th:only-of-type {\n        vertical-align: middle;\n    }\n\n    .dataframe tbody tr th {\n        vertical-align: top;\n    }\n\n    .dataframe thead th {\n        text-align: right;\n    }\n</style>\n<table border=\"1\" class=\"dataframe\">\n  <thead>\n    <tr style=\"text-align: right;\">\n      <th></th>\n      <th>title</th>\n      <th>category</th>\n    </tr>\n  </thead>\n  <tbody>\n    <tr>\n      <th>0</th>\n      <td>CHARIOTS CONSPIRACY</td>\n      <td>Sci-Fi</td>\n    </tr>\n    <tr>\n      <th>1</th>\n      <td>COLDBLOODED DARLING</td>\n      <td>Sci-Fi</td>\n    </tr>\n    <tr>\n      <th>2</th>\n      <td>FRISCO FORREST</td>\n      <td>Sci-Fi</td>\n    </tr>\n    <tr>\n      <th>3</th>\n      <td>GOODFELLAS SALUTE</td>\n      <td>Sci-Fi</td>\n    </tr>\n    <tr>\n      <th>4</th>\n      <td>LICENSE WEEKEND</td>\n      <td>Sci-Fi</td>\n    </tr>\n    <tr>\n      <th>5</th>\n      <td>OPEN AFRICAN</td>\n      <td>Sci-Fi</td>\n    </tr>\n    <tr>\n      <th>6</th>\n      <td>SPIRITED CASUALTIES</td>\n      <td>Sci-Fi</td>\n    </tr>\n  </tbody>\n</table>\n</div>"
     },
     "metadata": {},
     "execution_count": 83
    }
   ],
   "source": [
    "#daftar judul film scifi yang pernah dibintangi oleh Gina Degeneres\n",
    "sql_df(\n",
    "'''\n",
    "select t.title, l.category\n",
    "from film_actor a inner join film_list l on a.film_id = l.FID\n",
    "inner join film_text t on l.FID = t.film_id\n",
    "where a.actor_id = 107 and l.category = \"Sci-Fi\";\n",
    "'''\n",
    "    \n",
    ")"
   ]
  }
 ]
}